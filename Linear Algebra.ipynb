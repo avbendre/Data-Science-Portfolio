{
 "cells": [
  {
   "cell_type": "markdown",
   "metadata": {},
   "source": [
    "# MODULE - SCALAR VECTOR AND MATRIX"
   ]
  },
  {
   "cell_type": "markdown",
   "metadata": {},
   "source": [
    "#### Scalar"
   ]
  },
  {
   "cell_type": "code",
   "execution_count": 1,
   "metadata": {},
   "outputs": [
    {
     "name": "stdout",
     "output_type": "stream",
     "text": [
      "50\n",
      "1.989e+30\n",
      "21196\n"
     ]
    }
   ],
   "source": [
    "# Define few scalars as follows\n",
    "number_of_units = 50\n",
    "mass_of_sun = 1.989e30\n",
    "length_great_wall_of_china = 21196\n",
    "print(number_of_units)\n",
    "print(mass_of_sun)\n",
    "print(length_great_wall_of_china)"
   ]
  },
  {
   "cell_type": "markdown",
   "metadata": {},
   "source": [
    "### Vectors\n",
    "#### Create a column vector"
   ]
  },
  {
   "cell_type": "code",
   "execution_count": 1,
   "metadata": {},
   "outputs": [
    {
     "name": "stdout",
     "output_type": "stream",
     "text": [
      "A column vector\n",
      " [[  4   5   6   6]\n",
      " [  3   6   4   4]\n",
      " [  5 555  65   6]\n",
      " [  8   8   8   8]]\n",
      "Shape of vector= (4, 4)\n"
     ]
    }
   ],
   "source": [
    "# importing required libraries (numpy as np)\n",
    "import numpy as np\n",
    "# creating a column vector with 2 row and 1 columns using np.array() function\n",
    "col_vec = np.array([[4,5,6,6],[3,6,4,4],[5,555,65,6],[8,8,8,8]])\n",
    "print (\"A column vector\\n\",col_vec)\n",
    "# printing the shape of the vector\n",
    "print(\"Shape of vector=\",col_vec.shape)"
   ]
  },
  {
   "cell_type": "markdown",
   "metadata": {},
   "source": [
    "#### Create a row vector\n"
   ]
  },
  {
   "cell_type": "code",
   "execution_count": 14,
   "metadata": {},
   "outputs": [
    {
     "name": "stdout",
     "output_type": "stream",
     "text": [
      "A row vector\n",
      " [[ 4 -1  2]]\n",
      "Shape of vector= (1, 3)\n"
     ]
    }
   ],
   "source": [
    "# importing required libraries (numpy as np)\n",
    "import numpy as np\n",
    "# creating a row vector with 1 row and 3 columns using np.array() function\n",
    "row_vec = np.array([[4,-1,2]])\n",
    "print(\"A row vector\\n\",row_vec)\n",
    "# printing the shape of the vector\n",
    "print(\"Shape of vector=\",row_vec.shape)"
   ]
  },
  {
   "cell_type": "code",
   "execution_count": 4,
   "metadata": {},
   "outputs": [
    {
     "name": "stdout",
     "output_type": "stream",
     "text": [
      "[[1 0 0]\n",
      " [0 1 0]\n",
      " [0 0 1]]\n"
     ]
    }
   ],
   "source": [
    "mg_v=np.array([[1,0,0],\n",
    "               [0,1,0],\n",
    "               [0,0,1]])\n",
    "print(mg_v)"
   ]
  },
  {
   "cell_type": "code",
   "execution_count": 4,
   "metadata": {},
   "outputs": [
    {
     "name": "stdout",
     "output_type": "stream",
     "text": [
      "[0 0 0]\n",
      "[0. 0. 0.]\n",
      "[[0.]\n",
      " [0.]\n",
      " [0.]]\n"
     ]
    }
   ],
   "source": [
    "# importing required libraries (numpy as np)\n",
    "import numpy as np\n",
    "\n",
    "#Illustrating a Zero vector of dimension 3 using np.array() function\n",
    "zero_vector_1=np.array([0,0,0])\n",
    "print(zero_vector_1)\n",
    "\n",
    "#Illustrating a Zero vector of dimension 3 using np.zeros() function\n",
    "zero_vector_2=np.zeros(3)\n",
    "print(zero_vector_2)\n",
    "\n",
    "#Illustrating a Zero column vector of dimension 3 using np.zeros() function with reshape() function to change the dimensions\n",
    "zero_vector_3=np.zeros(3).reshape(3,-1)\n",
    "print(zero_vector_3)"
   ]
  },
  {
   "cell_type": "code",
   "execution_count": 5,
   "metadata": {},
   "outputs": [
    {
     "name": "stdout",
     "output_type": "stream",
     "text": [
      "[1 1 1]\n",
      "[1. 1. 1.]\n",
      "[[1.]\n",
      " [1.]\n",
      " [1.]]\n"
     ]
    }
   ],
   "source": [
    "# importing required libraries (numpy as np)\n",
    "import numpy as np\n",
    "\n",
    "#Illustrating a One vector dimension 3 using np.array() function\n",
    "one_vector_1=np.array([1,1,1])\n",
    "print(one_vector_1)\n",
    "\n",
    "#Illustrating a One vector of dimension 3 using np.zeros() function\n",
    "one_vector_2=np.ones(3)\n",
    "print(one_vector_2)\n",
    "\n",
    "#Illustrating a One column vector of dimension 3 using np.zeros() function with reshape() function to change the dimensions\n",
    "one_vector_3=np.ones(3).reshape(3,-1)\n",
    "print(one_vector_3)"
   ]
  },
  {
   "cell_type": "code",
   "execution_count": 10,
   "metadata": {},
   "outputs": [
    {
     "name": "stdout",
     "output_type": "stream",
     "text": [
      "The vector\n",
      " [[ 4  3  4]\n",
      " [-1  5  3]\n",
      " [ 2  5  4]]\n",
      "\n",
      "Element at position 1= [4 3 4]\n"
     ]
    }
   ],
   "source": [
    "# importing required libraries (numpy as np)\n",
    "import numpy as np\n",
    "vector=np.array([[4,3,4],[-1,5,3],[2,5,4]])\n",
    "print(\"The vector\\n\",vector)\n",
    "#Addressing a value of vector by index\n",
    "print(\"\\nElement at position 1=\",vector[0])\n"
   ]
  },
  {
   "cell_type": "code",
   "execution_count": 11,
   "metadata": {
    "scrolled": true
   },
   "outputs": [
    {
     "name": "stdout",
     "output_type": "stream",
     "text": [
      "\n",
      "Magnitude of the vector =  4.242640687119285\n"
     ]
    }
   ],
   "source": [
    "# importing required libraries (numpy as np)\n",
    "import numpy as np\n",
    "#Create a vector\n",
    "vector=np.array([3,3])\n",
    "#Magnitude of vector can be found using function np.linalg.norm() function\n",
    "print(\"\\nMagnitude of the vector = \",np.linalg.norm(vector))\n"
   ]
  },
  {
   "cell_type": "code",
   "execution_count": 6,
   "metadata": {},
   "outputs": [
    {
     "name": "stdout",
     "output_type": "stream",
     "text": [
      "The vector\n",
      " [[ 4]\n",
      " [-1]\n",
      " [ 2]]\n",
      "\n",
      "Element at position 1= [-1]\n"
     ]
    }
   ],
   "source": [
    "# importing required libraries (numpy as np)\n",
    "import numpy as np\n",
    "vector=np.array([[4],[-1],[2]])\n",
    "print(\"The vector\\n\",vector)\n",
    "\n",
    "#Addressing a value of vector by index\n",
    "print(\"\\nElement at position 1=\",vector[1])"
   ]
  },
  {
   "cell_type": "code",
   "execution_count": 7,
   "metadata": {},
   "outputs": [
    {
     "name": "stdout",
     "output_type": "stream",
     "text": [
      "\n",
      "Magnitude of the vector =  4.242640687119285\n"
     ]
    }
   ],
   "source": [
    "# importing required libraries (numpy as np)\n",
    "import numpy as np\n",
    "\n",
    "#Create a vector\n",
    "vector=np.array([3,3])\n",
    "\n",
    "#Magnitude of vector can be found using function np.linag.norm() function\n",
    "print(\"\\nMagnitude of the vector = \",np.linalg.norm(vector))"
   ]
  },
  {
   "cell_type": "markdown",
   "metadata": {},
   "source": [
    "#### Matrix"
   ]
  },
  {
   "cell_type": "code",
   "execution_count": 8,
   "metadata": {},
   "outputs": [
    {
     "name": "stdout",
     "output_type": "stream",
     "text": [
      "2x2 Matrix\n",
      " [[1 2]\n",
      " [3 4]] \n",
      "shape of matrix ->  (2, 2)\n",
      "\n",
      "3x3 Matrix\n",
      " [[ 1  2  3]\n",
      " [ 4  5  6]\n",
      " [ 8  9 10]] \n",
      "shape of matrix ->  (3, 3)\n"
     ]
    }
   ],
   "source": [
    "# importing required libraries (numpy as np)\n",
    "import numpy as np\n",
    "# Creating matrices of various dimension using np.array() function\n",
    "matrix_2x2 = np.array([[1, 2], \n",
    "                       [3, 4]])\n",
    "matrix_3x3 = np.array([[1, 2, 3],\n",
    "                       [4, 5, 6],\n",
    "                       [8, 9, 10]])\n",
    "\n",
    "# printing of the matrix and it's dimensions\n",
    "print(\"2x2 Matrix\\n\",matrix_2x2,\"\\nshape of matrix -> \",matrix_2x2.shape)\n",
    "print(\"\\n3x3 Matrix\\n\",matrix_3x3,\"\\nshape of matrix -> \",matrix_3x3.shape)"
   ]
  },
  {
   "cell_type": "code",
   "execution_count": 21,
   "metadata": {},
   "outputs": [
    {
     "name": "stdout",
     "output_type": "stream",
     "text": [
      "2x2 Matrix\n",
      " [[1 2]\n",
      " [3 4]] \n",
      "shape of matrix ->  (2, 2)\n",
      "[[1 3]\n",
      " [2 4]]\n",
      "\n",
      "3x3 Matrix\n",
      " [[ 1  2  3]\n",
      " [ 4  5  6]\n",
      " [ 8  9 10]] \n",
      "shape of matrix ->  (3, 3)\n",
      "18.33030277982336\n",
      "[1. 1. 1.]\n"
     ]
    }
   ],
   "source": [
    "# importing required libraries (numpy as np)\n",
    "import numpy as np\n",
    "# Creating matrices of various dimension using np.array() function\n",
    "matrix_2x2 = np.array([[1, 2], \n",
    "                       [3, 4]])\n",
    "matrix_3x3 = np.array([[1, 2, 3],\n",
    "                       [4, 5, 6],\n",
    "                       [8, 9, 10]])\n",
    "\n",
    "# printing of the matrix and it's dimensions\n",
    "print(\"2x2 Matrix\\n\",matrix_2x2,\"\\nshape of matrix -> \",matrix_2x2.shape)\n",
    "print(np.transpose(matrix_2x2))\n",
    "print(\"\\n3x3 Matrix\\n\",matrix_3x3,\"\\nshape of matrix -> \",matrix_3x3.shape)\n",
    "td=np.linalg.norm(matrix_3x3)\n",
    "print(td)\n",
    "\n",
    "\n",
    "matrix_3x3v2=np.ones(3)\n",
    "print(matrix_3x3v2)"
   ]
  },
  {
   "cell_type": "code",
   "execution_count": 9,
   "metadata": {},
   "outputs": [],
   "source": [
    "# importing required libraries (numpy as np)\n",
    "import numpy as np\n",
    "# Creating a 3x2 Matrix \"A\"\n",
    "A = np.array([[2,-2],[3,1],[1,4]])"
   ]
  },
  {
   "cell_type": "code",
   "execution_count": 10,
   "metadata": {},
   "outputs": [
    {
     "name": "stdout",
     "output_type": "stream",
     "text": [
      "Element of matrix A at index position [2,1] is 4\n"
     ]
    }
   ],
   "source": [
    "#selecting an element at row index 2 and column index 1\n",
    "print(\"Element of matrix A at index position [2,1] is\", A[2,1])"
   ]
  },
  {
   "cell_type": "code",
   "execution_count": 2,
   "metadata": {
    "scrolled": true
   },
   "outputs": [
    {
     "name": "stdout",
     "output_type": "stream",
     "text": [
      "Matrix A:\n",
      " [[ 2 -2]\n",
      " [ 3  1]\n",
      " [ 1  4]]\n",
      "Matrix A Transpose: \n",
      " [[ 2  3  1]\n",
      " [-2  1  4]]\n"
     ]
    }
   ],
   "source": [
    "# importing required libraries (numpy as np)\n",
    "import numpy as np\n",
    "# Creating a 3x2 Matrix \"A\"\n",
    "A = np.array([[2,-2],[3,1],[1,4]])\n",
    "print(\"Matrix A:\\n\",A)\n",
    "\n",
    "# Finding transpose of a matrix using the function transpose()\n",
    "print(\"Matrix A Transpose: \\n\",np.transpose(A))"
   ]
  },
  {
   "cell_type": "code",
   "execution_count": 21,
   "metadata": {},
   "outputs": [
    {
     "name": "stdout",
     "output_type": "stream",
     "text": [
      "[1. 1. 1. 1.]\n",
      "[1. 1. 1. 1.]\n",
      "[[1 2 3]\n",
      " [4 5 6]\n",
      " [7 8 9]]\n",
      "[[1 4 7]\n",
      " [2 5 8]\n",
      " [3 6 9]]\n"
     ]
    }
   ],
   "source": [
    "zero_vector_3=np.ones(4).reshape(4)\n",
    "print(zero_vector_3)\n",
    "print(np.transpose(zero_vector_3))\n",
    "\n",
    "vect_1=np.array([[1,2,3],[4,5,6],[7,8,9]])\n",
    "print(vect_1)\n",
    "print(np.transpose(vect_1))\n"
   ]
  },
  {
   "cell_type": "markdown",
   "metadata": {},
   "source": [
    "### Diagonal Matrix"
   ]
  },
  {
   "cell_type": "code",
   "execution_count": 2,
   "metadata": {
    "scrolled": true
   },
   "outputs": [
    {
     "name": "stdout",
     "output_type": "stream",
     "text": [
      "[[1 0 0]\n",
      " [0 3 0]\n",
      " [0 0 2]]\n",
      "[[1 0 0]\n",
      " [0 3 0]\n",
      " [0 0 5]]\n"
     ]
    }
   ],
   "source": [
    "# importing required libraries (numpy as np)\n",
    "import numpy as np\n",
    "# Creatings a diagonal matrix with diagonal elements as (1,3,2)\n",
    "diagonal_matrix = np.diag((1,3,2))\n",
    "print(diagonal_matrix)\n",
    "\n",
    "# Creating a diagonal matrix with a range of values\n",
    "matrix_range= np.diag(np.arange(1,6,2))\n",
    "print(matrix_range)"
   ]
  },
  {
   "cell_type": "code",
   "execution_count": 46,
   "metadata": {},
   "outputs": [
    {
     "name": "stdout",
     "output_type": "stream",
     "text": [
      "[[1 0 0]\n",
      " [0 3 0]\n",
      " [0 0 2]]\n",
      "[[1 0 0]\n",
      " [0 3 0]\n",
      " [0 0 5]]\n",
      "[[0 0 1 0 0]\n",
      " [0 0 0 2 0]\n",
      " [0 0 0 0 3]\n",
      " [0 0 0 0 0]\n",
      " [0 0 0 0 0]]\n"
     ]
    }
   ],
   "source": [
    "# importing required libraries (numpy as np)\n",
    "import numpy as np\n",
    "# Creatings a diagonal matrix with diagonal elements as (1,3,2)\n",
    "diagonal_matrix = np.diag((1,3,2))\n",
    "print(diagonal_matrix)\n",
    "\n",
    "# Creating a diagonal matrix with a range of values\n",
    "matrix_range= np.diag(np.arange(1,6,2))\n",
    "print(matrix_range)\n",
    "maxt=np.diag(np.arange(1,10,1))\n",
    "maxt2=np.diag((1,2,3),2)\n",
    "print(maxt2)"
   ]
  },
  {
   "cell_type": "markdown",
   "metadata": {},
   "source": [
    "### Identity Matrix"
   ]
  },
  {
   "cell_type": "code",
   "execution_count": 22,
   "metadata": {},
   "outputs": [
    {
     "name": "stdout",
     "output_type": "stream",
     "text": [
      "Identity_matrix 1\n",
      " [[1. 0.]\n",
      " [0. 1.]]\n",
      "\n",
      "Identity_matrix 2\n",
      " [[1. 0. 0.]\n",
      " [0. 1. 0.]\n",
      " [0. 0. 1.]]\n"
     ]
    }
   ],
   "source": [
    "# importing required libraries (numpy as np)\n",
    "import numpy as np\n",
    "#Creating an Identity matrix of size 2 using np.identity() function\n",
    "identity_matrix_1 = np.identity(2)\n",
    "print(\"Identity_matrix 1\\n\",identity_matrix_1)\n",
    "\n",
    "#Creating an Identity matrix of size 3 using np.eye() fucntion\n",
    "identity_matrix_2 = np.eye(3)\n",
    "print(\"\\nIdentity_matrix 2\\n\",identity_matrix_2)"
   ]
  },
  {
   "cell_type": "code",
   "execution_count": 49,
   "metadata": {},
   "outputs": [
    {
     "name": "stdout",
     "output_type": "stream",
     "text": [
      "\n",
      "Identity_matrix 2\n",
      " [[1. 0. 0. 0. 0.]\n",
      " [0. 1. 0. 0. 0.]\n",
      " [0. 0. 1. 0. 0.]\n",
      " [0. 0. 0. 1. 0.]\n",
      " [0. 0. 0. 0. 1.]]\n",
      "(5, 5)\n",
      "[[1. 0. 0. 0. 0.]\n",
      " [0. 1. 0. 0. 0.]\n",
      " [0. 0. 1. 0. 0.]\n",
      " [0. 0. 0. 1. 0.]\n",
      " [0. 0. 0. 0. 1.]]\n",
      "[[1. 0. 0.]\n",
      " [0. 1. 0.]\n",
      " [0. 0. 1.]]\n",
      "[[1. 0. 0.]\n",
      " [0. 1. 0.]\n",
      " [0. 0. 1.]]\n"
     ]
    }
   ],
   "source": [
    "identity_matrix_2 = np.identity(5)\n",
    "print(\"\\nIdentity_matrix 2\\n\",identity_matrix_2)\n",
    "print(identity_matrix_2.shape)\n",
    "print(np.transpose(identity_matrix_2))\n",
    "identity_matrix_4 = np.identity(3)\n",
    "print(identity_matrix_4 )\n",
    "identity_matrix_5 = np.eye(3)\n",
    "print(identity_matrix_5)\n",
    "\n"
   ]
  },
  {
   "cell_type": "markdown",
   "metadata": {},
   "source": [
    "### Symmetric Matrix"
   ]
  },
  {
   "cell_type": "code",
   "execution_count": 14,
   "metadata": {},
   "outputs": [
    {
     "name": "stdout",
     "output_type": "stream",
     "text": [
      "a:\n",
      " [[ 2  3  1]\n",
      " [ 3  4 -1]\n",
      " [ 1 -1  1]]\n",
      "Transpose of a:\n",
      " [[ 2  3  1]\n",
      " [ 3  4 -1]\n",
      " [ 1 -1  1]]\n",
      "True\n"
     ]
    }
   ],
   "source": [
    "# importing required libraries (numpy as np)\n",
    "import numpy as np\n",
    "#Creating matrix a\n",
    "a = np.array([[2,3,1],\n",
    "            [3,4,-1],\n",
    "            [1,-1,1]])\n",
    "print(\"a:\\n\" , a)\n",
    "\n",
    "# Finding the Transpose of the matrix\n",
    "transposed_matrix = a.transpose()\n",
    "print(\"Transpose of a:\\n\" , transposed_matrix)\n",
    "\n",
    "#Comparing each elements of both matrices (returns a matrix of boolean compared values) and saving it in a varible comparision\n",
    "comparison = (a == transposed_matrix)\n",
    "\n",
    "#Checking if all the elements in the matrix comparision is true\n",
    "equal_arrays = comparison.all()\n",
    "print(equal_arrays)"
   ]
  },
  {
   "cell_type": "code",
   "execution_count": 55,
   "metadata": {},
   "outputs": [
    {
     "name": "stdout",
     "output_type": "stream",
     "text": [
      "a:\n",
      " [[ 2  3  1]\n",
      " [ 3  4 -1]\n",
      " [ 1 -1  1]]\n",
      "True\n"
     ]
    }
   ],
   "source": [
    "# importing required libraries (numpy as np)\n",
    "import numpy as np\n",
    "#Creating matrix a\n",
    "a = np.array([[2,3,1],\n",
    "            [3,4,-1],\n",
    "            [1,-1,1]])\n",
    "print(\"a:\\n\" , a)\n",
    "\n",
    "transposed_mat=a.transpose()\n",
    "comparison = a==transposed_mat\n",
    "equal_arrays = comparison.all()\n",
    "print(equal_arrays)"
   ]
  },
  {
   "cell_type": "markdown",
   "metadata": {},
   "source": [
    "### Triangular Matrix"
   ]
  },
  {
   "cell_type": "code",
   "execution_count": 15,
   "metadata": {},
   "outputs": [
    {
     "name": "stdout",
     "output_type": "stream",
     "text": [
      "Lower triangular matrix\n",
      " [[1 0 0]\n",
      " [4 5 0]\n",
      " [7 8 9]]\n"
     ]
    }
   ],
   "source": [
    "# importing required libraries (numpy as np)\n",
    "import numpy as np\n",
    "#Creating a lower triangular matrix\n",
    "lower_triangular_matrix_1 = np.tril([[1,2,3],\n",
    "                               [4,5,6],\n",
    "                               [7,8,9]])\n",
    "print(\"Lower triangular matrix\\n\",lower_triangular_matrix_1)"
   ]
  },
  {
   "cell_type": "code",
   "execution_count": 38,
   "metadata": {},
   "outputs": [
    {
     "name": "stdout",
     "output_type": "stream",
     "text": [
      "[[1 0 0]\n",
      " [4 5 0]\n",
      " [7 8 9]]\n",
      "[[1 2 3]\n",
      " [0 5 6]\n",
      " [0 0 9]]\n"
     ]
    }
   ],
   "source": [
    "lowerTriangular=np.tril(vect_1)\n",
    "print(lowerTriangular)\n",
    "upperTriangular=np.triu(vect_1)\n",
    "print(upperTriangular)"
   ]
  },
  {
   "cell_type": "code",
   "execution_count": 16,
   "metadata": {},
   "outputs": [
    {
     "name": "stdout",
     "output_type": "stream",
     "text": [
      "Upper triangular matrix\n",
      " [[1 2 3]\n",
      " [0 5 6]\n",
      " [0 0 9]]\n"
     ]
    }
   ],
   "source": [
    "# importing required libraries (numpy as np)\n",
    "import numpy as np\n",
    "#Creating a Upper triangular matrix\n",
    "upper_triangular_matrix_1 = np.triu([[1,2,3],\n",
    "                               [4,5,6],\n",
    "                               [7,8,9]])\n",
    "print(\"Upper triangular matrix\\n\",upper_triangular_matrix_1)"
   ]
  },
  {
   "cell_type": "markdown",
   "metadata": {},
   "source": [
    "# Exercise"
   ]
  },
  {
   "cell_type": "code",
   "execution_count": 79,
   "metadata": {},
   "outputs": [
    {
     "name": "stdout",
     "output_type": "stream",
     "text": [
      "[[1 2 3]\n",
      " [4 5 6]\n",
      " [7 8 9]]\n",
      "[[1 2 3]\n",
      " [0 5 6]\n",
      " [0 0 9]]\n",
      "[[1 0 0]\n",
      " [0 5 0]\n",
      " [0 0 9]]\n",
      "[[1 2 3]\n",
      " [2 1 4]\n",
      " [3 4 1]]\n",
      "True\n",
      "[[1 0 0]\n",
      " [0 5 0]\n",
      " [0 0 9]]\n"
     ]
    }
   ],
   "source": [
    "import numpy as np\n",
    "mat1=np.array([[1,2,3],[4,5,6],[7,8,9]])\n",
    "print(mat1)\n",
    "uptr=np.triu(mat1)\n",
    "print(uptr)\n",
    "lotr=np.tril(uptr)\n",
    "print(lotr)\n",
    "symmat=np.array([[1,2,3],[2,1,4],[3,4,1]])\n",
    "print(symmat)\n",
    "symtra= symmat.transpose()\n",
    "comp= symtra==symmat\n",
    "chkall=comp.all()\n",
    "print(chkall)\n",
    "diamat=np.diag(np.diag(lotr))\n",
    "print(diamat)\n",
    "\n",
    "diamat1="
   ]
  },
  {
   "cell_type": "code",
   "execution_count": 78,
   "metadata": {},
   "outputs": [
    {
     "name": "stdout",
     "output_type": "stream",
     "text": [
      "[[1 2 3]\n",
      " [4 5 6]\n",
      " [7 8 9]]\n",
      "[[1 2 3]\n",
      " [0 5 6]\n",
      " [0 0 9]]\n",
      "[[1 0 0]\n",
      " [0 5 0]\n",
      " [0 0 9]]\n",
      "[[1 0 0]\n",
      " [0 5 0]\n",
      " [0 0 9]]\n",
      "[1 5 9]\n",
      "[[ True False False]\n",
      " [False  True False]\n",
      " [False False  True]]\n"
     ]
    }
   ],
   "source": [
    "import numpy as np\n",
    "a=np.array([[1,2,3],[4,5,6],[7,8,9]])\n",
    "print(a)\n",
    "b=(np.triu(a))\n",
    "print(b)\n",
    "c=np.tril(b)\n",
    "print(c)\n",
    "d=np.transpose(c)\n",
    "print(d)\n",
    "print(np.diag(c))\n",
    "e=(c==np.diag(c))\n",
    "print(e)"
   ]
  },
  {
   "cell_type": "markdown",
   "metadata": {},
   "source": [
    "# MODULE - Operations over vectors and matrices"
   ]
  },
  {
   "cell_type": "markdown",
   "metadata": {},
   "source": [
    "### Vector Addition"
   ]
  },
  {
   "cell_type": "code",
   "execution_count": 91,
   "metadata": {},
   "outputs": [
    {
     "name": "stdout",
     "output_type": "stream",
     "text": [
      "1st  Vector :   [[ 2 -1  1]]\n",
      "2nd  Vector :   [[ 1  2 -1]]\n",
      "Added Vector :  [[11 12  9]]\n"
     ]
    }
   ],
   "source": [
    "# importing required libraries (numpy as np)\n",
    "import numpy as np\n",
    "#Create 2 vectors\n",
    "vector_1 = np.array([[2, -1, 1]]) \n",
    "vector_2 = np.array([[1, 2, -1]])\n",
    "vect_3=np.array([[10,10,10]])\n",
    "   \n",
    "print (\"1st  Vector :  \", vector_1)  \n",
    "print (\"2nd  Vector :  \", vector_2)  \n",
    "\n",
    "# Addition of the vectors using the function np.add()\n",
    "out = np.add( vector_2, vect_3, vector_2)  \n",
    "print (\"Added Vector : \", out)"
   ]
  },
  {
   "cell_type": "markdown",
   "metadata": {},
   "source": [
    "### Matrix Addition"
   ]
  },
  {
   "cell_type": "code",
   "execution_count": 99,
   "metadata": {},
   "outputs": [
    {
     "name": "stdout",
     "output_type": "stream",
     "text": [
      "1st  Matrix : \n",
      " [[ 10  20  30]\n",
      " [-30 -40 -50]]\n",
      "2nd  Matrix : \n",
      " [[ 100 -200  300]\n",
      " [  30   50   70]]\n",
      "Added Matrix : \n",
      " [[ 110 -180  330]\n",
      " [   0   10   20]]\n"
     ]
    }
   ],
   "source": [
    "# importing required libraries (numpy as np)\n",
    "import numpy as np\n",
    "# Creation of 2 matrices\n",
    "matrix_1 = np.array([[10,20,30],\n",
    "                     [-30,-40,-50]]) \n",
    "matrix_2 = np.array([[100,-200,300],\n",
    "                     [30,50,70]]) \n",
    "mat3=np.array([[-50,-50,-50],\n",
    "             [10,10,10]])\n",
    "print (\"1st  Matrix : \\n\", matrix_1)  \n",
    "print (\"2nd  Matrix : \\n\", matrix_2)  \n",
    "\n",
    "# Addition of the matrices using np.add() function\n",
    "out = np.add(matrix_1, matrix_2, mat3)  \n",
    "print (\"Added Matrix : \\n\", out)"
   ]
  },
  {
   "cell_type": "markdown",
   "metadata": {},
   "source": [
    "### Scalar Vector Multiplication"
   ]
  },
  {
   "cell_type": "code",
   "execution_count": 105,
   "metadata": {},
   "outputs": [
    {
     "name": "stdout",
     "output_type": "stream",
     "text": [
      "Vector: \n",
      " [[ 2]\n",
      " [-1]\n",
      " [ 3]] \n",
      "Scalar: 2 \n",
      "Scalar Vector multiplication:\n",
      " [[ 4]\n",
      " [-2]\n",
      " [ 6]]\n"
     ]
    }
   ],
   "source": [
    "# importing required libraries (numpy as np)\n",
    "import numpy as np\n",
    "#Defining a Vector 'v' and scalar 's'\n",
    "v = np.array([[2],[-1],[3]])\n",
    "s = 2\n",
    "#Scalar Vector Multiplication\n",
    "vector_mul = v*s \n",
    "print(\"Vector: \\n\",v,\"\\nScalar:\",s,\"\\nScalar Vector multiplication:\\n\",vector_mul)"
   ]
  },
  {
   "cell_type": "markdown",
   "metadata": {},
   "source": [
    "### Scalar Matrix Multiplication"
   ]
  },
  {
   "cell_type": "code",
   "execution_count": 20,
   "metadata": {},
   "outputs": [
    {
     "name": "stdout",
     "output_type": "stream",
     "text": [
      "Matrix:\n",
      " [[ 1  2  1]\n",
      " [-1  1  0]\n",
      " [ 2 -1  1]]\n",
      "Scalar : 2.5\n",
      "Scalar Matrix Multiplication:\n",
      " [[ 2.5  5.   2.5]\n",
      " [-2.5  2.5  0. ]\n",
      " [ 5.  -2.5  2.5]]\n"
     ]
    }
   ],
   "source": [
    "# importing required libraries (numpy as np)\n",
    "import numpy as np\n",
    "#Defining a matrix 'A' and scalar 's'\n",
    "A = np.array([[1,2,1],\n",
    "                     [-1,1,0],\n",
    "                     [2,-1,1]])\n",
    "print(\"Matrix:\\n\",A)\n",
    "s = 2.5\n",
    "print(\"Scalar :\",s)\n",
    "\n",
    "#Scalar Vector Multiplication\n",
    "matrix_mul =  s * A\n",
    "print(\"Scalar Matrix Multiplication:\\n\",matrix_mul)"
   ]
  },
  {
   "cell_type": "markdown",
   "metadata": {},
   "source": [
    "### Inner Product"
   ]
  },
  {
   "cell_type": "code",
   "execution_count": 33,
   "metadata": {},
   "outputs": [
    {
     "name": "stdout",
     "output_type": "stream",
     "text": [
      "Vector 1:\n",
      " [1 2 3]\n",
      "Vector 2:\n",
      " [1 0 3]\n",
      "Inner Product of Vector 1, Vector 2:\n",
      " 10\n"
     ]
    }
   ],
   "source": [
    "# importing required libraries (numpy as np)\n",
    "import numpy as np\n",
    "\n",
    "#Creating the vectors\n",
    "vector_1 = np.array([1,2,3]) \n",
    "vector_2 = np.array([1,0,3]) \n",
    "print(\"Vector 1:\\n\",vector_1)\n",
    "print(\"Vector 2:\\n\",vector_2)\n",
    "\n",
    "# Finding inner product of vector of same dimensions using inner() function of the NumPy library.\n",
    "inner_product_1 = np.inner(vector_1,vector_2)\n",
    "print(\"Inner Product of Vector 1, Vector 2:\\n\",inner_product_1)"
   ]
  },
  {
   "cell_type": "code",
   "execution_count": 6,
   "metadata": {},
   "outputs": [
    {
     "name": "stdout",
     "output_type": "stream",
     "text": [
      "0\n",
      "0\n"
     ]
    }
   ],
   "source": [
    "import numpy as np\n",
    "#creating vectors\n",
    "Vec1=np.array([4,3,-1])\n",
    "Vec2=np.array([-1,4,8])\n",
    "\n",
    "resVect= np.inner(Vec1,Vec2)\n",
    "dotpro= Vec1.dot(Vec2)\n",
    "print(dotpro)\n",
    "print(resVect)"
   ]
  },
  {
   "cell_type": "code",
   "execution_count": 8,
   "metadata": {},
   "outputs": [
    {
     "name": "stdout",
     "output_type": "stream",
     "text": [
      "Vector 1:\n",
      " [1 2 3]\n",
      "Vector 2:\n",
      " [1 0 3]\n",
      "Inner Product of Vector 1, Vector 2:\n",
      " 10\n",
      "10\n"
     ]
    }
   ],
   "source": [
    "# importing required libraries (numpy as np)\n",
    "import numpy as np\n",
    "#Creating the vectors\n",
    "vector_1 = np.array([1,2,3]) \n",
    "vector_2 = np.array([1,0,3]) \n",
    "print(\"Vector 1:\\n\",vector_1)\n",
    "print(\"Vector 2:\\n\",vector_2)\n",
    "# Finding inner product of vector of same dimensions using inner() function of the NumPy library.\n",
    "inner_product_1 = np.inner(vector_1,vector_2)\n",
    "print(\"Inner Product of Vector 1, Vector 2:\\n\",inner_product_1)\n",
    "dr=vector_1.dot(vector_2)\n",
    "print(dr)\n"
   ]
  },
  {
   "cell_type": "markdown",
   "metadata": {},
   "source": [
    "### Difference b/w dot product and inner product"
   ]
  },
  {
   "cell_type": "code",
   "execution_count": 10,
   "metadata": {},
   "outputs": [
    {
     "name": "stdout",
     "output_type": "stream",
     "text": [
      "Vector 1\n",
      " [[ 3]\n",
      " [-1]\n",
      " [ 2]]\n",
      "Vector 2\n",
      " [[ 2]\n",
      " [ 4]\n",
      " [-1]]\n",
      "Dot Product\n",
      " [[0]]\n",
      "[[ 6 12 -3]\n",
      " [-2 -4  1]\n",
      " [ 4  8 -2]]\n"
     ]
    }
   ],
   "source": [
    "# importing required libraries (numpy as np)\n",
    "import numpy as np\n",
    "\n",
    "#Creating vectors\n",
    "Vector_1 = np.array([[3],[-1],[2]])\n",
    "Vector_2 = np.array([[2],[4],[-1]])\n",
    "print(\"Vector 1\\n\",Vector_1)\n",
    "print(\"Vector 2\\n\",Vector_2)\n",
    "\n",
    "#Finding the transpose of Vector_1 \n",
    "trans = np.transpose(Vector_1)\n",
    "trn=np.inner(Vector_1,Vector_2)\n",
    "\n",
    "#Finding the dot product \n",
    "result = np.dot(trans,Vector_2)\n",
    "print(\"Dot Product\\n\",result)\n",
    "print(trn)"
   ]
  },
  {
   "cell_type": "markdown",
   "metadata": {},
   "source": [
    "### Angle between vector"
   ]
  },
  {
   "cell_type": "code",
   "execution_count": 12,
   "metadata": {},
   "outputs": [
    {
     "name": "stdout",
     "output_type": "stream",
     "text": [
      "v1 =  [ 3 -1  2] \n",
      "v2 =  [ 2  4 -1]\n",
      "Angle Between the vectors v1 and v2 in 'degree' is : 90.0\n"
     ]
    }
   ],
   "source": [
    "#import the library numpy\n",
    "import numpy as np\n",
    "\n",
    "# Function to find angle between two vectors\n",
    "def angle_between(vector_1, vector_2):\n",
    "    dot_pr = vector_1.dot(vector_2)\n",
    "    norms = np.linalg.norm(vector_1) * np.linalg.norm(vector_2)\n",
    "     np.arccos\n",
    "    return np.rad2deg(np.arccos(dot_pr / norms))\n",
    "# Create two vectors\n",
    "vector_1 = np.array([3,-1,2])\n",
    "vector_2 = np.array([2,4,-1]) \n",
    "\n",
    "print(\"v1 = \",vector_1,\"\\nv2 = \", vector_2)\n",
    "#Find the angle between them by using the function angle_between()\n",
    "print(\"Angle Between the vectors v1 and v2 in 'degree' is :\",angle_between(vector_1, vector_2))"
   ]
  },
  {
   "cell_type": "code",
   "execution_count": 11,
   "metadata": {},
   "outputs": [
    {
     "ename": "NameError",
     "evalue": "name 'i' is not defined",
     "output_type": "error",
     "traceback": [
      "\u001b[1;31m---------------------------------------------------------------------------\u001b[0m",
      "\u001b[1;31mNameError\u001b[0m                                 Traceback (most recent call last)",
      "\u001b[1;32m<ipython-input-11-397d543883c5>\u001b[0m in \u001b[0;36m<module>\u001b[1;34m\u001b[0m\n\u001b[1;32m----> 1\u001b[1;33m \u001b[0mi\u001b[0m\u001b[1;33m\u001b[0m\u001b[1;33m\u001b[0m\u001b[0m\n\u001b[0m",
      "\u001b[1;31mNameError\u001b[0m: name 'i' is not defined"
     ]
    }
   ],
   "source": [
    "i"
   ]
  },
  {
   "cell_type": "code",
   "execution_count": 7,
   "metadata": {},
   "outputs": [
    {
     "name": "stdout",
     "output_type": "stream",
     "text": [
      "A :\n",
      " [[1 2 3]\n",
      " [4 5 6]\n",
      " [7 8 9]]\n",
      "[[1. 2. 3.]\n",
      " [4. 5. 6.]\n",
      " [7. 8. 9.]]\n"
     ]
    }
   ],
   "source": [
    "#import the library numpy\n",
    "import numpy as np\n",
    "\n",
    "#Define a matrix\n",
    "A =  np.array([[1, 2, 3], [4, 5, 6], [7,8,9]])\n",
    "Av=np.eye(3)\n",
    "m=np.matmul(A,Av)\n",
    "\n",
    "print(\"A :\\n\", A)\n",
    "#Define a column vector\n",
    "#v = np.array([[1,3], [2,3], [3,3]])\n",
    "#print(\"v :\\n\", v)\n",
    "\n",
    "# Find product of the matrix and Vector\n",
    "#product = np.matmul(A,v)\n",
    "#pri=np.matmul(A,v)\n",
    "#print(\"Product of A and v is: \\n\", product)\n",
    "print(m)"
   ]
  },
  {
   "cell_type": "markdown",
   "metadata": {},
   "source": [
    "### Matrix Vector multiplication"
   ]
  },
  {
   "cell_type": "markdown",
   "metadata": {},
   "source": [
    "### Matrix Multiplication"
   ]
  },
  {
   "cell_type": "code",
   "execution_count": 8,
   "metadata": {},
   "outputs": [
    {
     "name": "stdout",
     "output_type": "stream",
     "text": [
      "A :\n",
      " [[1 4 7]\n",
      " [2 5 8]\n",
      " [3 6 9]]\n",
      "B :\n",
      " [[4 2 3]\n",
      " [2 0 7]]\n"
     ]
    },
    {
     "ename": "ValueError",
     "evalue": "matmul: Input operand 1 has a mismatch in its core dimension 0, with gufunc signature (n?,k),(k,m?)->(n?,m?) (size 2 is different from 3)",
     "output_type": "error",
     "traceback": [
      "\u001b[1;31m---------------------------------------------------------------------------\u001b[0m",
      "\u001b[1;31mValueError\u001b[0m                                Traceback (most recent call last)",
      "\u001b[1;32m<ipython-input-8-47c29b27bcc7>\u001b[0m in \u001b[0;36m<module>\u001b[1;34m\u001b[0m\n\u001b[0;32m     13\u001b[0m \u001b[1;33m\u001b[0m\u001b[0m\n\u001b[0;32m     14\u001b[0m \u001b[1;31m# Multiplying A and B\u001b[0m\u001b[1;33m\u001b[0m\u001b[1;33m\u001b[0m\u001b[1;33m\u001b[0m\u001b[0m\n\u001b[1;32m---> 15\u001b[1;33m \u001b[0mresult\u001b[0m\u001b[1;33m=\u001b[0m\u001b[0mnp\u001b[0m\u001b[1;33m.\u001b[0m\u001b[0mmatmul\u001b[0m\u001b[1;33m(\u001b[0m\u001b[0mA\u001b[0m\u001b[1;33m,\u001b[0m\u001b[0mB\u001b[0m\u001b[1;33m)\u001b[0m\u001b[1;33m\u001b[0m\u001b[1;33m\u001b[0m\u001b[0m\n\u001b[0m\u001b[0;32m     16\u001b[0m \u001b[0mprint\u001b[0m\u001b[1;33m(\u001b[0m\u001b[1;34m\"Matrix Multiplication: A.B :\\n\"\u001b[0m\u001b[1;33m,\u001b[0m\u001b[0mresult\u001b[0m\u001b[1;33m)\u001b[0m\u001b[1;33m\u001b[0m\u001b[1;33m\u001b[0m\u001b[0m\n",
      "\u001b[1;31mValueError\u001b[0m: matmul: Input operand 1 has a mismatch in its core dimension 0, with gufunc signature (n?,k),(k,m?)->(n?,m?) (size 2 is different from 3)"
     ]
    }
   ],
   "source": [
    "# importing required libraries (numpy as np)\n",
    "import numpy as np\n",
    "\n",
    "# Creating Matrices\n",
    "A = np.array([[1, 4, 7], \n",
    "            [2, 5, 8], \n",
    "            [3, 6, 9]])\n",
    "B = np.array([[4, 2, 3],\n",
    "            [2, 0, 7],\n",
    "            [1, 3, 0]])\n",
    "print(\"A :\\n\", A)\n",
    "print(\"B :\\n\", B)\n",
    "\n",
    "# Multiplying A and B\n",
    "result=np.matmul(A,B)\n",
    "print(\"Matrix Multiplication: A.B :\\n\",result)"
   ]
  },
  {
   "cell_type": "markdown",
   "metadata": {},
   "source": [
    "### Determinant"
   ]
  },
  {
   "cell_type": "code",
   "execution_count": 26,
   "metadata": {},
   "outputs": [
    {
     "name": "stdout",
     "output_type": "stream",
     "text": [
      "10.000000000000002\n"
     ]
    }
   ],
   "source": [
    "# importing required libraries (numpy as np)\n",
    "import numpy as np\n",
    "\n",
    "# Creating Matrix\n",
    "matrix = np.array([[10, 2], \n",
    "                  [5, 2]])\n",
    "\n",
    "#Finding the determinant\n",
    "print(np.linalg.det(matrix))"
   ]
  },
  {
   "cell_type": "markdown",
   "metadata": {},
   "source": [
    "### Matrix Inversion"
   ]
  },
  {
   "cell_type": "code",
   "execution_count": 16,
   "metadata": {},
   "outputs": [
    {
     "name": "stdout",
     "output_type": "stream",
     "text": [
      "Matrix A:\n",
      " [[1 2]\n",
      " [4 5]]\n",
      "The inverse of A is:\n",
      " [[-1.66666667  0.66666667]\n",
      " [ 1.33333333 -0.33333333]]\n",
      "Multiplication of A and Ainv is:\n",
      " [[1. 0.]\n",
      " [0. 1.]]\n"
     ]
    }
   ],
   "source": [
    "# Importing required libraries (numpy as np)\n",
    "import numpy as np\n",
    "\n",
    "# Creating Matrix A\n",
    "A = np.array([[1, 2],[4, 5]])\n",
    "\n",
    "print(\"Matrix A:\\n\", A)\n",
    "\n",
    "# Finding the inverse matrix using np.linalg.inv() function\n",
    "Ainv = np.linalg.inv(A)\n",
    "print('The inverse of A is:\\n', Ainv)\n",
    "\n",
    "print(\"Multiplication of A and Ainv is:\\n\", np.matmul(A, Ainv))"
   ]
  },
  {
   "cell_type": "markdown",
   "metadata": {},
   "source": [
    "### Orthogonal Matrix"
   ]
  },
  {
   "cell_type": "code",
   "execution_count": null,
   "metadata": {},
   "outputs": [],
   "source": [
    "Orthogonal Matrix\n",
    "Consider matrix A of dimension (n, n) where, A is called an Orthogonal matrix if,\n",
    "\n",
    "A.AT=AT.A=In\n",
    "\n",
    "where, In is the Identity matrix.\n",
    "\n",
    "For an orthogonal matrix A,\n",
    "\n",
    "A-1=AT\n",
    "\n",
    "Thus, finding inverse is as simple as transposing an orthogonal matrix."
   ]
  },
  {
   "cell_type": "code",
   "execution_count": 28,
   "metadata": {},
   "outputs": [
    {
     "name": "stdout",
     "output_type": "stream",
     "text": [
      "A:\n",
      " [[1. 0.]\n",
      " [0. 1.]]\n",
      "[[ True  True]\n",
      " [ True  True]]\n",
      "[[ True  True]\n",
      " [ True  True]]\n",
      "A it an orthogonal matrix:  True\n"
     ]
    }
   ],
   "source": [
    "# Importing required libraries (numpy as np)\n",
    "import numpy as np\n",
    "\n",
    "# Creating Matrix\n",
    "A = np.array([[1.0,0.0],\n",
    "                [0.0,1.0]])\n",
    "\n",
    "print(\"A:\\n\", A)\n",
    "#Checking for A.AT=AT.A\n",
    "comparison_1 = np.dot(A.transpose(),A) == np.dot(A,A.transpose())\n",
    "print(comparison_1)\n",
    "\n",
    "#Checking for A.AT=Identity Matrix\n",
    "comparison_2 =  np.dot(A.transpose(),A)== np.eye(2)\n",
    "print(comparison_2)\n",
    "\n",
    "# Comparing both the comparison done earlier\n",
    "comparison_3 = comparison_1 == comparison_2\n",
    "\n",
    "#Checking if all elements of matrix comparision are true.\n",
    "equal_arrays = comparison_3.all()\n",
    "print(\"A it an orthogonal matrix: \",equal_arrays)"
   ]
  },
  {
   "cell_type": "markdown",
   "metadata": {},
   "source": [
    "### Rank of a Matrix"
   ]
  },
  {
   "cell_type": "code",
   "execution_count": 29,
   "metadata": {},
   "outputs": [
    {
     "name": "stdout",
     "output_type": "stream",
     "text": [
      "The matrix A is:\n",
      " [[1. 1.]\n",
      " [3. 3.]]\n",
      "The matrix B is:\n",
      " [[1. 0. 0. 0.]\n",
      " [0. 1. 0. 0.]\n",
      " [0. 0. 1. 0.]\n",
      " [0. 0. 0. 1.]]\n",
      " Rank of A is: 1\n",
      " Rank of B is: 4\n"
     ]
    }
   ],
   "source": [
    "# Importing required libraries (numpy as np)\n",
    "import numpy as np\n",
    "\n",
    "# Creating Matrices\n",
    "A = np.array([[1,1.0],[3,3]])\n",
    "print('The matrix A is:\\n', A)\n",
    "\n",
    "B = np.eye(4)\n",
    "\n",
    "print('The matrix B is:\\n', B)\n",
    "\n",
    "\n",
    "# Finding the rank of matrix a using np.linalg.matrix_rank() function\n",
    "print(\" Rank of A is:\",np.linalg.matrix_rank(A))\n",
    "\n",
    "# Finding the rank of matrix b using np.linalg.matrix_rank() function\n",
    "print(\" Rank of B is:\",np.linalg.matrix_rank(B))"
   ]
  },
  {
   "cell_type": "markdown",
   "metadata": {},
   "source": [
    "### Exercise"
   ]
  },
  {
   "cell_type": "code",
   "execution_count": 52,
   "metadata": {},
   "outputs": [
    {
     "name": "stdout",
     "output_type": "stream",
     "text": [
      "[[1]\n",
      " [1]\n",
      " [1]]  \n",
      " [[2]\n",
      " [2]\n",
      " [2]]\n",
      "[[6]]\n",
      "1.7320508075688772 3.4641016151377544\n",
      "5.999999999999999\n"
     ]
    }
   ],
   "source": [
    "import numpy as np\n",
    "a1=np.array([[1],[1],[1]])\n",
    "a2=np.array([[2],[2],[2]])\n",
    "print(a1,\" \\n\", a2)\n",
    "\n",
    "a1t=np.transpose(a1)\n",
    "e1=np.dot(a1t,a2)\n",
    "print(e1)\n",
    "\n",
    "v1=np.linalg.norm(a1)\n",
    "v2=np.linalg.norm(a2)\n",
    "print(v1,v2)\n",
    "eq2=v1*v2\n",
    "\n",
    "print(eq2)"
   ]
  },
  {
   "cell_type": "code",
   "execution_count": 53,
   "metadata": {},
   "outputs": [
    {
     "name": "stdout",
     "output_type": "stream",
     "text": [
      "[[1]\n",
      " [1]\n",
      " [1]]  \n",
      " [[1]\n",
      " [3]\n",
      " [1]]\n",
      "[[5]]\n",
      "5.744562646538029\n"
     ]
    }
   ],
   "source": [
    "import numpy as np\n",
    "a1=np.array([[1],[1],[1]])\n",
    "a2=np.array([[1],[3],[1]])\n",
    "print(a1,\" \\n\", a2)\n",
    "\n",
    "a1t=np.transpose(a1)\n",
    "e1=np.dot(a1t,a2)\n",
    "print(e1)\n",
    "\n",
    "v1=np.linalg.norm(a1)\n",
    "v2=np.linalg.norm(a2)\n",
    "\n",
    "eq2=v1*v2\n",
    "\n",
    "print(eq2)"
   ]
  },
  {
   "cell_type": "markdown",
   "metadata": {},
   "source": [
    "# Module - Linear Equations"
   ]
  },
  {
   "cell_type": "markdown",
   "metadata": {},
   "source": [
    "### Solving system of Linear Equations"
   ]
  },
  {
   "cell_type": "code",
   "execution_count": 4,
   "metadata": {},
   "outputs": [
    {
     "name": "stdout",
     "output_type": "stream",
     "text": [
      "The value of x1 is:  3.0\n",
      "The value of x2 is:  1.0\n",
      "The value of x3 is:  2.0\n"
     ]
    }
   ],
   "source": [
    "# import the library numpy \n",
    "import numpy as np\n",
    "\n",
    "#Define the coefficient matrix\n",
    "matrix_1 = np.array([[1, 3, -1],\n",
    "              [2, 5, 4],\n",
    "              [2, 3, -1]])\n",
    "\n",
    "# Define the vector\n",
    "matrix_2 = np.array([4,19,7])\n",
    "# Find the solution system of equations using the solve() method\n",
    "x= np.linalg.solve(matrix_1, matrix_2)\n",
    "print(\"The value of x1 is: \",x[0])\n",
    "print(\"The value of x2 is: \",x[1])\n",
    "print(\"The value of x3 is: \",x[2])"
   ]
  },
  {
   "cell_type": "markdown",
   "metadata": {},
   "source": [
    "### Finding Inverse"
   ]
  },
  {
   "cell_type": "code",
   "execution_count": 28,
   "metadata": {},
   "outputs": [
    {
     "name": "stdout",
     "output_type": "stream",
     "text": [
      "3\n",
      "[[3 4 4]\n",
      " [2 3 9]\n",
      " [2 2 5]]\n",
      "[[-0.2        -0.8         1.6       ]\n",
      " [ 0.53333333  0.46666667 -1.26666667]\n",
      " [-0.13333333  0.13333333  0.06666667]]\n",
      "[[ 1.00000000e+00  0.00000000e+00  1.77635684e-15]\n",
      " [ 0.00000000e+00  1.00000000e+00  0.00000000e+00]\n",
      " [-2.77555756e-17 -2.77555756e-17  1.00000000e+00]]\n"
     ]
    }
   ],
   "source": [
    "#import numpy library\n",
    "import numpy as np\n",
    "\n",
    "#Create matrix\n",
    "matrix_1 = np.array([[1, 3, -1],\n",
    "                      [2, 5, 4],\n",
    "                      [2, 3, -1]])\n",
    "matrix_2 = np.array([[3, 4, 4],\n",
    "                      [2, 3, 9],\n",
    "                      [2, 2, 5]])\n",
    "r1=np.linalg.matrix_rank(matrix_2)\n",
    "\n",
    "print(r1)\n",
    "#Finding the Inverse of the matrix\n",
    "print(matrix_2)\n",
    "mat2inv=np.linalg.inv(matrix_2)\n",
    "print(mat2inv)\n",
    "eye=np.matmul(mat2inv,matrix_2)\n",
    "print(eye)"
   ]
  },
  {
   "cell_type": "code",
   "execution_count": 29,
   "metadata": {},
   "outputs": [
    {
     "name": "stdout",
     "output_type": "stream",
     "text": [
      "Matrix A:\n",
      " [[1 2]\n",
      " [4 5]]\n",
      "The inverse of A is:\n",
      " [[-1.66666667  0.66666667]\n",
      " [ 1.33333333 -0.33333333]]\n",
      "Multiplication of A and Ainv is:\n",
      " [[1. 0.]\n",
      " [0. 1.]]\n"
     ]
    }
   ],
   "source": [
    "# Importing required libraries (numpy as np)\n",
    "import numpy as np\n",
    "# Creating Matrix A\n",
    "A = np.array([[1, 2],\n",
    "                   [4, 5]])\n",
    "print(\"Matrix A:\\n\", A)\n",
    "# Finding the inverse matrix using np.linalg.inv() function\n",
    "Ainv = np.linalg.inv(A)\n",
    "print('The inverse of A is:\\n', Ainv)\n",
    "print(\"Multiplication of A and Ainv is:\\n\", np.matmul(A, Ainv))\n"
   ]
  },
  {
   "cell_type": "markdown",
   "metadata": {},
   "source": [
    "singular matrix doesn't have an inverse"
   ]
  },
  {
   "cell_type": "code",
   "execution_count": 15,
   "metadata": {},
   "outputs": [
    {
     "name": "stdout",
     "output_type": "stream",
     "text": [
      "4\n",
      "[2 2]\n",
      "4.000000000000001\n"
     ]
    }
   ],
   "source": [
    "import numpy as np\n",
    "v1=np.array([1,1])\n",
    "v2=np.array([2,2])\n",
    "p=v1.dot(v2)\n",
    "print(p)\n",
    "\n",
    "v3=np.transpose(v2)\n",
    "print(v3)\n",
    "vl1=np.linalg.norm(v1)\n",
    "vl2=np.linalg.norm(v2)\n",
    "d=vl1*vl2\n",
    "print(d)\n"
   ]
  },
  {
   "cell_type": "code",
   "execution_count": 57,
   "metadata": {},
   "outputs": [
    {
     "ename": "NameError",
     "evalue": "name 'vector' is not defined",
     "output_type": "error",
     "traceback": [
      "\u001b[1;31m---------------------------------------------------------------------------\u001b[0m",
      "\u001b[1;31mNameError\u001b[0m                                 Traceback (most recent call last)",
      "\u001b[1;32m<ipython-input-57-ffd942b09807>\u001b[0m in \u001b[0;36m<module>\u001b[1;34m\u001b[0m\n\u001b[1;32m----> 1\u001b[1;33m \u001b[0mnp\u001b[0m\u001b[1;33m.\u001b[0m\u001b[0mlinalg\u001b[0m\u001b[1;33m.\u001b[0m\u001b[0mnorm\u001b[0m\u001b[1;33m(\u001b[0m\u001b[0mvector\u001b[0m\u001b[1;33m)\u001b[0m\u001b[1;33m\u001b[0m\u001b[1;33m\u001b[0m\u001b[0m\n\u001b[0m\u001b[0;32m      2\u001b[0m \u001b[0mnp\u001b[0m\u001b[1;33m.\u001b[0m\u001b[0mrad2deg\u001b[0m\u001b[1;33m(\u001b[0m\u001b[0mnp\u001b[0m\u001b[1;33m.\u001b[0m\u001b[0marccos\u001b[0m\u001b[1;33m(\u001b[0m\u001b[0mdot_pr\u001b[0m \u001b[1;33m/\u001b[0m \u001b[0mnorms\u001b[0m\u001b[1;33m)\u001b[0m\u001b[1;33m)\u001b[0m\u001b[1;33m\u001b[0m\u001b[1;33m\u001b[0m\u001b[0m\n\u001b[0;32m      3\u001b[0m \u001b[0mnp\u001b[0m\u001b[1;33m.\u001b[0m\u001b[0mlinalg\u001b[0m\u001b[1;33m.\u001b[0m\u001b[0mdet\u001b[0m\u001b[1;33m(\u001b[0m\u001b[0mmatrix\u001b[0m\u001b[1;33m)\u001b[0m\u001b[1;33m\u001b[0m\u001b[1;33m\u001b[0m\u001b[0m\n\u001b[0;32m      4\u001b[0m \u001b[0mnp\u001b[0m\u001b[1;33m.\u001b[0m\u001b[0mlinalg\u001b[0m\u001b[1;33m.\u001b[0m\u001b[0minv\u001b[0m\u001b[1;33m(\u001b[0m\u001b[0mA\u001b[0m\u001b[1;33m)\u001b[0m\u001b[1;33m\u001b[0m\u001b[1;33m\u001b[0m\u001b[0m\n\u001b[0;32m      5\u001b[0m \u001b[0mnp\u001b[0m\u001b[1;33m.\u001b[0m\u001b[0mlinalg\u001b[0m\u001b[1;33m.\u001b[0m\u001b[0mmatrix_rank\u001b[0m\u001b[1;33m(\u001b[0m\u001b[0mA\u001b[0m\u001b[1;33m)\u001b[0m\u001b[1;33m\u001b[0m\u001b[1;33m\u001b[0m\u001b[0m\n",
      "\u001b[1;31mNameError\u001b[0m: name 'vector' is not defined"
     ]
    }
   ],
   "source": [
    "np.linalg.norm(vector)\n",
    "np.rad2deg(np.arccos(dot_pr / norms))\n",
    "np.linalg.det(matrix)\n",
    "np.linalg.inv(A)\n",
    "np.linalg.matrix_rank(A)\n",
    "x= np.linalg.solve(matrix_1, matrix_2)\n",
    "x= np.linalg.solve(matrix_1, matrix_2)\n"
   ]
  },
  {
   "cell_type": "code",
   "execution_count": null,
   "metadata": {},
   "outputs": [],
   "source": []
  }
 ],
 "metadata": {
  "kernelspec": {
   "display_name": "Python 3",
   "language": "python",
   "name": "python3"
  },
  "language_info": {
   "codemirror_mode": {
    "name": "ipython",
    "version": 3
   },
   "file_extension": ".py",
   "mimetype": "text/x-python",
   "name": "python",
   "nbconvert_exporter": "python",
   "pygments_lexer": "ipython3",
   "version": "3.8.8"
  }
 },
 "nbformat": 4,
 "nbformat_minor": 2
}
