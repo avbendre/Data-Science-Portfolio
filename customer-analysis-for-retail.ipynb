{
 "cells": [
  {
   "cell_type": "code",
   "execution_count": 1,
   "id": "63d2a0a9",
   "metadata": {
    "_cell_guid": "b1076dfc-b9ad-4769-8c92-a6c4dae69d19",
    "_uuid": "8f2839f25d086af736a60e9eeb907d3b93b6e0e5",
    "execution": {
     "iopub.execute_input": "2022-12-07T13:09:02.948971Z",
     "iopub.status.busy": "2022-12-07T13:09:02.948327Z",
     "iopub.status.idle": "2022-12-07T13:09:03.998064Z",
     "shell.execute_reply": "2022-12-07T13:09:03.997117Z"
    },
    "papermill": {
     "duration": 1.072802,
     "end_time": "2022-12-07T13:09:04.000418",
     "exception": false,
     "start_time": "2022-12-07T13:09:02.927616",
     "status": "completed"
    },
    "tags": []
   },
   "outputs": [
    {
     "name": "stdout",
     "output_type": "stream",
     "text": [
      "/kaggle/input/retail/prod_cat_info.csv\n",
      "/kaggle/input/retail/Customer.csv\n",
      "/kaggle/input/retail/Transactions.csv\n"
     ]
    }
   ],
   "source": [
    "# This Python 3 environment comes with many helpful analytics libraries installed\n",
    "# It is defined by the kaggle/python Docker image: https://github.com/kaggle/docker-python\n",
    "# For example, here's several helpful packages to load\n",
    "\n",
    "import numpy as np # linear algebra\n",
    "import pandas as pd # data processing, CSV file I/O (e.g. pd.read_csv)\n",
    "import datetime as dt\n",
    "import matplotlib.pyplot as plt \n",
    "import seaborn as sn\n",
    "\n",
    "# Input data files are available in the read-only \"../input/\" directory\n",
    "# For example, running this (by clicking run or pressing Shift+Enter) will list all files under the input directory\n",
    "\n",
    "import os\n",
    "for dirname, _, filenames in os.walk('/kaggle/input'):\n",
    "    for filename in filenames:\n",
    "        print(os.path.join(dirname, filename))\n",
    "\n",
    "# You can write up to 20GB to the current directory (/kaggle/working/) that gets preserved as output when you create a version using \"Save & Run All\" \n",
    "# You can also write temporary files to /kaggle/temp/, but they won't be saved outside of the current session"
   ]
  },
  {
   "cell_type": "code",
   "execution_count": 2,
   "id": "852387cd",
   "metadata": {
    "execution": {
     "iopub.execute_input": "2022-12-07T13:09:04.035024Z",
     "iopub.status.busy": "2022-12-07T13:09:04.034637Z",
     "iopub.status.idle": "2022-12-07T13:09:04.131681Z",
     "shell.execute_reply": "2022-12-07T13:09:04.130062Z"
    },
    "papermill": {
     "duration": 0.117324,
     "end_time": "2022-12-07T13:09:04.134288",
     "exception": false,
     "start_time": "2022-12-07T13:09:04.016964",
     "status": "completed"
    },
    "tags": []
   },
   "outputs": [],
   "source": [
    "customer =  pd.read_csv('/kaggle/input/retail/Customer.csv')\n",
    "transaction =  pd.read_csv('/kaggle/input/retail/Transactions.csv')\n",
    "prodinfo =  pd.read_csv('/kaggle/input/retail/prod_cat_info.csv')"
   ]
  },
  {
   "cell_type": "code",
   "execution_count": 3,
   "id": "250ffaa9",
   "metadata": {
    "execution": {
     "iopub.execute_input": "2022-12-07T13:09:04.169394Z",
     "iopub.status.busy": "2022-12-07T13:09:04.169014Z",
     "iopub.status.idle": "2022-12-07T13:09:04.196125Z",
     "shell.execute_reply": "2022-12-07T13:09:04.195172Z"
    },
    "papermill": {
     "duration": 0.047684,
     "end_time": "2022-12-07T13:09:04.199070",
     "exception": false,
     "start_time": "2022-12-07T13:09:04.151386",
     "status": "completed"
    },
    "tags": []
   },
   "outputs": [
    {
     "name": "stdout",
     "output_type": "stream",
     "text": [
      "<class 'pandas.core.frame.DataFrame'>\n",
      "RangeIndex: 5647 entries, 0 to 5646\n",
      "Data columns (total 4 columns):\n",
      " #   Column       Non-Null Count  Dtype  \n",
      "---  ------       --------------  -----  \n",
      " 0   customer_Id  5647 non-null   int64  \n",
      " 1   DOB          5647 non-null   object \n",
      " 2   Gender       5645 non-null   object \n",
      " 3   city_code    5645 non-null   float64\n",
      "dtypes: float64(1), int64(1), object(2)\n",
      "memory usage: 176.6+ KB\n"
     ]
    }
   ],
   "source": [
    "customer.info()\n"
   ]
  },
  {
   "cell_type": "code",
   "execution_count": null,
   "id": "df752c20",
   "metadata": {
    "papermill": {
     "duration": 0.016494,
     "end_time": "2022-12-07T13:09:04.232026",
     "exception": false,
     "start_time": "2022-12-07T13:09:04.215532",
     "status": "completed"
    },
    "tags": []
   },
   "outputs": [],
   "source": []
  },
  {
   "cell_type": "code",
   "execution_count": 4,
   "id": "6be82233",
   "metadata": {
    "execution": {
     "iopub.execute_input": "2022-12-07T13:09:04.268440Z",
     "iopub.status.busy": "2022-12-07T13:09:04.267720Z",
     "iopub.status.idle": "2022-12-07T13:09:04.283987Z",
     "shell.execute_reply": "2022-12-07T13:09:04.282621Z"
    },
    "papermill": {
     "duration": 0.037852,
     "end_time": "2022-12-07T13:09:04.286659",
     "exception": false,
     "start_time": "2022-12-07T13:09:04.248807",
     "status": "completed"
    },
    "tags": []
   },
   "outputs": [],
   "source": [
    "customer=customer.dropna()\n",
    "transaction=transaction.dropna()\n"
   ]
  },
  {
   "cell_type": "code",
   "execution_count": 5,
   "id": "6705d7bf",
   "metadata": {
    "execution": {
     "iopub.execute_input": "2022-12-07T13:09:04.321504Z",
     "iopub.status.busy": "2022-12-07T13:09:04.321088Z",
     "iopub.status.idle": "2022-12-07T13:09:04.334543Z",
     "shell.execute_reply": "2022-12-07T13:09:04.333763Z"
    },
    "papermill": {
     "duration": 0.033524,
     "end_time": "2022-12-07T13:09:04.336949",
     "exception": false,
     "start_time": "2022-12-07T13:09:04.303425",
     "status": "completed"
    },
    "tags": []
   },
   "outputs": [
    {
     "name": "stdout",
     "output_type": "stream",
     "text": [
      "<class 'pandas.core.frame.DataFrame'>\n",
      "Int64Index: 23053 entries, 0 to 23052\n",
      "Data columns (total 10 columns):\n",
      " #   Column            Non-Null Count  Dtype  \n",
      "---  ------            --------------  -----  \n",
      " 0   transaction_id    23053 non-null  int64  \n",
      " 1   cust_id           23053 non-null  int64  \n",
      " 2   tran_date         23053 non-null  object \n",
      " 3   prod_subcat_code  23053 non-null  int64  \n",
      " 4   prod_cat_code     23053 non-null  int64  \n",
      " 5   Qty               23053 non-null  int64  \n",
      " 6   Rate              23053 non-null  int64  \n",
      " 7   Tax               23053 non-null  float64\n",
      " 8   total_amt         23053 non-null  float64\n",
      " 9   Store_type        23053 non-null  object \n",
      "dtypes: float64(2), int64(6), object(2)\n",
      "memory usage: 1.9+ MB\n"
     ]
    }
   ],
   "source": [
    "transaction.info()"
   ]
  },
  {
   "cell_type": "code",
   "execution_count": null,
   "id": "a507e655",
   "metadata": {
    "papermill": {
     "duration": 0.015862,
     "end_time": "2022-12-07T13:09:04.370361",
     "exception": false,
     "start_time": "2022-12-07T13:09:04.354499",
     "status": "completed"
    },
    "tags": []
   },
   "outputs": [],
   "source": []
  },
  {
   "cell_type": "code",
   "execution_count": 6,
   "id": "92b00993",
   "metadata": {
    "execution": {
     "iopub.execute_input": "2022-12-07T13:09:04.404814Z",
     "iopub.status.busy": "2022-12-07T13:09:04.404193Z",
     "iopub.status.idle": "2022-12-07T13:09:04.418513Z",
     "shell.execute_reply": "2022-12-07T13:09:04.417363Z"
    },
    "papermill": {
     "duration": 0.033953,
     "end_time": "2022-12-07T13:09:04.420528",
     "exception": false,
     "start_time": "2022-12-07T13:09:04.386575",
     "status": "completed"
    },
    "tags": []
   },
   "outputs": [
    {
     "data": {
      "text/html": [
       "<div>\n",
       "<style scoped>\n",
       "    .dataframe tbody tr th:only-of-type {\n",
       "        vertical-align: middle;\n",
       "    }\n",
       "\n",
       "    .dataframe tbody tr th {\n",
       "        vertical-align: top;\n",
       "    }\n",
       "\n",
       "    .dataframe thead th {\n",
       "        text-align: right;\n",
       "    }\n",
       "</style>\n",
       "<table border=\"1\" class=\"dataframe\">\n",
       "  <thead>\n",
       "    <tr style=\"text-align: right;\">\n",
       "      <th></th>\n",
       "      <th>prod_cat_code</th>\n",
       "      <th>prod_cat</th>\n",
       "      <th>prod_sub_cat_code</th>\n",
       "      <th>prod_subcat</th>\n",
       "    </tr>\n",
       "  </thead>\n",
       "  <tbody>\n",
       "    <tr>\n",
       "      <th>0</th>\n",
       "      <td>1</td>\n",
       "      <td>Clothing</td>\n",
       "      <td>4</td>\n",
       "      <td>Mens</td>\n",
       "    </tr>\n",
       "    <tr>\n",
       "      <th>1</th>\n",
       "      <td>1</td>\n",
       "      <td>Clothing</td>\n",
       "      <td>1</td>\n",
       "      <td>Women</td>\n",
       "    </tr>\n",
       "    <tr>\n",
       "      <th>2</th>\n",
       "      <td>1</td>\n",
       "      <td>Clothing</td>\n",
       "      <td>3</td>\n",
       "      <td>Kids</td>\n",
       "    </tr>\n",
       "    <tr>\n",
       "      <th>3</th>\n",
       "      <td>2</td>\n",
       "      <td>Footwear</td>\n",
       "      <td>1</td>\n",
       "      <td>Mens</td>\n",
       "    </tr>\n",
       "    <tr>\n",
       "      <th>4</th>\n",
       "      <td>2</td>\n",
       "      <td>Footwear</td>\n",
       "      <td>3</td>\n",
       "      <td>Women</td>\n",
       "    </tr>\n",
       "  </tbody>\n",
       "</table>\n",
       "</div>"
      ],
      "text/plain": [
       "   prod_cat_code  prod_cat  prod_sub_cat_code prod_subcat\n",
       "0              1  Clothing                  4        Mens\n",
       "1              1  Clothing                  1       Women\n",
       "2              1  Clothing                  3        Kids\n",
       "3              2  Footwear                  1        Mens\n",
       "4              2  Footwear                  3       Women"
      ]
     },
     "execution_count": 6,
     "metadata": {},
     "output_type": "execute_result"
    }
   ],
   "source": [
    "prodinfo.head()"
   ]
  },
  {
   "cell_type": "code",
   "execution_count": 7,
   "id": "5ff056f9",
   "metadata": {
    "execution": {
     "iopub.execute_input": "2022-12-07T13:09:04.455242Z",
     "iopub.status.busy": "2022-12-07T13:09:04.454836Z",
     "iopub.status.idle": "2022-12-07T13:09:04.461422Z",
     "shell.execute_reply": "2022-12-07T13:09:04.459800Z"
    },
    "papermill": {
     "duration": 0.02711,
     "end_time": "2022-12-07T13:09:04.463740",
     "exception": false,
     "start_time": "2022-12-07T13:09:04.436630",
     "status": "completed"
    },
    "tags": []
   },
   "outputs": [],
   "source": [
    "prodinfo.rename(columns={\"prod_sub_cat_code\":\"prod_subcat_code\"},inplace=True)"
   ]
  },
  {
   "cell_type": "markdown",
   "id": "7ffc0b9c",
   "metadata": {
    "papermill": {
     "duration": 0.01572,
     "end_time": "2022-12-07T13:09:04.495679",
     "exception": false,
     "start_time": "2022-12-07T13:09:04.479959",
     "status": "completed"
    },
    "tags": []
   },
   "source": []
  },
  {
   "cell_type": "code",
   "execution_count": 8,
   "id": "e6568744",
   "metadata": {
    "execution": {
     "iopub.execute_input": "2022-12-07T13:09:04.529262Z",
     "iopub.status.busy": "2022-12-07T13:09:04.528879Z",
     "iopub.status.idle": "2022-12-07T13:09:04.542871Z",
     "shell.execute_reply": "2022-12-07T13:09:04.541532Z"
    },
    "papermill": {
     "duration": 0.033097,
     "end_time": "2022-12-07T13:09:04.544674",
     "exception": false,
     "start_time": "2022-12-07T13:09:04.511577",
     "status": "completed"
    },
    "tags": []
   },
   "outputs": [
    {
     "data": {
      "text/html": [
       "<div>\n",
       "<style scoped>\n",
       "    .dataframe tbody tr th:only-of-type {\n",
       "        vertical-align: middle;\n",
       "    }\n",
       "\n",
       "    .dataframe tbody tr th {\n",
       "        vertical-align: top;\n",
       "    }\n",
       "\n",
       "    .dataframe thead th {\n",
       "        text-align: right;\n",
       "    }\n",
       "</style>\n",
       "<table border=\"1\" class=\"dataframe\">\n",
       "  <thead>\n",
       "    <tr style=\"text-align: right;\">\n",
       "      <th></th>\n",
       "      <th>transaction_id</th>\n",
       "      <th>cust_id</th>\n",
       "      <th>tran_date</th>\n",
       "      <th>prod_subcat_code</th>\n",
       "      <th>prod_cat_code</th>\n",
       "      <th>Qty</th>\n",
       "      <th>Rate</th>\n",
       "      <th>Tax</th>\n",
       "      <th>total_amt</th>\n",
       "      <th>Store_type</th>\n",
       "    </tr>\n",
       "  </thead>\n",
       "  <tbody>\n",
       "    <tr>\n",
       "      <th>0</th>\n",
       "      <td>80712190438</td>\n",
       "      <td>270351</td>\n",
       "      <td>28-02-2014</td>\n",
       "      <td>1</td>\n",
       "      <td>1</td>\n",
       "      <td>-5</td>\n",
       "      <td>-772</td>\n",
       "      <td>405.300</td>\n",
       "      <td>-4265.300</td>\n",
       "      <td>e-Shop</td>\n",
       "    </tr>\n",
       "    <tr>\n",
       "      <th>1</th>\n",
       "      <td>29258453508</td>\n",
       "      <td>270384</td>\n",
       "      <td>27-02-2014</td>\n",
       "      <td>5</td>\n",
       "      <td>3</td>\n",
       "      <td>-5</td>\n",
       "      <td>-1497</td>\n",
       "      <td>785.925</td>\n",
       "      <td>-8270.925</td>\n",
       "      <td>e-Shop</td>\n",
       "    </tr>\n",
       "    <tr>\n",
       "      <th>2</th>\n",
       "      <td>51750724947</td>\n",
       "      <td>273420</td>\n",
       "      <td>24-02-2014</td>\n",
       "      <td>6</td>\n",
       "      <td>5</td>\n",
       "      <td>-2</td>\n",
       "      <td>-791</td>\n",
       "      <td>166.110</td>\n",
       "      <td>-1748.110</td>\n",
       "      <td>TeleShop</td>\n",
       "    </tr>\n",
       "    <tr>\n",
       "      <th>3</th>\n",
       "      <td>93274880719</td>\n",
       "      <td>271509</td>\n",
       "      <td>24-02-2014</td>\n",
       "      <td>11</td>\n",
       "      <td>6</td>\n",
       "      <td>-3</td>\n",
       "      <td>-1363</td>\n",
       "      <td>429.345</td>\n",
       "      <td>-4518.345</td>\n",
       "      <td>e-Shop</td>\n",
       "    </tr>\n",
       "    <tr>\n",
       "      <th>4</th>\n",
       "      <td>51750724947</td>\n",
       "      <td>273420</td>\n",
       "      <td>23-02-2014</td>\n",
       "      <td>6</td>\n",
       "      <td>5</td>\n",
       "      <td>-2</td>\n",
       "      <td>-791</td>\n",
       "      <td>166.110</td>\n",
       "      <td>-1748.110</td>\n",
       "      <td>TeleShop</td>\n",
       "    </tr>\n",
       "  </tbody>\n",
       "</table>\n",
       "</div>"
      ],
      "text/plain": [
       "   transaction_id  cust_id   tran_date  prod_subcat_code  prod_cat_code  Qty  \\\n",
       "0     80712190438   270351  28-02-2014                 1              1   -5   \n",
       "1     29258453508   270384  27-02-2014                 5              3   -5   \n",
       "2     51750724947   273420  24-02-2014                 6              5   -2   \n",
       "3     93274880719   271509  24-02-2014                11              6   -3   \n",
       "4     51750724947   273420  23-02-2014                 6              5   -2   \n",
       "\n",
       "   Rate      Tax  total_amt Store_type  \n",
       "0  -772  405.300  -4265.300     e-Shop  \n",
       "1 -1497  785.925  -8270.925     e-Shop  \n",
       "2  -791  166.110  -1748.110   TeleShop  \n",
       "3 -1363  429.345  -4518.345     e-Shop  \n",
       "4  -791  166.110  -1748.110   TeleShop  "
      ]
     },
     "execution_count": 8,
     "metadata": {},
     "output_type": "execute_result"
    }
   ],
   "source": [
    "transaction.head()"
   ]
  },
  {
   "cell_type": "code",
   "execution_count": 9,
   "id": "31832efb",
   "metadata": {
    "execution": {
     "iopub.execute_input": "2022-12-07T13:09:04.587740Z",
     "iopub.status.busy": "2022-12-07T13:09:04.587327Z",
     "iopub.status.idle": "2022-12-07T13:09:04.597747Z",
     "shell.execute_reply": "2022-12-07T13:09:04.596837Z"
    },
    "papermill": {
     "duration": 0.038159,
     "end_time": "2022-12-07T13:09:04.600052",
     "exception": false,
     "start_time": "2022-12-07T13:09:04.561893",
     "status": "completed"
    },
    "tags": []
   },
   "outputs": [
    {
     "data": {
      "text/html": [
       "<div>\n",
       "<style scoped>\n",
       "    .dataframe tbody tr th:only-of-type {\n",
       "        vertical-align: middle;\n",
       "    }\n",
       "\n",
       "    .dataframe tbody tr th {\n",
       "        vertical-align: top;\n",
       "    }\n",
       "\n",
       "    .dataframe thead th {\n",
       "        text-align: right;\n",
       "    }\n",
       "</style>\n",
       "<table border=\"1\" class=\"dataframe\">\n",
       "  <thead>\n",
       "    <tr style=\"text-align: right;\">\n",
       "      <th></th>\n",
       "      <th>prod_cat_code</th>\n",
       "      <th>prod_cat</th>\n",
       "      <th>prod_subcat_code</th>\n",
       "      <th>prod_subcat</th>\n",
       "    </tr>\n",
       "  </thead>\n",
       "  <tbody>\n",
       "    <tr>\n",
       "      <th>0</th>\n",
       "      <td>1</td>\n",
       "      <td>Clothing</td>\n",
       "      <td>4</td>\n",
       "      <td>Mens</td>\n",
       "    </tr>\n",
       "    <tr>\n",
       "      <th>1</th>\n",
       "      <td>1</td>\n",
       "      <td>Clothing</td>\n",
       "      <td>1</td>\n",
       "      <td>Women</td>\n",
       "    </tr>\n",
       "    <tr>\n",
       "      <th>2</th>\n",
       "      <td>1</td>\n",
       "      <td>Clothing</td>\n",
       "      <td>3</td>\n",
       "      <td>Kids</td>\n",
       "    </tr>\n",
       "    <tr>\n",
       "      <th>3</th>\n",
       "      <td>2</td>\n",
       "      <td>Footwear</td>\n",
       "      <td>1</td>\n",
       "      <td>Mens</td>\n",
       "    </tr>\n",
       "    <tr>\n",
       "      <th>4</th>\n",
       "      <td>2</td>\n",
       "      <td>Footwear</td>\n",
       "      <td>3</td>\n",
       "      <td>Women</td>\n",
       "    </tr>\n",
       "  </tbody>\n",
       "</table>\n",
       "</div>"
      ],
      "text/plain": [
       "   prod_cat_code  prod_cat  prod_subcat_code prod_subcat\n",
       "0              1  Clothing                 4        Mens\n",
       "1              1  Clothing                 1       Women\n",
       "2              1  Clothing                 3        Kids\n",
       "3              2  Footwear                 1        Mens\n",
       "4              2  Footwear                 3       Women"
      ]
     },
     "execution_count": 9,
     "metadata": {},
     "output_type": "execute_result"
    }
   ],
   "source": [
    "prodinfo.head()"
   ]
  },
  {
   "cell_type": "code",
   "execution_count": 10,
   "id": "b0b5f923",
   "metadata": {
    "execution": {
     "iopub.execute_input": "2022-12-07T13:09:04.635891Z",
     "iopub.status.busy": "2022-12-07T13:09:04.635564Z",
     "iopub.status.idle": "2022-12-07T13:09:04.647022Z",
     "shell.execute_reply": "2022-12-07T13:09:04.645896Z"
    },
    "papermill": {
     "duration": 0.031788,
     "end_time": "2022-12-07T13:09:04.648837",
     "exception": false,
     "start_time": "2022-12-07T13:09:04.617049",
     "status": "completed"
    },
    "tags": []
   },
   "outputs": [
    {
     "data": {
      "text/html": [
       "<div>\n",
       "<style scoped>\n",
       "    .dataframe tbody tr th:only-of-type {\n",
       "        vertical-align: middle;\n",
       "    }\n",
       "\n",
       "    .dataframe tbody tr th {\n",
       "        vertical-align: top;\n",
       "    }\n",
       "\n",
       "    .dataframe thead th {\n",
       "        text-align: right;\n",
       "    }\n",
       "</style>\n",
       "<table border=\"1\" class=\"dataframe\">\n",
       "  <thead>\n",
       "    <tr style=\"text-align: right;\">\n",
       "      <th></th>\n",
       "      <th>customer_Id</th>\n",
       "      <th>DOB</th>\n",
       "      <th>Gender</th>\n",
       "      <th>city_code</th>\n",
       "    </tr>\n",
       "  </thead>\n",
       "  <tbody>\n",
       "    <tr>\n",
       "      <th>0</th>\n",
       "      <td>268408</td>\n",
       "      <td>02-01-1970</td>\n",
       "      <td>M</td>\n",
       "      <td>4.0</td>\n",
       "    </tr>\n",
       "    <tr>\n",
       "      <th>1</th>\n",
       "      <td>269696</td>\n",
       "      <td>07-01-1970</td>\n",
       "      <td>F</td>\n",
       "      <td>8.0</td>\n",
       "    </tr>\n",
       "    <tr>\n",
       "      <th>2</th>\n",
       "      <td>268159</td>\n",
       "      <td>08-01-1970</td>\n",
       "      <td>F</td>\n",
       "      <td>8.0</td>\n",
       "    </tr>\n",
       "    <tr>\n",
       "      <th>3</th>\n",
       "      <td>270181</td>\n",
       "      <td>10-01-1970</td>\n",
       "      <td>F</td>\n",
       "      <td>2.0</td>\n",
       "    </tr>\n",
       "    <tr>\n",
       "      <th>4</th>\n",
       "      <td>268073</td>\n",
       "      <td>11-01-1970</td>\n",
       "      <td>M</td>\n",
       "      <td>1.0</td>\n",
       "    </tr>\n",
       "  </tbody>\n",
       "</table>\n",
       "</div>"
      ],
      "text/plain": [
       "   customer_Id         DOB Gender  city_code\n",
       "0       268408  02-01-1970      M        4.0\n",
       "1       269696  07-01-1970      F        8.0\n",
       "2       268159  08-01-1970      F        8.0\n",
       "3       270181  10-01-1970      F        2.0\n",
       "4       268073  11-01-1970      M        1.0"
      ]
     },
     "execution_count": 10,
     "metadata": {},
     "output_type": "execute_result"
    }
   ],
   "source": [
    "customer.head()"
   ]
  },
  {
   "cell_type": "code",
   "execution_count": 11,
   "id": "17052c5d",
   "metadata": {
    "execution": {
     "iopub.execute_input": "2022-12-07T13:09:04.685331Z",
     "iopub.status.busy": "2022-12-07T13:09:04.684053Z",
     "iopub.status.idle": "2022-12-07T13:09:04.712003Z",
     "shell.execute_reply": "2022-12-07T13:09:04.710611Z"
    },
    "papermill": {
     "duration": 0.048733,
     "end_time": "2022-12-07T13:09:04.714514",
     "exception": false,
     "start_time": "2022-12-07T13:09:04.665781",
     "status": "completed"
    },
    "tags": []
   },
   "outputs": [],
   "source": [
    "customer=customer.drop_duplicates()\n",
    "transaction=transaction.drop_duplicates()"
   ]
  },
  {
   "cell_type": "code",
   "execution_count": 12,
   "id": "56ddef7c",
   "metadata": {
    "execution": {
     "iopub.execute_input": "2022-12-07T13:09:04.751132Z",
     "iopub.status.busy": "2022-12-07T13:09:04.750765Z",
     "iopub.status.idle": "2022-12-07T13:09:04.763317Z",
     "shell.execute_reply": "2022-12-07T13:09:04.762335Z"
    },
    "papermill": {
     "duration": 0.033695,
     "end_time": "2022-12-07T13:09:04.765594",
     "exception": false,
     "start_time": "2022-12-07T13:09:04.731899",
     "status": "completed"
    },
    "tags": []
   },
   "outputs": [
    {
     "name": "stdout",
     "output_type": "stream",
     "text": [
      "<class 'pandas.core.frame.DataFrame'>\n",
      "Int64Index: 5643 entries, 0 to 5646\n",
      "Data columns (total 4 columns):\n",
      " #   Column       Non-Null Count  Dtype  \n",
      "---  ------       --------------  -----  \n",
      " 0   customer_Id  5643 non-null   int64  \n",
      " 1   DOB          5643 non-null   object \n",
      " 2   Gender       5643 non-null   object \n",
      " 3   city_code    5643 non-null   float64\n",
      "dtypes: float64(1), int64(1), object(2)\n",
      "memory usage: 220.4+ KB\n"
     ]
    }
   ],
   "source": [
    "customer.info()"
   ]
  },
  {
   "cell_type": "code",
   "execution_count": 13,
   "id": "481058ae",
   "metadata": {
    "execution": {
     "iopub.execute_input": "2022-12-07T13:09:04.801330Z",
     "iopub.status.busy": "2022-12-07T13:09:04.800979Z",
     "iopub.status.idle": "2022-12-07T13:09:04.816915Z",
     "shell.execute_reply": "2022-12-07T13:09:04.815927Z"
    },
    "papermill": {
     "duration": 0.036471,
     "end_time": "2022-12-07T13:09:04.819519",
     "exception": false,
     "start_time": "2022-12-07T13:09:04.783048",
     "status": "completed"
    },
    "tags": []
   },
   "outputs": [
    {
     "name": "stdout",
     "output_type": "stream",
     "text": [
      "<class 'pandas.core.frame.DataFrame'>\n",
      "Int64Index: 23040 entries, 0 to 23052\n",
      "Data columns (total 10 columns):\n",
      " #   Column            Non-Null Count  Dtype  \n",
      "---  ------            --------------  -----  \n",
      " 0   transaction_id    23040 non-null  int64  \n",
      " 1   cust_id           23040 non-null  int64  \n",
      " 2   tran_date         23040 non-null  object \n",
      " 3   prod_subcat_code  23040 non-null  int64  \n",
      " 4   prod_cat_code     23040 non-null  int64  \n",
      " 5   Qty               23040 non-null  int64  \n",
      " 6   Rate              23040 non-null  int64  \n",
      " 7   Tax               23040 non-null  float64\n",
      " 8   total_amt         23040 non-null  float64\n",
      " 9   Store_type        23040 non-null  object \n",
      "dtypes: float64(2), int64(6), object(2)\n",
      "memory usage: 1.9+ MB\n"
     ]
    }
   ],
   "source": [
    "transaction.info()"
   ]
  },
  {
   "cell_type": "markdown",
   "id": "9225f1ee",
   "metadata": {
    "papermill": {
     "duration": 0.016691,
     "end_time": "2022-12-07T13:09:04.854060",
     "exception": false,
     "start_time": "2022-12-07T13:09:04.837369",
     "status": "completed"
    },
    "tags": []
   },
   "source": [
    "1. Merge the datasets Customers, Product Hierarchy and Transactions as Customer_Final. Ensure to\n",
    "keep all customers who have done transactions with us and select the join type accordingly"
   ]
  },
  {
   "cell_type": "code",
   "execution_count": 14,
   "id": "4639f2b3",
   "metadata": {
    "execution": {
     "iopub.execute_input": "2022-12-07T13:09:04.890958Z",
     "iopub.status.busy": "2022-12-07T13:09:04.890616Z",
     "iopub.status.idle": "2022-12-07T13:09:04.912931Z",
     "shell.execute_reply": "2022-12-07T13:09:04.911542Z"
    },
    "papermill": {
     "duration": 0.044125,
     "end_time": "2022-12-07T13:09:04.915421",
     "exception": false,
     "start_time": "2022-12-07T13:09:04.871296",
     "status": "completed"
    },
    "tags": []
   },
   "outputs": [],
   "source": [
    "prod_concat = pd.merge(left=transaction, right=prodinfo,on=[\"prod_cat_code\",\"prod_subcat_code\"],how=\"left\")"
   ]
  },
  {
   "cell_type": "code",
   "execution_count": 15,
   "id": "e44b9188",
   "metadata": {
    "execution": {
     "iopub.execute_input": "2022-12-07T13:09:04.951303Z",
     "iopub.status.busy": "2022-12-07T13:09:04.950314Z",
     "iopub.status.idle": "2022-12-07T13:09:04.955508Z",
     "shell.execute_reply": "2022-12-07T13:09:04.954524Z"
    },
    "papermill": {
     "duration": 0.02549,
     "end_time": "2022-12-07T13:09:04.957750",
     "exception": false,
     "start_time": "2022-12-07T13:09:04.932260",
     "status": "completed"
    },
    "tags": []
   },
   "outputs": [],
   "source": [
    "#pd.merge(df1, df2, left_on='left_column_name', right_on='right_column_name')prod_concat = pd.merge(left=transaction, right=prod_info,on=[\"prod_cat_code\",\"prod_subcat_code\"],how=\"left\")"
   ]
  },
  {
   "cell_type": "code",
   "execution_count": 16,
   "id": "78b24bdf",
   "metadata": {
    "execution": {
     "iopub.execute_input": "2022-12-07T13:09:04.992707Z",
     "iopub.status.busy": "2022-12-07T13:09:04.992306Z",
     "iopub.status.idle": "2022-12-07T13:09:05.007217Z",
     "shell.execute_reply": "2022-12-07T13:09:05.006386Z"
    },
    "papermill": {
     "duration": 0.035169,
     "end_time": "2022-12-07T13:09:05.009719",
     "exception": false,
     "start_time": "2022-12-07T13:09:04.974550",
     "status": "completed"
    },
    "tags": []
   },
   "outputs": [
    {
     "data": {
      "text/html": [
       "<div>\n",
       "<style scoped>\n",
       "    .dataframe tbody tr th:only-of-type {\n",
       "        vertical-align: middle;\n",
       "    }\n",
       "\n",
       "    .dataframe tbody tr th {\n",
       "        vertical-align: top;\n",
       "    }\n",
       "\n",
       "    .dataframe thead th {\n",
       "        text-align: right;\n",
       "    }\n",
       "</style>\n",
       "<table border=\"1\" class=\"dataframe\">\n",
       "  <thead>\n",
       "    <tr style=\"text-align: right;\">\n",
       "      <th></th>\n",
       "      <th>transaction_id</th>\n",
       "      <th>cust_id</th>\n",
       "      <th>tran_date</th>\n",
       "      <th>prod_subcat_code</th>\n",
       "      <th>prod_cat_code</th>\n",
       "      <th>Qty</th>\n",
       "      <th>Rate</th>\n",
       "      <th>Tax</th>\n",
       "      <th>total_amt</th>\n",
       "      <th>Store_type</th>\n",
       "      <th>prod_cat</th>\n",
       "      <th>prod_subcat</th>\n",
       "    </tr>\n",
       "  </thead>\n",
       "  <tbody>\n",
       "    <tr>\n",
       "      <th>0</th>\n",
       "      <td>80712190438</td>\n",
       "      <td>270351</td>\n",
       "      <td>28-02-2014</td>\n",
       "      <td>1</td>\n",
       "      <td>1</td>\n",
       "      <td>-5</td>\n",
       "      <td>-772</td>\n",
       "      <td>405.300</td>\n",
       "      <td>-4265.300</td>\n",
       "      <td>e-Shop</td>\n",
       "      <td>Clothing</td>\n",
       "      <td>Women</td>\n",
       "    </tr>\n",
       "    <tr>\n",
       "      <th>1</th>\n",
       "      <td>29258453508</td>\n",
       "      <td>270384</td>\n",
       "      <td>27-02-2014</td>\n",
       "      <td>5</td>\n",
       "      <td>3</td>\n",
       "      <td>-5</td>\n",
       "      <td>-1497</td>\n",
       "      <td>785.925</td>\n",
       "      <td>-8270.925</td>\n",
       "      <td>e-Shop</td>\n",
       "      <td>Electronics</td>\n",
       "      <td>Computers</td>\n",
       "    </tr>\n",
       "    <tr>\n",
       "      <th>2</th>\n",
       "      <td>51750724947</td>\n",
       "      <td>273420</td>\n",
       "      <td>24-02-2014</td>\n",
       "      <td>6</td>\n",
       "      <td>5</td>\n",
       "      <td>-2</td>\n",
       "      <td>-791</td>\n",
       "      <td>166.110</td>\n",
       "      <td>-1748.110</td>\n",
       "      <td>TeleShop</td>\n",
       "      <td>Books</td>\n",
       "      <td>DIY</td>\n",
       "    </tr>\n",
       "    <tr>\n",
       "      <th>3</th>\n",
       "      <td>93274880719</td>\n",
       "      <td>271509</td>\n",
       "      <td>24-02-2014</td>\n",
       "      <td>11</td>\n",
       "      <td>6</td>\n",
       "      <td>-3</td>\n",
       "      <td>-1363</td>\n",
       "      <td>429.345</td>\n",
       "      <td>-4518.345</td>\n",
       "      <td>e-Shop</td>\n",
       "      <td>Home and kitchen</td>\n",
       "      <td>Bath</td>\n",
       "    </tr>\n",
       "    <tr>\n",
       "      <th>4</th>\n",
       "      <td>51750724947</td>\n",
       "      <td>273420</td>\n",
       "      <td>23-02-2014</td>\n",
       "      <td>6</td>\n",
       "      <td>5</td>\n",
       "      <td>-2</td>\n",
       "      <td>-791</td>\n",
       "      <td>166.110</td>\n",
       "      <td>-1748.110</td>\n",
       "      <td>TeleShop</td>\n",
       "      <td>Books</td>\n",
       "      <td>DIY</td>\n",
       "    </tr>\n",
       "  </tbody>\n",
       "</table>\n",
       "</div>"
      ],
      "text/plain": [
       "   transaction_id  cust_id   tran_date  prod_subcat_code  prod_cat_code  Qty  \\\n",
       "0     80712190438   270351  28-02-2014                 1              1   -5   \n",
       "1     29258453508   270384  27-02-2014                 5              3   -5   \n",
       "2     51750724947   273420  24-02-2014                 6              5   -2   \n",
       "3     93274880719   271509  24-02-2014                11              6   -3   \n",
       "4     51750724947   273420  23-02-2014                 6              5   -2   \n",
       "\n",
       "   Rate      Tax  total_amt Store_type          prod_cat prod_subcat  \n",
       "0  -772  405.300  -4265.300     e-Shop          Clothing       Women  \n",
       "1 -1497  785.925  -8270.925     e-Shop       Electronics   Computers  \n",
       "2  -791  166.110  -1748.110   TeleShop             Books         DIY  \n",
       "3 -1363  429.345  -4518.345     e-Shop  Home and kitchen        Bath  \n",
       "4  -791  166.110  -1748.110   TeleShop             Books         DIY  "
      ]
     },
     "execution_count": 16,
     "metadata": {},
     "output_type": "execute_result"
    }
   ],
   "source": [
    "prod_concat.head()"
   ]
  },
  {
   "cell_type": "code",
   "execution_count": 17,
   "id": "06125e8a",
   "metadata": {
    "execution": {
     "iopub.execute_input": "2022-12-07T13:09:05.045876Z",
     "iopub.status.busy": "2022-12-07T13:09:05.045525Z",
     "iopub.status.idle": "2022-12-07T13:09:05.057456Z",
     "shell.execute_reply": "2022-12-07T13:09:05.055878Z"
    },
    "papermill": {
     "duration": 0.032867,
     "end_time": "2022-12-07T13:09:05.059973",
     "exception": false,
     "start_time": "2022-12-07T13:09:05.027106",
     "status": "completed"
    },
    "tags": []
   },
   "outputs": [
    {
     "data": {
      "text/html": [
       "<div>\n",
       "<style scoped>\n",
       "    .dataframe tbody tr th:only-of-type {\n",
       "        vertical-align: middle;\n",
       "    }\n",
       "\n",
       "    .dataframe tbody tr th {\n",
       "        vertical-align: top;\n",
       "    }\n",
       "\n",
       "    .dataframe thead th {\n",
       "        text-align: right;\n",
       "    }\n",
       "</style>\n",
       "<table border=\"1\" class=\"dataframe\">\n",
       "  <thead>\n",
       "    <tr style=\"text-align: right;\">\n",
       "      <th></th>\n",
       "      <th>customer_Id</th>\n",
       "      <th>DOB</th>\n",
       "      <th>Gender</th>\n",
       "      <th>city_code</th>\n",
       "    </tr>\n",
       "  </thead>\n",
       "  <tbody>\n",
       "    <tr>\n",
       "      <th>0</th>\n",
       "      <td>268408</td>\n",
       "      <td>02-01-1970</td>\n",
       "      <td>M</td>\n",
       "      <td>4.0</td>\n",
       "    </tr>\n",
       "    <tr>\n",
       "      <th>1</th>\n",
       "      <td>269696</td>\n",
       "      <td>07-01-1970</td>\n",
       "      <td>F</td>\n",
       "      <td>8.0</td>\n",
       "    </tr>\n",
       "    <tr>\n",
       "      <th>2</th>\n",
       "      <td>268159</td>\n",
       "      <td>08-01-1970</td>\n",
       "      <td>F</td>\n",
       "      <td>8.0</td>\n",
       "    </tr>\n",
       "    <tr>\n",
       "      <th>3</th>\n",
       "      <td>270181</td>\n",
       "      <td>10-01-1970</td>\n",
       "      <td>F</td>\n",
       "      <td>2.0</td>\n",
       "    </tr>\n",
       "    <tr>\n",
       "      <th>4</th>\n",
       "      <td>268073</td>\n",
       "      <td>11-01-1970</td>\n",
       "      <td>M</td>\n",
       "      <td>1.0</td>\n",
       "    </tr>\n",
       "  </tbody>\n",
       "</table>\n",
       "</div>"
      ],
      "text/plain": [
       "   customer_Id         DOB Gender  city_code\n",
       "0       268408  02-01-1970      M        4.0\n",
       "1       269696  07-01-1970      F        8.0\n",
       "2       268159  08-01-1970      F        8.0\n",
       "3       270181  10-01-1970      F        2.0\n",
       "4       268073  11-01-1970      M        1.0"
      ]
     },
     "execution_count": 17,
     "metadata": {},
     "output_type": "execute_result"
    }
   ],
   "source": [
    "customer.head()"
   ]
  },
  {
   "cell_type": "code",
   "execution_count": 18,
   "id": "a26a2f39",
   "metadata": {
    "execution": {
     "iopub.execute_input": "2022-12-07T13:09:05.097320Z",
     "iopub.status.busy": "2022-12-07T13:09:05.096934Z",
     "iopub.status.idle": "2022-12-07T13:09:05.111330Z",
     "shell.execute_reply": "2022-12-07T13:09:05.110306Z"
    },
    "papermill": {
     "duration": 0.036007,
     "end_time": "2022-12-07T13:09:05.113807",
     "exception": false,
     "start_time": "2022-12-07T13:09:05.077800",
     "status": "completed"
    },
    "tags": []
   },
   "outputs": [],
   "source": [
    "customer_final = pd.merge(prod_concat,customer, left_on=\"cust_id\", right_on=\"customer_Id\", how=\"left\")\n"
   ]
  },
  {
   "cell_type": "code",
   "execution_count": 19,
   "id": "64f75d71",
   "metadata": {
    "execution": {
     "iopub.execute_input": "2022-12-07T13:09:05.150545Z",
     "iopub.status.busy": "2022-12-07T13:09:05.150165Z",
     "iopub.status.idle": "2022-12-07T13:09:05.168155Z",
     "shell.execute_reply": "2022-12-07T13:09:05.167081Z"
    },
    "papermill": {
     "duration": 0.039051,
     "end_time": "2022-12-07T13:09:05.170409",
     "exception": false,
     "start_time": "2022-12-07T13:09:05.131358",
     "status": "completed"
    },
    "tags": []
   },
   "outputs": [
    {
     "data": {
      "text/html": [
       "<div>\n",
       "<style scoped>\n",
       "    .dataframe tbody tr th:only-of-type {\n",
       "        vertical-align: middle;\n",
       "    }\n",
       "\n",
       "    .dataframe tbody tr th {\n",
       "        vertical-align: top;\n",
       "    }\n",
       "\n",
       "    .dataframe thead th {\n",
       "        text-align: right;\n",
       "    }\n",
       "</style>\n",
       "<table border=\"1\" class=\"dataframe\">\n",
       "  <thead>\n",
       "    <tr style=\"text-align: right;\">\n",
       "      <th></th>\n",
       "      <th>transaction_id</th>\n",
       "      <th>cust_id</th>\n",
       "      <th>tran_date</th>\n",
       "      <th>prod_subcat_code</th>\n",
       "      <th>prod_cat_code</th>\n",
       "      <th>Qty</th>\n",
       "      <th>Rate</th>\n",
       "      <th>Tax</th>\n",
       "      <th>total_amt</th>\n",
       "      <th>Store_type</th>\n",
       "      <th>prod_cat</th>\n",
       "      <th>prod_subcat</th>\n",
       "      <th>customer_Id</th>\n",
       "      <th>DOB</th>\n",
       "      <th>Gender</th>\n",
       "      <th>city_code</th>\n",
       "    </tr>\n",
       "  </thead>\n",
       "  <tbody>\n",
       "    <tr>\n",
       "      <th>0</th>\n",
       "      <td>80712190438</td>\n",
       "      <td>270351</td>\n",
       "      <td>28-02-2014</td>\n",
       "      <td>1</td>\n",
       "      <td>1</td>\n",
       "      <td>-5</td>\n",
       "      <td>-772</td>\n",
       "      <td>405.300</td>\n",
       "      <td>-4265.300</td>\n",
       "      <td>e-Shop</td>\n",
       "      <td>Clothing</td>\n",
       "      <td>Women</td>\n",
       "      <td>270351.0</td>\n",
       "      <td>26-09-1981</td>\n",
       "      <td>M</td>\n",
       "      <td>5.0</td>\n",
       "    </tr>\n",
       "    <tr>\n",
       "      <th>1</th>\n",
       "      <td>29258453508</td>\n",
       "      <td>270384</td>\n",
       "      <td>27-02-2014</td>\n",
       "      <td>5</td>\n",
       "      <td>3</td>\n",
       "      <td>-5</td>\n",
       "      <td>-1497</td>\n",
       "      <td>785.925</td>\n",
       "      <td>-8270.925</td>\n",
       "      <td>e-Shop</td>\n",
       "      <td>Electronics</td>\n",
       "      <td>Computers</td>\n",
       "      <td>270384.0</td>\n",
       "      <td>11-05-1973</td>\n",
       "      <td>F</td>\n",
       "      <td>8.0</td>\n",
       "    </tr>\n",
       "    <tr>\n",
       "      <th>2</th>\n",
       "      <td>51750724947</td>\n",
       "      <td>273420</td>\n",
       "      <td>24-02-2014</td>\n",
       "      <td>6</td>\n",
       "      <td>5</td>\n",
       "      <td>-2</td>\n",
       "      <td>-791</td>\n",
       "      <td>166.110</td>\n",
       "      <td>-1748.110</td>\n",
       "      <td>TeleShop</td>\n",
       "      <td>Books</td>\n",
       "      <td>DIY</td>\n",
       "      <td>273420.0</td>\n",
       "      <td>27-07-1992</td>\n",
       "      <td>M</td>\n",
       "      <td>8.0</td>\n",
       "    </tr>\n",
       "    <tr>\n",
       "      <th>3</th>\n",
       "      <td>93274880719</td>\n",
       "      <td>271509</td>\n",
       "      <td>24-02-2014</td>\n",
       "      <td>11</td>\n",
       "      <td>6</td>\n",
       "      <td>-3</td>\n",
       "      <td>-1363</td>\n",
       "      <td>429.345</td>\n",
       "      <td>-4518.345</td>\n",
       "      <td>e-Shop</td>\n",
       "      <td>Home and kitchen</td>\n",
       "      <td>Bath</td>\n",
       "      <td>271509.0</td>\n",
       "      <td>08-06-1981</td>\n",
       "      <td>M</td>\n",
       "      <td>3.0</td>\n",
       "    </tr>\n",
       "    <tr>\n",
       "      <th>4</th>\n",
       "      <td>51750724947</td>\n",
       "      <td>273420</td>\n",
       "      <td>23-02-2014</td>\n",
       "      <td>6</td>\n",
       "      <td>5</td>\n",
       "      <td>-2</td>\n",
       "      <td>-791</td>\n",
       "      <td>166.110</td>\n",
       "      <td>-1748.110</td>\n",
       "      <td>TeleShop</td>\n",
       "      <td>Books</td>\n",
       "      <td>DIY</td>\n",
       "      <td>273420.0</td>\n",
       "      <td>27-07-1992</td>\n",
       "      <td>M</td>\n",
       "      <td>8.0</td>\n",
       "    </tr>\n",
       "  </tbody>\n",
       "</table>\n",
       "</div>"
      ],
      "text/plain": [
       "   transaction_id  cust_id   tran_date  prod_subcat_code  prod_cat_code  Qty  \\\n",
       "0     80712190438   270351  28-02-2014                 1              1   -5   \n",
       "1     29258453508   270384  27-02-2014                 5              3   -5   \n",
       "2     51750724947   273420  24-02-2014                 6              5   -2   \n",
       "3     93274880719   271509  24-02-2014                11              6   -3   \n",
       "4     51750724947   273420  23-02-2014                 6              5   -2   \n",
       "\n",
       "   Rate      Tax  total_amt Store_type          prod_cat prod_subcat  \\\n",
       "0  -772  405.300  -4265.300     e-Shop          Clothing       Women   \n",
       "1 -1497  785.925  -8270.925     e-Shop       Electronics   Computers   \n",
       "2  -791  166.110  -1748.110   TeleShop             Books         DIY   \n",
       "3 -1363  429.345  -4518.345     e-Shop  Home and kitchen        Bath   \n",
       "4  -791  166.110  -1748.110   TeleShop             Books         DIY   \n",
       "\n",
       "   customer_Id         DOB Gender  city_code  \n",
       "0     270351.0  26-09-1981      M        5.0  \n",
       "1     270384.0  11-05-1973      F        8.0  \n",
       "2     273420.0  27-07-1992      M        8.0  \n",
       "3     271509.0  08-06-1981      M        3.0  \n",
       "4     273420.0  27-07-1992      M        8.0  "
      ]
     },
     "execution_count": 19,
     "metadata": {},
     "output_type": "execute_result"
    }
   ],
   "source": [
    "customer_final.head()"
   ]
  },
  {
   "cell_type": "markdown",
   "id": "03d22f22",
   "metadata": {
    "papermill": {
     "duration": 0.017207,
     "end_time": "2022-12-07T13:09:05.205222",
     "exception": false,
     "start_time": "2022-12-07T13:09:05.188015",
     "status": "completed"
    },
    "tags": []
   },
   "source": []
  },
  {
   "cell_type": "code",
   "execution_count": 20,
   "id": "5a1e41d7",
   "metadata": {
    "execution": {
     "iopub.execute_input": "2022-12-07T13:09:05.242136Z",
     "iopub.status.busy": "2022-12-07T13:09:05.241746Z",
     "iopub.status.idle": "2022-12-07T13:09:05.262617Z",
     "shell.execute_reply": "2022-12-07T13:09:05.261085Z"
    },
    "papermill": {
     "duration": 0.042317,
     "end_time": "2022-12-07T13:09:05.265113",
     "exception": false,
     "start_time": "2022-12-07T13:09:05.222796",
     "status": "completed"
    },
    "tags": []
   },
   "outputs": [
    {
     "name": "stdout",
     "output_type": "stream",
     "text": [
      "<class 'pandas.core.frame.DataFrame'>\n",
      "Int64Index: 23040 entries, 0 to 23039\n",
      "Data columns (total 16 columns):\n",
      " #   Column            Non-Null Count  Dtype  \n",
      "---  ------            --------------  -----  \n",
      " 0   transaction_id    23040 non-null  int64  \n",
      " 1   cust_id           23040 non-null  int64  \n",
      " 2   tran_date         23040 non-null  object \n",
      " 3   prod_subcat_code  23040 non-null  int64  \n",
      " 4   prod_cat_code     23040 non-null  int64  \n",
      " 5   Qty               23040 non-null  int64  \n",
      " 6   Rate              23040 non-null  int64  \n",
      " 7   Tax               23040 non-null  float64\n",
      " 8   total_amt         23040 non-null  float64\n",
      " 9   Store_type        23040 non-null  object \n",
      " 10  prod_cat          23040 non-null  object \n",
      " 11  prod_subcat       23040 non-null  object \n",
      " 12  customer_Id       23023 non-null  float64\n",
      " 13  DOB               23023 non-null  object \n",
      " 14  Gender            23023 non-null  object \n",
      " 15  city_code         23023 non-null  float64\n",
      "dtypes: float64(4), int64(6), object(6)\n",
      "memory usage: 3.0+ MB\n"
     ]
    }
   ],
   "source": [
    "customer_final.info()"
   ]
  },
  {
   "cell_type": "markdown",
   "id": "5d7b53f7",
   "metadata": {
    "papermill": {
     "duration": 0.020324,
     "end_time": "2022-12-07T13:09:05.306009",
     "exception": false,
     "start_time": "2022-12-07T13:09:05.285685",
     "status": "completed"
    },
    "tags": []
   },
   "source": [
    "Changing the DOB to datetime"
   ]
  },
  {
   "cell_type": "code",
   "execution_count": 21,
   "id": "f64913aa",
   "metadata": {
    "execution": {
     "iopub.execute_input": "2022-12-07T13:09:05.348420Z",
     "iopub.status.busy": "2022-12-07T13:09:05.348049Z",
     "iopub.status.idle": "2022-12-07T13:09:05.400918Z",
     "shell.execute_reply": "2022-12-07T13:09:05.399326Z"
    },
    "papermill": {
     "duration": 0.077031,
     "end_time": "2022-12-07T13:09:05.403708",
     "exception": false,
     "start_time": "2022-12-07T13:09:05.326677",
     "status": "completed"
    },
    "tags": []
   },
   "outputs": [],
   "source": [
    "customer_final[\"DOB\"] = pd.to_datetime(customer_final[\"DOB\"], format=\"%d-%m-%Y\")"
   ]
  },
  {
   "cell_type": "markdown",
   "id": "88e6e937",
   "metadata": {
    "papermill": {
     "duration": 0.017718,
     "end_time": "2022-12-07T13:09:05.439259",
     "exception": false,
     "start_time": "2022-12-07T13:09:05.421541",
     "status": "completed"
    },
    "tags": []
   },
   "source": []
  },
  {
   "cell_type": "code",
   "execution_count": 22,
   "id": "3beac5b1",
   "metadata": {
    "execution": {
     "iopub.execute_input": "2022-12-07T13:09:05.483250Z",
     "iopub.status.busy": "2022-12-07T13:09:05.482235Z",
     "iopub.status.idle": "2022-12-07T13:09:05.501993Z",
     "shell.execute_reply": "2022-12-07T13:09:05.500540Z"
    },
    "papermill": {
     "duration": 0.04319,
     "end_time": "2022-12-07T13:09:05.503879",
     "exception": false,
     "start_time": "2022-12-07T13:09:05.460689",
     "status": "completed"
    },
    "tags": []
   },
   "outputs": [
    {
     "name": "stdout",
     "output_type": "stream",
     "text": [
      "<class 'pandas.core.frame.DataFrame'>\n",
      "Int64Index: 23040 entries, 0 to 23039\n",
      "Data columns (total 16 columns):\n",
      " #   Column            Non-Null Count  Dtype         \n",
      "---  ------            --------------  -----         \n",
      " 0   transaction_id    23040 non-null  int64         \n",
      " 1   cust_id           23040 non-null  int64         \n",
      " 2   tran_date         23040 non-null  object        \n",
      " 3   prod_subcat_code  23040 non-null  int64         \n",
      " 4   prod_cat_code     23040 non-null  int64         \n",
      " 5   Qty               23040 non-null  int64         \n",
      " 6   Rate              23040 non-null  int64         \n",
      " 7   Tax               23040 non-null  float64       \n",
      " 8   total_amt         23040 non-null  float64       \n",
      " 9   Store_type        23040 non-null  object        \n",
      " 10  prod_cat          23040 non-null  object        \n",
      " 11  prod_subcat       23040 non-null  object        \n",
      " 12  customer_Id       23023 non-null  float64       \n",
      " 13  DOB               23023 non-null  datetime64[ns]\n",
      " 14  Gender            23023 non-null  object        \n",
      " 15  city_code         23023 non-null  float64       \n",
      "dtypes: datetime64[ns](1), float64(4), int64(6), object(5)\n",
      "memory usage: 3.0+ MB\n"
     ]
    }
   ],
   "source": [
    "customer_final.info()"
   ]
  },
  {
   "cell_type": "markdown",
   "id": "8c089ce9",
   "metadata": {
    "papermill": {
     "duration": 0.020312,
     "end_time": "2022-12-07T13:09:05.543343",
     "exception": false,
     "start_time": "2022-12-07T13:09:05.523031",
     "status": "completed"
    },
    "tags": []
   },
   "source": [
    "Converting tran_date to date and time format"
   ]
  },
  {
   "cell_type": "code",
   "execution_count": 23,
   "id": "d1c8c565",
   "metadata": {
    "execution": {
     "iopub.execute_input": "2022-12-07T13:09:05.581583Z",
     "iopub.status.busy": "2022-12-07T13:09:05.581195Z",
     "iopub.status.idle": "2022-12-07T13:09:05.624543Z",
     "shell.execute_reply": "2022-12-07T13:09:05.623321Z"
    },
    "papermill": {
     "duration": 0.065116,
     "end_time": "2022-12-07T13:09:05.626880",
     "exception": false,
     "start_time": "2022-12-07T13:09:05.561764",
     "status": "completed"
    },
    "tags": []
   },
   "outputs": [],
   "source": [
    "customer_final[\"tran_date\"] = pd.to_datetime(customer_final[\"tran_date\"])"
   ]
  },
  {
   "cell_type": "markdown",
   "id": "a0e0ebe2",
   "metadata": {
    "papermill": {
     "duration": 0.022565,
     "end_time": "2022-12-07T13:09:05.668337",
     "exception": false,
     "start_time": "2022-12-07T13:09:05.645772",
     "status": "completed"
    },
    "tags": []
   },
   "source": [
    "2. Prepare a summary report for the merged data set.\n",
    "\n",
    "    a. Get the column names and their corresponding data types"
   ]
  },
  {
   "cell_type": "markdown",
   "id": "0ab9aa0b",
   "metadata": {
    "papermill": {
     "duration": 0.021194,
     "end_time": "2022-12-07T13:09:05.711237",
     "exception": false,
     "start_time": "2022-12-07T13:09:05.690043",
     "status": "completed"
    },
    "tags": []
   },
   "source": []
  },
  {
   "cell_type": "markdown",
   "id": "ccbfcc49",
   "metadata": {
    "papermill": {
     "duration": 0.02029,
     "end_time": "2022-12-07T13:09:05.754999",
     "exception": false,
     "start_time": "2022-12-07T13:09:05.734709",
     "status": "completed"
    },
    "tags": []
   },
   "source": [
    " b. Top/Bottom 10 observations\n"
   ]
  },
  {
   "cell_type": "code",
   "execution_count": 24,
   "id": "4228f16b",
   "metadata": {
    "execution": {
     "iopub.execute_input": "2022-12-07T13:09:05.792798Z",
     "iopub.status.busy": "2022-12-07T13:09:05.792395Z",
     "iopub.status.idle": "2022-12-07T13:09:05.812513Z",
     "shell.execute_reply": "2022-12-07T13:09:05.811744Z"
    },
    "papermill": {
     "duration": 0.041747,
     "end_time": "2022-12-07T13:09:05.814936",
     "exception": false,
     "start_time": "2022-12-07T13:09:05.773189",
     "status": "completed"
    },
    "tags": []
   },
   "outputs": [
    {
     "data": {
      "text/html": [
       "<div>\n",
       "<style scoped>\n",
       "    .dataframe tbody tr th:only-of-type {\n",
       "        vertical-align: middle;\n",
       "    }\n",
       "\n",
       "    .dataframe tbody tr th {\n",
       "        vertical-align: top;\n",
       "    }\n",
       "\n",
       "    .dataframe thead th {\n",
       "        text-align: right;\n",
       "    }\n",
       "</style>\n",
       "<table border=\"1\" class=\"dataframe\">\n",
       "  <thead>\n",
       "    <tr style=\"text-align: right;\">\n",
       "      <th></th>\n",
       "      <th>transaction_id</th>\n",
       "      <th>cust_id</th>\n",
       "      <th>tran_date</th>\n",
       "      <th>prod_subcat_code</th>\n",
       "      <th>prod_cat_code</th>\n",
       "      <th>Qty</th>\n",
       "      <th>Rate</th>\n",
       "      <th>Tax</th>\n",
       "      <th>total_amt</th>\n",
       "      <th>Store_type</th>\n",
       "      <th>prod_cat</th>\n",
       "      <th>prod_subcat</th>\n",
       "      <th>customer_Id</th>\n",
       "      <th>DOB</th>\n",
       "      <th>Gender</th>\n",
       "      <th>city_code</th>\n",
       "    </tr>\n",
       "  </thead>\n",
       "  <tbody>\n",
       "    <tr>\n",
       "      <th>0</th>\n",
       "      <td>80712190438</td>\n",
       "      <td>270351</td>\n",
       "      <td>2014-02-28</td>\n",
       "      <td>1</td>\n",
       "      <td>1</td>\n",
       "      <td>-5</td>\n",
       "      <td>-772</td>\n",
       "      <td>405.300</td>\n",
       "      <td>-4265.300</td>\n",
       "      <td>e-Shop</td>\n",
       "      <td>Clothing</td>\n",
       "      <td>Women</td>\n",
       "      <td>270351.0</td>\n",
       "      <td>1981-09-26</td>\n",
       "      <td>M</td>\n",
       "      <td>5.0</td>\n",
       "    </tr>\n",
       "    <tr>\n",
       "      <th>1</th>\n",
       "      <td>29258453508</td>\n",
       "      <td>270384</td>\n",
       "      <td>2014-02-27</td>\n",
       "      <td>5</td>\n",
       "      <td>3</td>\n",
       "      <td>-5</td>\n",
       "      <td>-1497</td>\n",
       "      <td>785.925</td>\n",
       "      <td>-8270.925</td>\n",
       "      <td>e-Shop</td>\n",
       "      <td>Electronics</td>\n",
       "      <td>Computers</td>\n",
       "      <td>270384.0</td>\n",
       "      <td>1973-05-11</td>\n",
       "      <td>F</td>\n",
       "      <td>8.0</td>\n",
       "    </tr>\n",
       "    <tr>\n",
       "      <th>2</th>\n",
       "      <td>51750724947</td>\n",
       "      <td>273420</td>\n",
       "      <td>2014-02-24</td>\n",
       "      <td>6</td>\n",
       "      <td>5</td>\n",
       "      <td>-2</td>\n",
       "      <td>-791</td>\n",
       "      <td>166.110</td>\n",
       "      <td>-1748.110</td>\n",
       "      <td>TeleShop</td>\n",
       "      <td>Books</td>\n",
       "      <td>DIY</td>\n",
       "      <td>273420.0</td>\n",
       "      <td>1992-07-27</td>\n",
       "      <td>M</td>\n",
       "      <td>8.0</td>\n",
       "    </tr>\n",
       "    <tr>\n",
       "      <th>3</th>\n",
       "      <td>93274880719</td>\n",
       "      <td>271509</td>\n",
       "      <td>2014-02-24</td>\n",
       "      <td>11</td>\n",
       "      <td>6</td>\n",
       "      <td>-3</td>\n",
       "      <td>-1363</td>\n",
       "      <td>429.345</td>\n",
       "      <td>-4518.345</td>\n",
       "      <td>e-Shop</td>\n",
       "      <td>Home and kitchen</td>\n",
       "      <td>Bath</td>\n",
       "      <td>271509.0</td>\n",
       "      <td>1981-06-08</td>\n",
       "      <td>M</td>\n",
       "      <td>3.0</td>\n",
       "    </tr>\n",
       "    <tr>\n",
       "      <th>4</th>\n",
       "      <td>51750724947</td>\n",
       "      <td>273420</td>\n",
       "      <td>2014-02-23</td>\n",
       "      <td>6</td>\n",
       "      <td>5</td>\n",
       "      <td>-2</td>\n",
       "      <td>-791</td>\n",
       "      <td>166.110</td>\n",
       "      <td>-1748.110</td>\n",
       "      <td>TeleShop</td>\n",
       "      <td>Books</td>\n",
       "      <td>DIY</td>\n",
       "      <td>273420.0</td>\n",
       "      <td>1992-07-27</td>\n",
       "      <td>M</td>\n",
       "      <td>8.0</td>\n",
       "    </tr>\n",
       "    <tr>\n",
       "      <th>5</th>\n",
       "      <td>97439039119</td>\n",
       "      <td>272357</td>\n",
       "      <td>2014-02-23</td>\n",
       "      <td>8</td>\n",
       "      <td>3</td>\n",
       "      <td>-2</td>\n",
       "      <td>-824</td>\n",
       "      <td>173.040</td>\n",
       "      <td>-1821.040</td>\n",
       "      <td>TeleShop</td>\n",
       "      <td>Electronics</td>\n",
       "      <td>Personal Appliances</td>\n",
       "      <td>272357.0</td>\n",
       "      <td>1982-10-09</td>\n",
       "      <td>F</td>\n",
       "      <td>6.0</td>\n",
       "    </tr>\n",
       "    <tr>\n",
       "      <th>6</th>\n",
       "      <td>45649838090</td>\n",
       "      <td>273667</td>\n",
       "      <td>2014-02-22</td>\n",
       "      <td>11</td>\n",
       "      <td>6</td>\n",
       "      <td>-1</td>\n",
       "      <td>-1450</td>\n",
       "      <td>152.250</td>\n",
       "      <td>-1602.250</td>\n",
       "      <td>e-Shop</td>\n",
       "      <td>Home and kitchen</td>\n",
       "      <td>Bath</td>\n",
       "      <td>273667.0</td>\n",
       "      <td>1981-05-29</td>\n",
       "      <td>M</td>\n",
       "      <td>9.0</td>\n",
       "    </tr>\n",
       "    <tr>\n",
       "      <th>7</th>\n",
       "      <td>22643667930</td>\n",
       "      <td>271489</td>\n",
       "      <td>2014-02-22</td>\n",
       "      <td>12</td>\n",
       "      <td>6</td>\n",
       "      <td>-1</td>\n",
       "      <td>-1225</td>\n",
       "      <td>128.625</td>\n",
       "      <td>-1353.625</td>\n",
       "      <td>TeleShop</td>\n",
       "      <td>Home and kitchen</td>\n",
       "      <td>Tools</td>\n",
       "      <td>271489.0</td>\n",
       "      <td>1971-04-21</td>\n",
       "      <td>M</td>\n",
       "      <td>9.0</td>\n",
       "    </tr>\n",
       "    <tr>\n",
       "      <th>8</th>\n",
       "      <td>79792372943</td>\n",
       "      <td>275108</td>\n",
       "      <td>2014-02-22</td>\n",
       "      <td>3</td>\n",
       "      <td>1</td>\n",
       "      <td>-3</td>\n",
       "      <td>-908</td>\n",
       "      <td>286.020</td>\n",
       "      <td>-3010.020</td>\n",
       "      <td>MBR</td>\n",
       "      <td>Clothing</td>\n",
       "      <td>Kids</td>\n",
       "      <td>275108.0</td>\n",
       "      <td>1971-11-04</td>\n",
       "      <td>F</td>\n",
       "      <td>8.0</td>\n",
       "    </tr>\n",
       "    <tr>\n",
       "      <th>9</th>\n",
       "      <td>50076728598</td>\n",
       "      <td>269014</td>\n",
       "      <td>2014-02-21</td>\n",
       "      <td>8</td>\n",
       "      <td>3</td>\n",
       "      <td>-4</td>\n",
       "      <td>-581</td>\n",
       "      <td>244.020</td>\n",
       "      <td>-2568.020</td>\n",
       "      <td>e-Shop</td>\n",
       "      <td>Electronics</td>\n",
       "      <td>Personal Appliances</td>\n",
       "      <td>269014.0</td>\n",
       "      <td>1979-11-27</td>\n",
       "      <td>F</td>\n",
       "      <td>3.0</td>\n",
       "    </tr>\n",
       "  </tbody>\n",
       "</table>\n",
       "</div>"
      ],
      "text/plain": [
       "   transaction_id  cust_id  tran_date  prod_subcat_code  prod_cat_code  Qty  \\\n",
       "0     80712190438   270351 2014-02-28                 1              1   -5   \n",
       "1     29258453508   270384 2014-02-27                 5              3   -5   \n",
       "2     51750724947   273420 2014-02-24                 6              5   -2   \n",
       "3     93274880719   271509 2014-02-24                11              6   -3   \n",
       "4     51750724947   273420 2014-02-23                 6              5   -2   \n",
       "5     97439039119   272357 2014-02-23                 8              3   -2   \n",
       "6     45649838090   273667 2014-02-22                11              6   -1   \n",
       "7     22643667930   271489 2014-02-22                12              6   -1   \n",
       "8     79792372943   275108 2014-02-22                 3              1   -3   \n",
       "9     50076728598   269014 2014-02-21                 8              3   -4   \n",
       "\n",
       "   Rate      Tax  total_amt Store_type          prod_cat          prod_subcat  \\\n",
       "0  -772  405.300  -4265.300     e-Shop          Clothing                Women   \n",
       "1 -1497  785.925  -8270.925     e-Shop       Electronics            Computers   \n",
       "2  -791  166.110  -1748.110   TeleShop             Books                  DIY   \n",
       "3 -1363  429.345  -4518.345     e-Shop  Home and kitchen                 Bath   \n",
       "4  -791  166.110  -1748.110   TeleShop             Books                  DIY   \n",
       "5  -824  173.040  -1821.040   TeleShop       Electronics  Personal Appliances   \n",
       "6 -1450  152.250  -1602.250     e-Shop  Home and kitchen                 Bath   \n",
       "7 -1225  128.625  -1353.625   TeleShop  Home and kitchen                Tools   \n",
       "8  -908  286.020  -3010.020        MBR          Clothing                 Kids   \n",
       "9  -581  244.020  -2568.020     e-Shop       Electronics  Personal Appliances   \n",
       "\n",
       "   customer_Id        DOB Gender  city_code  \n",
       "0     270351.0 1981-09-26      M        5.0  \n",
       "1     270384.0 1973-05-11      F        8.0  \n",
       "2     273420.0 1992-07-27      M        8.0  \n",
       "3     271509.0 1981-06-08      M        3.0  \n",
       "4     273420.0 1992-07-27      M        8.0  \n",
       "5     272357.0 1982-10-09      F        6.0  \n",
       "6     273667.0 1981-05-29      M        9.0  \n",
       "7     271489.0 1971-04-21      M        9.0  \n",
       "8     275108.0 1971-11-04      F        8.0  \n",
       "9     269014.0 1979-11-27      F        3.0  "
      ]
     },
     "execution_count": 24,
     "metadata": {},
     "output_type": "execute_result"
    }
   ],
   "source": [
    "customer_final.head(10)"
   ]
  },
  {
   "cell_type": "code",
   "execution_count": 25,
   "id": "59d74b42",
   "metadata": {
    "execution": {
     "iopub.execute_input": "2022-12-07T13:09:05.854343Z",
     "iopub.status.busy": "2022-12-07T13:09:05.853760Z",
     "iopub.status.idle": "2022-12-07T13:09:05.875884Z",
     "shell.execute_reply": "2022-12-07T13:09:05.875139Z"
    },
    "papermill": {
     "duration": 0.043793,
     "end_time": "2022-12-07T13:09:05.877751",
     "exception": false,
     "start_time": "2022-12-07T13:09:05.833958",
     "status": "completed"
    },
    "tags": []
   },
   "outputs": [
    {
     "data": {
      "text/html": [
       "<div>\n",
       "<style scoped>\n",
       "    .dataframe tbody tr th:only-of-type {\n",
       "        vertical-align: middle;\n",
       "    }\n",
       "\n",
       "    .dataframe tbody tr th {\n",
       "        vertical-align: top;\n",
       "    }\n",
       "\n",
       "    .dataframe thead th {\n",
       "        text-align: right;\n",
       "    }\n",
       "</style>\n",
       "<table border=\"1\" class=\"dataframe\">\n",
       "  <thead>\n",
       "    <tr style=\"text-align: right;\">\n",
       "      <th></th>\n",
       "      <th>transaction_id</th>\n",
       "      <th>cust_id</th>\n",
       "      <th>tran_date</th>\n",
       "      <th>prod_subcat_code</th>\n",
       "      <th>prod_cat_code</th>\n",
       "      <th>Qty</th>\n",
       "      <th>Rate</th>\n",
       "      <th>Tax</th>\n",
       "      <th>total_amt</th>\n",
       "      <th>Store_type</th>\n",
       "      <th>prod_cat</th>\n",
       "      <th>prod_subcat</th>\n",
       "      <th>customer_Id</th>\n",
       "      <th>DOB</th>\n",
       "      <th>Gender</th>\n",
       "      <th>city_code</th>\n",
       "    </tr>\n",
       "  </thead>\n",
       "  <tbody>\n",
       "    <tr>\n",
       "      <th>23030</th>\n",
       "      <td>49882891062</td>\n",
       "      <td>271982</td>\n",
       "      <td>2011-01-25</td>\n",
       "      <td>10</td>\n",
       "      <td>5</td>\n",
       "      <td>4</td>\n",
       "      <td>1330</td>\n",
       "      <td>558.600</td>\n",
       "      <td>5878.600</td>\n",
       "      <td>e-Shop</td>\n",
       "      <td>Books</td>\n",
       "      <td>Non-Fiction</td>\n",
       "      <td>271982.0</td>\n",
       "      <td>1976-08-10</td>\n",
       "      <td>M</td>\n",
       "      <td>8.0</td>\n",
       "    </tr>\n",
       "    <tr>\n",
       "      <th>23031</th>\n",
       "      <td>14787475597</td>\n",
       "      <td>273982</td>\n",
       "      <td>2011-01-25</td>\n",
       "      <td>4</td>\n",
       "      <td>3</td>\n",
       "      <td>5</td>\n",
       "      <td>969</td>\n",
       "      <td>508.725</td>\n",
       "      <td>5353.725</td>\n",
       "      <td>e-Shop</td>\n",
       "      <td>Electronics</td>\n",
       "      <td>Mobiles</td>\n",
       "      <td>273982.0</td>\n",
       "      <td>1991-10-12</td>\n",
       "      <td>M</td>\n",
       "      <td>4.0</td>\n",
       "    </tr>\n",
       "    <tr>\n",
       "      <th>23032</th>\n",
       "      <td>50691119572</td>\n",
       "      <td>273031</td>\n",
       "      <td>2011-01-25</td>\n",
       "      <td>6</td>\n",
       "      <td>5</td>\n",
       "      <td>1</td>\n",
       "      <td>1148</td>\n",
       "      <td>120.540</td>\n",
       "      <td>1268.540</td>\n",
       "      <td>TeleShop</td>\n",
       "      <td>Books</td>\n",
       "      <td>DIY</td>\n",
       "      <td>273031.0</td>\n",
       "      <td>1980-01-17</td>\n",
       "      <td>F</td>\n",
       "      <td>8.0</td>\n",
       "    </tr>\n",
       "    <tr>\n",
       "      <th>23033</th>\n",
       "      <td>40893803228</td>\n",
       "      <td>272049</td>\n",
       "      <td>2011-01-25</td>\n",
       "      <td>11</td>\n",
       "      <td>6</td>\n",
       "      <td>3</td>\n",
       "      <td>1077</td>\n",
       "      <td>339.255</td>\n",
       "      <td>3570.255</td>\n",
       "      <td>e-Shop</td>\n",
       "      <td>Home and kitchen</td>\n",
       "      <td>Bath</td>\n",
       "      <td>272049.0</td>\n",
       "      <td>1975-06-28</td>\n",
       "      <td>F</td>\n",
       "      <td>6.0</td>\n",
       "    </tr>\n",
       "    <tr>\n",
       "      <th>23034</th>\n",
       "      <td>30856003613</td>\n",
       "      <td>266866</td>\n",
       "      <td>2011-01-25</td>\n",
       "      <td>4</td>\n",
       "      <td>2</td>\n",
       "      <td>2</td>\n",
       "      <td>444</td>\n",
       "      <td>93.240</td>\n",
       "      <td>981.240</td>\n",
       "      <td>TeleShop</td>\n",
       "      <td>Footwear</td>\n",
       "      <td>Kids</td>\n",
       "      <td>266866.0</td>\n",
       "      <td>1974-04-18</td>\n",
       "      <td>M</td>\n",
       "      <td>4.0</td>\n",
       "    </tr>\n",
       "    <tr>\n",
       "      <th>23035</th>\n",
       "      <td>94340757522</td>\n",
       "      <td>274550</td>\n",
       "      <td>2011-01-25</td>\n",
       "      <td>12</td>\n",
       "      <td>5</td>\n",
       "      <td>1</td>\n",
       "      <td>1264</td>\n",
       "      <td>132.720</td>\n",
       "      <td>1396.720</td>\n",
       "      <td>e-Shop</td>\n",
       "      <td>Books</td>\n",
       "      <td>Academic</td>\n",
       "      <td>274550.0</td>\n",
       "      <td>1972-02-21</td>\n",
       "      <td>M</td>\n",
       "      <td>7.0</td>\n",
       "    </tr>\n",
       "    <tr>\n",
       "      <th>23036</th>\n",
       "      <td>89780862956</td>\n",
       "      <td>270022</td>\n",
       "      <td>2011-01-25</td>\n",
       "      <td>4</td>\n",
       "      <td>1</td>\n",
       "      <td>1</td>\n",
       "      <td>677</td>\n",
       "      <td>71.085</td>\n",
       "      <td>748.085</td>\n",
       "      <td>e-Shop</td>\n",
       "      <td>Clothing</td>\n",
       "      <td>Mens</td>\n",
       "      <td>270022.0</td>\n",
       "      <td>1984-04-27</td>\n",
       "      <td>M</td>\n",
       "      <td>9.0</td>\n",
       "    </tr>\n",
       "    <tr>\n",
       "      <th>23037</th>\n",
       "      <td>85115299378</td>\n",
       "      <td>271020</td>\n",
       "      <td>2011-01-25</td>\n",
       "      <td>2</td>\n",
       "      <td>6</td>\n",
       "      <td>4</td>\n",
       "      <td>1052</td>\n",
       "      <td>441.840</td>\n",
       "      <td>4649.840</td>\n",
       "      <td>MBR</td>\n",
       "      <td>Home and kitchen</td>\n",
       "      <td>Furnishing</td>\n",
       "      <td>271020.0</td>\n",
       "      <td>1976-06-20</td>\n",
       "      <td>M</td>\n",
       "      <td>8.0</td>\n",
       "    </tr>\n",
       "    <tr>\n",
       "      <th>23038</th>\n",
       "      <td>72870271171</td>\n",
       "      <td>270911</td>\n",
       "      <td>2011-01-25</td>\n",
       "      <td>11</td>\n",
       "      <td>5</td>\n",
       "      <td>3</td>\n",
       "      <td>1142</td>\n",
       "      <td>359.730</td>\n",
       "      <td>3785.730</td>\n",
       "      <td>TeleShop</td>\n",
       "      <td>Books</td>\n",
       "      <td>Children</td>\n",
       "      <td>270911.0</td>\n",
       "      <td>1970-05-22</td>\n",
       "      <td>M</td>\n",
       "      <td>2.0</td>\n",
       "    </tr>\n",
       "    <tr>\n",
       "      <th>23039</th>\n",
       "      <td>77960931771</td>\n",
       "      <td>271961</td>\n",
       "      <td>2011-01-25</td>\n",
       "      <td>11</td>\n",
       "      <td>5</td>\n",
       "      <td>1</td>\n",
       "      <td>447</td>\n",
       "      <td>46.935</td>\n",
       "      <td>493.935</td>\n",
       "      <td>TeleShop</td>\n",
       "      <td>Books</td>\n",
       "      <td>Children</td>\n",
       "      <td>271961.0</td>\n",
       "      <td>1982-01-15</td>\n",
       "      <td>M</td>\n",
       "      <td>1.0</td>\n",
       "    </tr>\n",
       "  </tbody>\n",
       "</table>\n",
       "</div>"
      ],
      "text/plain": [
       "       transaction_id  cust_id  tran_date  prod_subcat_code  prod_cat_code  \\\n",
       "23030     49882891062   271982 2011-01-25                10              5   \n",
       "23031     14787475597   273982 2011-01-25                 4              3   \n",
       "23032     50691119572   273031 2011-01-25                 6              5   \n",
       "23033     40893803228   272049 2011-01-25                11              6   \n",
       "23034     30856003613   266866 2011-01-25                 4              2   \n",
       "23035     94340757522   274550 2011-01-25                12              5   \n",
       "23036     89780862956   270022 2011-01-25                 4              1   \n",
       "23037     85115299378   271020 2011-01-25                 2              6   \n",
       "23038     72870271171   270911 2011-01-25                11              5   \n",
       "23039     77960931771   271961 2011-01-25                11              5   \n",
       "\n",
       "       Qty  Rate      Tax  total_amt Store_type          prod_cat  \\\n",
       "23030    4  1330  558.600   5878.600     e-Shop             Books   \n",
       "23031    5   969  508.725   5353.725     e-Shop       Electronics   \n",
       "23032    1  1148  120.540   1268.540   TeleShop             Books   \n",
       "23033    3  1077  339.255   3570.255     e-Shop  Home and kitchen   \n",
       "23034    2   444   93.240    981.240   TeleShop          Footwear   \n",
       "23035    1  1264  132.720   1396.720     e-Shop             Books   \n",
       "23036    1   677   71.085    748.085     e-Shop          Clothing   \n",
       "23037    4  1052  441.840   4649.840        MBR  Home and kitchen   \n",
       "23038    3  1142  359.730   3785.730   TeleShop             Books   \n",
       "23039    1   447   46.935    493.935   TeleShop             Books   \n",
       "\n",
       "       prod_subcat  customer_Id        DOB Gender  city_code  \n",
       "23030  Non-Fiction     271982.0 1976-08-10      M        8.0  \n",
       "23031      Mobiles     273982.0 1991-10-12      M        4.0  \n",
       "23032          DIY     273031.0 1980-01-17      F        8.0  \n",
       "23033         Bath     272049.0 1975-06-28      F        6.0  \n",
       "23034         Kids     266866.0 1974-04-18      M        4.0  \n",
       "23035     Academic     274550.0 1972-02-21      M        7.0  \n",
       "23036         Mens     270022.0 1984-04-27      M        9.0  \n",
       "23037   Furnishing     271020.0 1976-06-20      M        8.0  \n",
       "23038     Children     270911.0 1970-05-22      M        2.0  \n",
       "23039     Children     271961.0 1982-01-15      M        1.0  "
      ]
     },
     "execution_count": 25,
     "metadata": {},
     "output_type": "execute_result"
    }
   ],
   "source": [
    "customer_final.tail(10)"
   ]
  },
  {
   "cell_type": "code",
   "execution_count": 26,
   "id": "54cf2090",
   "metadata": {
    "execution": {
     "iopub.execute_input": "2022-12-07T13:09:05.916501Z",
     "iopub.status.busy": "2022-12-07T13:09:05.915795Z",
     "iopub.status.idle": "2022-12-07T13:09:05.935334Z",
     "shell.execute_reply": "2022-12-07T13:09:05.934082Z"
    },
    "papermill": {
     "duration": 0.041439,
     "end_time": "2022-12-07T13:09:05.937652",
     "exception": false,
     "start_time": "2022-12-07T13:09:05.896213",
     "status": "completed"
    },
    "tags": []
   },
   "outputs": [
    {
     "name": "stdout",
     "output_type": "stream",
     "text": [
      "<class 'pandas.core.frame.DataFrame'>\n",
      "Int64Index: 23040 entries, 0 to 23039\n",
      "Data columns (total 16 columns):\n",
      " #   Column            Non-Null Count  Dtype         \n",
      "---  ------            --------------  -----         \n",
      " 0   transaction_id    23040 non-null  int64         \n",
      " 1   cust_id           23040 non-null  int64         \n",
      " 2   tran_date         23040 non-null  datetime64[ns]\n",
      " 3   prod_subcat_code  23040 non-null  int64         \n",
      " 4   prod_cat_code     23040 non-null  int64         \n",
      " 5   Qty               23040 non-null  int64         \n",
      " 6   Rate              23040 non-null  int64         \n",
      " 7   Tax               23040 non-null  float64       \n",
      " 8   total_amt         23040 non-null  float64       \n",
      " 9   Store_type        23040 non-null  object        \n",
      " 10  prod_cat          23040 non-null  object        \n",
      " 11  prod_subcat       23040 non-null  object        \n",
      " 12  customer_Id       23023 non-null  float64       \n",
      " 13  DOB               23023 non-null  datetime64[ns]\n",
      " 14  Gender            23023 non-null  object        \n",
      " 15  city_code         23023 non-null  float64       \n",
      "dtypes: datetime64[ns](2), float64(4), int64(6), object(4)\n",
      "memory usage: 3.0+ MB\n"
     ]
    }
   ],
   "source": [
    "customer_final.info()"
   ]
  },
  {
   "cell_type": "code",
   "execution_count": 27,
   "id": "5f4e95c3",
   "metadata": {
    "execution": {
     "iopub.execute_input": "2022-12-07T13:09:05.978486Z",
     "iopub.status.busy": "2022-12-07T13:09:05.977909Z",
     "iopub.status.idle": "2022-12-07T13:09:06.026149Z",
     "shell.execute_reply": "2022-12-07T13:09:06.025183Z"
    },
    "papermill": {
     "duration": 0.070575,
     "end_time": "2022-12-07T13:09:06.028226",
     "exception": false,
     "start_time": "2022-12-07T13:09:05.957651",
     "status": "completed"
    },
    "tags": []
   },
   "outputs": [
    {
     "data": {
      "text/html": [
       "<div>\n",
       "<style scoped>\n",
       "    .dataframe tbody tr th:only-of-type {\n",
       "        vertical-align: middle;\n",
       "    }\n",
       "\n",
       "    .dataframe tbody tr th {\n",
       "        vertical-align: top;\n",
       "    }\n",
       "\n",
       "    .dataframe thead th {\n",
       "        text-align: right;\n",
       "    }\n",
       "</style>\n",
       "<table border=\"1\" class=\"dataframe\">\n",
       "  <thead>\n",
       "    <tr style=\"text-align: right;\">\n",
       "      <th></th>\n",
       "      <th>transaction_id</th>\n",
       "      <th>cust_id</th>\n",
       "      <th>prod_subcat_code</th>\n",
       "      <th>prod_cat_code</th>\n",
       "      <th>Qty</th>\n",
       "      <th>Rate</th>\n",
       "      <th>Tax</th>\n",
       "      <th>total_amt</th>\n",
       "      <th>customer_Id</th>\n",
       "      <th>city_code</th>\n",
       "    </tr>\n",
       "  </thead>\n",
       "  <tbody>\n",
       "    <tr>\n",
       "      <th>count</th>\n",
       "      <td>2.304000e+04</td>\n",
       "      <td>23040.000000</td>\n",
       "      <td>23040.000000</td>\n",
       "      <td>23040.000000</td>\n",
       "      <td>23040.000000</td>\n",
       "      <td>23040.000000</td>\n",
       "      <td>23040.000000</td>\n",
       "      <td>23040.000000</td>\n",
       "      <td>23023.000000</td>\n",
       "      <td>23023.000000</td>\n",
       "    </tr>\n",
       "    <tr>\n",
       "      <th>mean</th>\n",
       "      <td>5.006955e+10</td>\n",
       "      <td>271021.880252</td>\n",
       "      <td>6.148785</td>\n",
       "      <td>3.763498</td>\n",
       "      <td>2.435764</td>\n",
       "      <td>637.094965</td>\n",
       "      <td>248.677488</td>\n",
       "      <td>2109.865226</td>\n",
       "      <td>271023.477479</td>\n",
       "      <td>5.483734</td>\n",
       "    </tr>\n",
       "    <tr>\n",
       "      <th>std</th>\n",
       "      <td>2.898062e+10</td>\n",
       "      <td>2431.573668</td>\n",
       "      <td>3.726197</td>\n",
       "      <td>1.677091</td>\n",
       "      <td>2.264326</td>\n",
       "      <td>621.727374</td>\n",
       "      <td>187.188311</td>\n",
       "      <td>2505.610295</td>\n",
       "      <td>2431.354328</td>\n",
       "      <td>2.863422</td>\n",
       "    </tr>\n",
       "    <tr>\n",
       "      <th>min</th>\n",
       "      <td>3.268991e+06</td>\n",
       "      <td>266783.000000</td>\n",
       "      <td>1.000000</td>\n",
       "      <td>1.000000</td>\n",
       "      <td>-5.000000</td>\n",
       "      <td>-1499.000000</td>\n",
       "      <td>7.350000</td>\n",
       "      <td>-8270.925000</td>\n",
       "      <td>266783.000000</td>\n",
       "      <td>1.000000</td>\n",
       "    </tr>\n",
       "    <tr>\n",
       "      <th>25%</th>\n",
       "      <td>2.493315e+10</td>\n",
       "      <td>268935.000000</td>\n",
       "      <td>3.000000</td>\n",
       "      <td>2.000000</td>\n",
       "      <td>1.000000</td>\n",
       "      <td>312.000000</td>\n",
       "      <td>98.280000</td>\n",
       "      <td>762.450000</td>\n",
       "      <td>268937.000000</td>\n",
       "      <td>3.000000</td>\n",
       "    </tr>\n",
       "    <tr>\n",
       "      <th>50%</th>\n",
       "      <td>5.009188e+10</td>\n",
       "      <td>270980.500000</td>\n",
       "      <td>5.000000</td>\n",
       "      <td>4.000000</td>\n",
       "      <td>3.000000</td>\n",
       "      <td>710.000000</td>\n",
       "      <td>199.080000</td>\n",
       "      <td>1756.950000</td>\n",
       "      <td>270981.000000</td>\n",
       "      <td>5.000000</td>\n",
       "    </tr>\n",
       "    <tr>\n",
       "      <th>75%</th>\n",
       "      <td>7.532632e+10</td>\n",
       "      <td>273114.250000</td>\n",
       "      <td>10.000000</td>\n",
       "      <td>5.000000</td>\n",
       "      <td>4.000000</td>\n",
       "      <td>1109.000000</td>\n",
       "      <td>365.767500</td>\n",
       "      <td>3570.255000</td>\n",
       "      <td>273115.500000</td>\n",
       "      <td>8.000000</td>\n",
       "    </tr>\n",
       "    <tr>\n",
       "      <th>max</th>\n",
       "      <td>9.998755e+10</td>\n",
       "      <td>275265.000000</td>\n",
       "      <td>12.000000</td>\n",
       "      <td>6.000000</td>\n",
       "      <td>5.000000</td>\n",
       "      <td>1500.000000</td>\n",
       "      <td>787.500000</td>\n",
       "      <td>8287.500000</td>\n",
       "      <td>275265.000000</td>\n",
       "      <td>10.000000</td>\n",
       "    </tr>\n",
       "  </tbody>\n",
       "</table>\n",
       "</div>"
      ],
      "text/plain": [
       "       transaction_id        cust_id  prod_subcat_code  prod_cat_code  \\\n",
       "count    2.304000e+04   23040.000000      23040.000000   23040.000000   \n",
       "mean     5.006955e+10  271021.880252          6.148785       3.763498   \n",
       "std      2.898062e+10    2431.573668          3.726197       1.677091   \n",
       "min      3.268991e+06  266783.000000          1.000000       1.000000   \n",
       "25%      2.493315e+10  268935.000000          3.000000       2.000000   \n",
       "50%      5.009188e+10  270980.500000          5.000000       4.000000   \n",
       "75%      7.532632e+10  273114.250000         10.000000       5.000000   \n",
       "max      9.998755e+10  275265.000000         12.000000       6.000000   \n",
       "\n",
       "                Qty          Rate           Tax     total_amt    customer_Id  \\\n",
       "count  23040.000000  23040.000000  23040.000000  23040.000000   23023.000000   \n",
       "mean       2.435764    637.094965    248.677488   2109.865226  271023.477479   \n",
       "std        2.264326    621.727374    187.188311   2505.610295    2431.354328   \n",
       "min       -5.000000  -1499.000000      7.350000  -8270.925000  266783.000000   \n",
       "25%        1.000000    312.000000     98.280000    762.450000  268937.000000   \n",
       "50%        3.000000    710.000000    199.080000   1756.950000  270981.000000   \n",
       "75%        4.000000   1109.000000    365.767500   3570.255000  273115.500000   \n",
       "max        5.000000   1500.000000    787.500000   8287.500000  275265.000000   \n",
       "\n",
       "          city_code  \n",
       "count  23023.000000  \n",
       "mean       5.483734  \n",
       "std        2.863422  \n",
       "min        1.000000  \n",
       "25%        3.000000  \n",
       "50%        5.000000  \n",
       "75%        8.000000  \n",
       "max       10.000000  "
      ]
     },
     "execution_count": 27,
     "metadata": {},
     "output_type": "execute_result"
    }
   ],
   "source": [
    "customer_final.describe( include = ['float64','int64' ])"
   ]
  },
  {
   "cell_type": "markdown",
   "id": "17be4c36",
   "metadata": {
    "papermill": {
     "duration": 0.018385,
     "end_time": "2022-12-07T13:09:06.065418",
     "exception": false,
     "start_time": "2022-12-07T13:09:06.047033",
     "status": "completed"
    },
    "tags": []
   },
   "source": [
    "c. “Five-number summary” for continuous variables (min, Q1, median, Q3 and max)"
   ]
  },
  {
   "cell_type": "code",
   "execution_count": 28,
   "id": "66ab3041",
   "metadata": {
    "execution": {
     "iopub.execute_input": "2022-12-07T13:09:06.111738Z",
     "iopub.status.busy": "2022-12-07T13:09:06.111313Z",
     "iopub.status.idle": "2022-12-07T13:09:06.116282Z",
     "shell.execute_reply": "2022-12-07T13:09:06.115510Z"
    },
    "papermill": {
     "duration": 0.032336,
     "end_time": "2022-12-07T13:09:06.118594",
     "exception": false,
     "start_time": "2022-12-07T13:09:06.086258",
     "status": "completed"
    },
    "tags": []
   },
   "outputs": [],
   "source": [
    "def func_descriptives( x ):\n",
    "    return pd.Series( [ x.min(),x.quantile(0.25), x.median(),x.quantile(0.75),x.max()],\n",
    "                    index = ['min', 'Q1', 'median' , 'Q3', 'max']) "
   ]
  },
  {
   "cell_type": "code",
   "execution_count": 29,
   "id": "12e8943e",
   "metadata": {
    "execution": {
     "iopub.execute_input": "2022-12-07T13:09:06.164511Z",
     "iopub.status.busy": "2022-12-07T13:09:06.164121Z",
     "iopub.status.idle": "2022-12-07T13:09:06.212905Z",
     "shell.execute_reply": "2022-12-07T13:09:06.211936Z"
    },
    "papermill": {
     "duration": 0.072893,
     "end_time": "2022-12-07T13:09:06.214758",
     "exception": false,
     "start_time": "2022-12-07T13:09:06.141865",
     "status": "completed"
    },
    "tags": []
   },
   "outputs": [
    {
     "data": {
      "text/html": [
       "<div>\n",
       "<style scoped>\n",
       "    .dataframe tbody tr th:only-of-type {\n",
       "        vertical-align: middle;\n",
       "    }\n",
       "\n",
       "    .dataframe tbody tr th {\n",
       "        vertical-align: top;\n",
       "    }\n",
       "\n",
       "    .dataframe thead th {\n",
       "        text-align: right;\n",
       "    }\n",
       "</style>\n",
       "<table border=\"1\" class=\"dataframe\">\n",
       "  <thead>\n",
       "    <tr style=\"text-align: right;\">\n",
       "      <th></th>\n",
       "      <th>transaction_id</th>\n",
       "      <th>cust_id</th>\n",
       "      <th>prod_subcat_code</th>\n",
       "      <th>prod_cat_code</th>\n",
       "      <th>Qty</th>\n",
       "      <th>Rate</th>\n",
       "      <th>Tax</th>\n",
       "      <th>total_amt</th>\n",
       "      <th>customer_Id</th>\n",
       "      <th>city_code</th>\n",
       "    </tr>\n",
       "  </thead>\n",
       "  <tbody>\n",
       "    <tr>\n",
       "      <th>min</th>\n",
       "      <td>3.268991e+06</td>\n",
       "      <td>266783.00</td>\n",
       "      <td>1.0</td>\n",
       "      <td>1.0</td>\n",
       "      <td>-5.0</td>\n",
       "      <td>-1499.0</td>\n",
       "      <td>7.3500</td>\n",
       "      <td>-8270.925</td>\n",
       "      <td>266783.0</td>\n",
       "      <td>1.0</td>\n",
       "    </tr>\n",
       "    <tr>\n",
       "      <th>Q1</th>\n",
       "      <td>2.493315e+10</td>\n",
       "      <td>268935.00</td>\n",
       "      <td>3.0</td>\n",
       "      <td>2.0</td>\n",
       "      <td>1.0</td>\n",
       "      <td>312.0</td>\n",
       "      <td>98.2800</td>\n",
       "      <td>762.450</td>\n",
       "      <td>268937.0</td>\n",
       "      <td>3.0</td>\n",
       "    </tr>\n",
       "    <tr>\n",
       "      <th>median</th>\n",
       "      <td>5.009188e+10</td>\n",
       "      <td>270980.50</td>\n",
       "      <td>5.0</td>\n",
       "      <td>4.0</td>\n",
       "      <td>3.0</td>\n",
       "      <td>710.0</td>\n",
       "      <td>199.0800</td>\n",
       "      <td>1756.950</td>\n",
       "      <td>270981.0</td>\n",
       "      <td>5.0</td>\n",
       "    </tr>\n",
       "    <tr>\n",
       "      <th>Q3</th>\n",
       "      <td>7.532632e+10</td>\n",
       "      <td>273114.25</td>\n",
       "      <td>10.0</td>\n",
       "      <td>5.0</td>\n",
       "      <td>4.0</td>\n",
       "      <td>1109.0</td>\n",
       "      <td>365.7675</td>\n",
       "      <td>3570.255</td>\n",
       "      <td>273115.5</td>\n",
       "      <td>8.0</td>\n",
       "    </tr>\n",
       "    <tr>\n",
       "      <th>max</th>\n",
       "      <td>9.998755e+10</td>\n",
       "      <td>275265.00</td>\n",
       "      <td>12.0</td>\n",
       "      <td>6.0</td>\n",
       "      <td>5.0</td>\n",
       "      <td>1500.0</td>\n",
       "      <td>787.5000</td>\n",
       "      <td>8287.500</td>\n",
       "      <td>275265.0</td>\n",
       "      <td>10.0</td>\n",
       "    </tr>\n",
       "  </tbody>\n",
       "</table>\n",
       "</div>"
      ],
      "text/plain": [
       "        transaction_id    cust_id  prod_subcat_code  prod_cat_code  Qty  \\\n",
       "min       3.268991e+06  266783.00               1.0            1.0 -5.0   \n",
       "Q1        2.493315e+10  268935.00               3.0            2.0  1.0   \n",
       "median    5.009188e+10  270980.50               5.0            4.0  3.0   \n",
       "Q3        7.532632e+10  273114.25              10.0            5.0  4.0   \n",
       "max       9.998755e+10  275265.00              12.0            6.0  5.0   \n",
       "\n",
       "          Rate       Tax  total_amt  customer_Id  city_code  \n",
       "min    -1499.0    7.3500  -8270.925     266783.0        1.0  \n",
       "Q1       312.0   98.2800    762.450     268937.0        3.0  \n",
       "median   710.0  199.0800   1756.950     270981.0        5.0  \n",
       "Q3      1109.0  365.7675   3570.255     273115.5        8.0  \n",
       "max     1500.0  787.5000   8287.500     275265.0       10.0  "
      ]
     },
     "execution_count": 29,
     "metadata": {},
     "output_type": "execute_result"
    }
   ],
   "source": [
    "customer_final.select_dtypes(include=['float64','int64'],exclude='object').apply( lambda x: func_descriptives(x) )"
   ]
  },
  {
   "cell_type": "markdown",
   "id": "4ba8eecb",
   "metadata": {
    "papermill": {
     "duration": 0.020126,
     "end_time": "2022-12-07T13:09:06.253721",
     "exception": false,
     "start_time": "2022-12-07T13:09:06.233595",
     "status": "completed"
    },
    "tags": []
   },
   "source": [
    "d. Frequency tables for all the categorical variables"
   ]
  },
  {
   "cell_type": "code",
   "execution_count": 30,
   "id": "6939215f",
   "metadata": {
    "execution": {
     "iopub.execute_input": "2022-12-07T13:09:06.294714Z",
     "iopub.status.busy": "2022-12-07T13:09:06.294323Z",
     "iopub.status.idle": "2022-12-07T13:09:06.320316Z",
     "shell.execute_reply": "2022-12-07T13:09:06.319322Z"
    },
    "papermill": {
     "duration": 0.048531,
     "end_time": "2022-12-07T13:09:06.322113",
     "exception": false,
     "start_time": "2022-12-07T13:09:06.273582",
     "status": "completed"
    },
    "tags": []
   },
   "outputs": [
    {
     "data": {
      "text/html": [
       "<div>\n",
       "<style scoped>\n",
       "    .dataframe tbody tr th:only-of-type {\n",
       "        vertical-align: middle;\n",
       "    }\n",
       "\n",
       "    .dataframe tbody tr th {\n",
       "        vertical-align: top;\n",
       "    }\n",
       "\n",
       "    .dataframe thead th {\n",
       "        text-align: right;\n",
       "    }\n",
       "</style>\n",
       "<table border=\"1\" class=\"dataframe\">\n",
       "  <thead>\n",
       "    <tr style=\"text-align: right;\">\n",
       "      <th></th>\n",
       "      <th>Store_type</th>\n",
       "      <th>prod_cat</th>\n",
       "      <th>prod_subcat</th>\n",
       "      <th>Gender</th>\n",
       "    </tr>\n",
       "  </thead>\n",
       "  <tbody>\n",
       "    <tr>\n",
       "      <th>count</th>\n",
       "      <td>23040</td>\n",
       "      <td>23040</td>\n",
       "      <td>23040</td>\n",
       "      <td>23023</td>\n",
       "    </tr>\n",
       "    <tr>\n",
       "      <th>unique</th>\n",
       "      <td>4</td>\n",
       "      <td>6</td>\n",
       "      <td>18</td>\n",
       "      <td>2</td>\n",
       "    </tr>\n",
       "    <tr>\n",
       "      <th>top</th>\n",
       "      <td>e-Shop</td>\n",
       "      <td>Books</td>\n",
       "      <td>Women</td>\n",
       "      <td>M</td>\n",
       "    </tr>\n",
       "    <tr>\n",
       "      <th>freq</th>\n",
       "      <td>9304</td>\n",
       "      <td>6066</td>\n",
       "      <td>3046</td>\n",
       "      <td>11798</td>\n",
       "    </tr>\n",
       "  </tbody>\n",
       "</table>\n",
       "</div>"
      ],
      "text/plain": [
       "       Store_type prod_cat prod_subcat Gender\n",
       "count       23040    23040       23040  23023\n",
       "unique          4        6          18      2\n",
       "top        e-Shop    Books       Women      M\n",
       "freq         9304     6066        3046  11798"
      ]
     },
     "execution_count": 30,
     "metadata": {},
     "output_type": "execute_result"
    }
   ],
   "source": [
    "customer_final.loc[:,customer_final.dtypes==\"object\"].describe()"
   ]
  },
  {
   "cell_type": "code",
   "execution_count": 31,
   "id": "6c6628d6",
   "metadata": {
    "execution": {
     "iopub.execute_input": "2022-12-07T13:09:06.361819Z",
     "iopub.status.busy": "2022-12-07T13:09:06.361108Z",
     "iopub.status.idle": "2022-12-07T13:09:06.418155Z",
     "shell.execute_reply": "2022-12-07T13:09:06.417043Z"
    },
    "papermill": {
     "duration": 0.079086,
     "end_time": "2022-12-07T13:09:06.420122",
     "exception": false,
     "start_time": "2022-12-07T13:09:06.341036",
     "status": "completed"
    },
    "tags": []
   },
   "outputs": [
    {
     "data": {
      "text/plain": [
       "transaction_id  cust_id  tran_date   prod_subcat_code  prod_cat_code  Qty  Rate  Tax      total_amt  Store_type      prod_cat          prod_subcat  customer_Id  DOB         Gender  city_code\n",
       "3268991         272172   2011-02-08  11                6              3    91    28.665   301.665    e-Shop          Home and kitchen  Bath         272172.0     1975-09-17  M       10.0         1\n",
       "66630359841     273191   2012-12-25  4                 1              1    1330  139.650  1469.650   Flagship store  Clothing          Mens         273191.0     1989-11-16  M       1.0          1\n",
       "66769817332     267828   2014-01-28  3                 1              5    100   52.500   552.500    TeleShop        Clothing          Kids         267828.0     1976-05-07  M       3.0          1\n",
       "66765685536     270663   2011-07-30  5                 3              4    1120  470.400  4950.400   MBR             Electronics       Computers    270663.0     1981-04-04  M       10.0         1\n",
       "66758821488     272088   2012-09-22  2                 6              2    247   51.870   545.870    Flagship store  Home and kitchen  Furnishing   272088.0     1970-09-08  M       5.0          1\n",
       "                                                                                                                                                                                                 ..\n",
       "33219518529     273709   2013-12-07  2                 6              1    324   34.020   358.020    e-Shop          Home and kitchen  Furnishing   273709.0     1979-07-15  M       5.0          1\n",
       "33215457342     272081   2013-12-29  12                6              4    1079  453.180  4769.180   e-Shop          Home and kitchen  Tools        272081.0     1978-11-15  F       6.0          1\n",
       "33190905553     267596   2011-03-27  1                 1              3    935   294.525  3099.525   TeleShop        Clothing          Women        267596.0     1984-07-19  M       7.0          1\n",
       "33171404986     270458   2012-04-13  4                 2              5    1470  771.750  8121.750   TeleShop        Footwear          Kids         270458.0     1972-05-26  M       2.0          1\n",
       "99987549630     268590   2012-11-12  12                5              5    1268  665.700  7005.700   e-Shop          Books             Academic     268590.0     1986-02-15  F       7.0          1\n",
       "Length: 23023, dtype: int64"
      ]
     },
     "execution_count": 31,
     "metadata": {},
     "output_type": "execute_result"
    }
   ],
   "source": [
    "customer_final.value_counts()"
   ]
  },
  {
   "cell_type": "code",
   "execution_count": 32,
   "id": "6c15058a",
   "metadata": {
    "execution": {
     "iopub.execute_input": "2022-12-07T13:09:06.460932Z",
     "iopub.status.busy": "2022-12-07T13:09:06.460557Z",
     "iopub.status.idle": "2022-12-07T13:09:06.489023Z",
     "shell.execute_reply": "2022-12-07T13:09:06.487664Z"
    },
    "papermill": {
     "duration": 0.051565,
     "end_time": "2022-12-07T13:09:06.491403",
     "exception": false,
     "start_time": "2022-12-07T13:09:06.439838",
     "status": "completed"
    },
    "tags": []
   },
   "outputs": [
    {
     "data": {
      "text/html": [
       "<div>\n",
       "<style scoped>\n",
       "    .dataframe tbody tr th:only-of-type {\n",
       "        vertical-align: middle;\n",
       "    }\n",
       "\n",
       "    .dataframe tbody tr th {\n",
       "        vertical-align: top;\n",
       "    }\n",
       "\n",
       "    .dataframe thead th {\n",
       "        text-align: right;\n",
       "    }\n",
       "</style>\n",
       "<table border=\"1\" class=\"dataframe\">\n",
       "  <thead>\n",
       "    <tr style=\"text-align: right;\">\n",
       "      <th></th>\n",
       "      <th>transaction_id</th>\n",
       "      <th>cust_id</th>\n",
       "      <th>tran_date</th>\n",
       "      <th>prod_subcat_code</th>\n",
       "      <th>prod_cat_code</th>\n",
       "      <th>Qty</th>\n",
       "      <th>Rate</th>\n",
       "      <th>Tax</th>\n",
       "      <th>total_amt</th>\n",
       "      <th>Store_type</th>\n",
       "      <th>prod_cat</th>\n",
       "      <th>prod_subcat</th>\n",
       "      <th>customer_Id</th>\n",
       "      <th>DOB</th>\n",
       "      <th>Gender</th>\n",
       "      <th>city_code</th>\n",
       "    </tr>\n",
       "  </thead>\n",
       "  <tbody>\n",
       "    <tr>\n",
       "      <th>0</th>\n",
       "      <td>80712190438</td>\n",
       "      <td>270351</td>\n",
       "      <td>2014-02-28</td>\n",
       "      <td>1</td>\n",
       "      <td>1</td>\n",
       "      <td>-5</td>\n",
       "      <td>-772</td>\n",
       "      <td>405.300</td>\n",
       "      <td>-4265.300</td>\n",
       "      <td>e-Shop</td>\n",
       "      <td>Clothing</td>\n",
       "      <td>Women</td>\n",
       "      <td>270351.0</td>\n",
       "      <td>1981-09-26</td>\n",
       "      <td>M</td>\n",
       "      <td>5.0</td>\n",
       "    </tr>\n",
       "    <tr>\n",
       "      <th>1</th>\n",
       "      <td>29258453508</td>\n",
       "      <td>270384</td>\n",
       "      <td>2014-02-27</td>\n",
       "      <td>5</td>\n",
       "      <td>3</td>\n",
       "      <td>-5</td>\n",
       "      <td>-1497</td>\n",
       "      <td>785.925</td>\n",
       "      <td>-8270.925</td>\n",
       "      <td>e-Shop</td>\n",
       "      <td>Electronics</td>\n",
       "      <td>Computers</td>\n",
       "      <td>270384.0</td>\n",
       "      <td>1973-05-11</td>\n",
       "      <td>F</td>\n",
       "      <td>8.0</td>\n",
       "    </tr>\n",
       "    <tr>\n",
       "      <th>2</th>\n",
       "      <td>51750724947</td>\n",
       "      <td>273420</td>\n",
       "      <td>2014-02-24</td>\n",
       "      <td>6</td>\n",
       "      <td>5</td>\n",
       "      <td>-2</td>\n",
       "      <td>-791</td>\n",
       "      <td>166.110</td>\n",
       "      <td>-1748.110</td>\n",
       "      <td>TeleShop</td>\n",
       "      <td>Books</td>\n",
       "      <td>DIY</td>\n",
       "      <td>273420.0</td>\n",
       "      <td>1992-07-27</td>\n",
       "      <td>M</td>\n",
       "      <td>8.0</td>\n",
       "    </tr>\n",
       "    <tr>\n",
       "      <th>3</th>\n",
       "      <td>93274880719</td>\n",
       "      <td>271509</td>\n",
       "      <td>2014-02-24</td>\n",
       "      <td>11</td>\n",
       "      <td>6</td>\n",
       "      <td>-3</td>\n",
       "      <td>-1363</td>\n",
       "      <td>429.345</td>\n",
       "      <td>-4518.345</td>\n",
       "      <td>e-Shop</td>\n",
       "      <td>Home and kitchen</td>\n",
       "      <td>Bath</td>\n",
       "      <td>271509.0</td>\n",
       "      <td>1981-06-08</td>\n",
       "      <td>M</td>\n",
       "      <td>3.0</td>\n",
       "    </tr>\n",
       "    <tr>\n",
       "      <th>4</th>\n",
       "      <td>51750724947</td>\n",
       "      <td>273420</td>\n",
       "      <td>2014-02-23</td>\n",
       "      <td>6</td>\n",
       "      <td>5</td>\n",
       "      <td>-2</td>\n",
       "      <td>-791</td>\n",
       "      <td>166.110</td>\n",
       "      <td>-1748.110</td>\n",
       "      <td>TeleShop</td>\n",
       "      <td>Books</td>\n",
       "      <td>DIY</td>\n",
       "      <td>273420.0</td>\n",
       "      <td>1992-07-27</td>\n",
       "      <td>M</td>\n",
       "      <td>8.0</td>\n",
       "    </tr>\n",
       "    <tr>\n",
       "      <th>...</th>\n",
       "      <td>...</td>\n",
       "      <td>...</td>\n",
       "      <td>...</td>\n",
       "      <td>...</td>\n",
       "      <td>...</td>\n",
       "      <td>...</td>\n",
       "      <td>...</td>\n",
       "      <td>...</td>\n",
       "      <td>...</td>\n",
       "      <td>...</td>\n",
       "      <td>...</td>\n",
       "      <td>...</td>\n",
       "      <td>...</td>\n",
       "      <td>...</td>\n",
       "      <td>...</td>\n",
       "      <td>...</td>\n",
       "    </tr>\n",
       "    <tr>\n",
       "      <th>23035</th>\n",
       "      <td>94340757522</td>\n",
       "      <td>274550</td>\n",
       "      <td>2011-01-25</td>\n",
       "      <td>12</td>\n",
       "      <td>5</td>\n",
       "      <td>1</td>\n",
       "      <td>1264</td>\n",
       "      <td>132.720</td>\n",
       "      <td>1396.720</td>\n",
       "      <td>e-Shop</td>\n",
       "      <td>Books</td>\n",
       "      <td>Academic</td>\n",
       "      <td>274550.0</td>\n",
       "      <td>1972-02-21</td>\n",
       "      <td>M</td>\n",
       "      <td>7.0</td>\n",
       "    </tr>\n",
       "    <tr>\n",
       "      <th>23036</th>\n",
       "      <td>89780862956</td>\n",
       "      <td>270022</td>\n",
       "      <td>2011-01-25</td>\n",
       "      <td>4</td>\n",
       "      <td>1</td>\n",
       "      <td>1</td>\n",
       "      <td>677</td>\n",
       "      <td>71.085</td>\n",
       "      <td>748.085</td>\n",
       "      <td>e-Shop</td>\n",
       "      <td>Clothing</td>\n",
       "      <td>Mens</td>\n",
       "      <td>270022.0</td>\n",
       "      <td>1984-04-27</td>\n",
       "      <td>M</td>\n",
       "      <td>9.0</td>\n",
       "    </tr>\n",
       "    <tr>\n",
       "      <th>23037</th>\n",
       "      <td>85115299378</td>\n",
       "      <td>271020</td>\n",
       "      <td>2011-01-25</td>\n",
       "      <td>2</td>\n",
       "      <td>6</td>\n",
       "      <td>4</td>\n",
       "      <td>1052</td>\n",
       "      <td>441.840</td>\n",
       "      <td>4649.840</td>\n",
       "      <td>MBR</td>\n",
       "      <td>Home and kitchen</td>\n",
       "      <td>Furnishing</td>\n",
       "      <td>271020.0</td>\n",
       "      <td>1976-06-20</td>\n",
       "      <td>M</td>\n",
       "      <td>8.0</td>\n",
       "    </tr>\n",
       "    <tr>\n",
       "      <th>23038</th>\n",
       "      <td>72870271171</td>\n",
       "      <td>270911</td>\n",
       "      <td>2011-01-25</td>\n",
       "      <td>11</td>\n",
       "      <td>5</td>\n",
       "      <td>3</td>\n",
       "      <td>1142</td>\n",
       "      <td>359.730</td>\n",
       "      <td>3785.730</td>\n",
       "      <td>TeleShop</td>\n",
       "      <td>Books</td>\n",
       "      <td>Children</td>\n",
       "      <td>270911.0</td>\n",
       "      <td>1970-05-22</td>\n",
       "      <td>M</td>\n",
       "      <td>2.0</td>\n",
       "    </tr>\n",
       "    <tr>\n",
       "      <th>23039</th>\n",
       "      <td>77960931771</td>\n",
       "      <td>271961</td>\n",
       "      <td>2011-01-25</td>\n",
       "      <td>11</td>\n",
       "      <td>5</td>\n",
       "      <td>1</td>\n",
       "      <td>447</td>\n",
       "      <td>46.935</td>\n",
       "      <td>493.935</td>\n",
       "      <td>TeleShop</td>\n",
       "      <td>Books</td>\n",
       "      <td>Children</td>\n",
       "      <td>271961.0</td>\n",
       "      <td>1982-01-15</td>\n",
       "      <td>M</td>\n",
       "      <td>1.0</td>\n",
       "    </tr>\n",
       "  </tbody>\n",
       "</table>\n",
       "<p>23040 rows × 16 columns</p>\n",
       "</div>"
      ],
      "text/plain": [
       "       transaction_id  cust_id  tran_date  prod_subcat_code  prod_cat_code  \\\n",
       "0         80712190438   270351 2014-02-28                 1              1   \n",
       "1         29258453508   270384 2014-02-27                 5              3   \n",
       "2         51750724947   273420 2014-02-24                 6              5   \n",
       "3         93274880719   271509 2014-02-24                11              6   \n",
       "4         51750724947   273420 2014-02-23                 6              5   \n",
       "...               ...      ...        ...               ...            ...   \n",
       "23035     94340757522   274550 2011-01-25                12              5   \n",
       "23036     89780862956   270022 2011-01-25                 4              1   \n",
       "23037     85115299378   271020 2011-01-25                 2              6   \n",
       "23038     72870271171   270911 2011-01-25                11              5   \n",
       "23039     77960931771   271961 2011-01-25                11              5   \n",
       "\n",
       "       Qty  Rate      Tax  total_amt Store_type          prod_cat prod_subcat  \\\n",
       "0       -5  -772  405.300  -4265.300     e-Shop          Clothing       Women   \n",
       "1       -5 -1497  785.925  -8270.925     e-Shop       Electronics   Computers   \n",
       "2       -2  -791  166.110  -1748.110   TeleShop             Books         DIY   \n",
       "3       -3 -1363  429.345  -4518.345     e-Shop  Home and kitchen        Bath   \n",
       "4       -2  -791  166.110  -1748.110   TeleShop             Books         DIY   \n",
       "...    ...   ...      ...        ...        ...               ...         ...   \n",
       "23035    1  1264  132.720   1396.720     e-Shop             Books    Academic   \n",
       "23036    1   677   71.085    748.085     e-Shop          Clothing        Mens   \n",
       "23037    4  1052  441.840   4649.840        MBR  Home and kitchen  Furnishing   \n",
       "23038    3  1142  359.730   3785.730   TeleShop             Books    Children   \n",
       "23039    1   447   46.935    493.935   TeleShop             Books    Children   \n",
       "\n",
       "       customer_Id        DOB Gender  city_code  \n",
       "0         270351.0 1981-09-26      M        5.0  \n",
       "1         270384.0 1973-05-11      F        8.0  \n",
       "2         273420.0 1992-07-27      M        8.0  \n",
       "3         271509.0 1981-06-08      M        3.0  \n",
       "4         273420.0 1992-07-27      M        8.0  \n",
       "...            ...        ...    ...        ...  \n",
       "23035     274550.0 1972-02-21      M        7.0  \n",
       "23036     270022.0 1984-04-27      M        9.0  \n",
       "23037     271020.0 1976-06-20      M        8.0  \n",
       "23038     270911.0 1970-05-22      M        2.0  \n",
       "23039     271961.0 1982-01-15      M        1.0  \n",
       "\n",
       "[23040 rows x 16 columns]"
      ]
     },
     "execution_count": 32,
     "metadata": {},
     "output_type": "execute_result"
    }
   ],
   "source": [
    "customer_final"
   ]
  },
  {
   "cell_type": "code",
   "execution_count": 33,
   "id": "3e9eb87c",
   "metadata": {
    "execution": {
     "iopub.execute_input": "2022-12-07T13:09:06.532534Z",
     "iopub.status.busy": "2022-12-07T13:09:06.532126Z",
     "iopub.status.idle": "2022-12-07T13:09:06.546380Z",
     "shell.execute_reply": "2022-12-07T13:09:06.544226Z"
    },
    "papermill": {
     "duration": 0.037811,
     "end_time": "2022-12-07T13:09:06.548950",
     "exception": false,
     "start_time": "2022-12-07T13:09:06.511139",
     "status": "completed"
    },
    "tags": []
   },
   "outputs": [
    {
     "name": "stdout",
     "output_type": "stream",
     "text": [
      "e-Shop            9304\n",
      "MBR               4660\n",
      "Flagship store    4575\n",
      "TeleShop          4501\n",
      "Name: Store_type, dtype: int64\n",
      "Books               6066\n",
      "Electronics         4895\n",
      "Home and kitchen    4126\n",
      "Footwear            2996\n",
      "Clothing            2960\n",
      "Bags                1997\n",
      "Name: prod_cat, dtype: int64\n",
      "Women                  3046\n",
      "Mens                   2910\n",
      "Kids                   1997\n",
      "Tools                  1061\n",
      "Fiction                1043\n",
      "Kitchen                1036\n",
      "Children               1035\n",
      "Mobiles                1030\n",
      "Comics                 1030\n",
      "Bath                   1022\n",
      "Furnishing             1007\n",
      "Non-Fiction            1003\n",
      "DIY                     989\n",
      "Cameras                 985\n",
      "Personal Appliances     970\n",
      "Academic                966\n",
      "Computers               958\n",
      "Audio and video         952\n",
      "Name: prod_subcat, dtype: int64\n",
      "M    11798\n",
      "F    11225\n",
      "Name: Gender, dtype: int64\n"
     ]
    }
   ],
   "source": [
    "for i in customer_final.columns:\n",
    "      if customer_final[i].dtype=='object':\n",
    "            print(customer_final[i].value_counts())"
   ]
  },
  {
   "cell_type": "markdown",
   "id": "6db912a1",
   "metadata": {
    "papermill": {
     "duration": 0.01981,
     "end_time": "2022-12-07T13:09:06.589266",
     "exception": false,
     "start_time": "2022-12-07T13:09:06.569456",
     "status": "completed"
    },
    "tags": []
   },
   "source": [
    "\n",
    "3. Generate histograms for all continuous variables and frequency bars for categorical variables.\n"
   ]
  },
  {
   "cell_type": "code",
   "execution_count": 34,
   "id": "48e875de",
   "metadata": {
    "execution": {
     "iopub.execute_input": "2022-12-07T13:09:06.630567Z",
     "iopub.status.busy": "2022-12-07T13:09:06.630164Z",
     "iopub.status.idle": "2022-12-07T13:09:06.635539Z",
     "shell.execute_reply": "2022-12-07T13:09:06.633888Z"
    },
    "papermill": {
     "duration": 0.028417,
     "end_time": "2022-12-07T13:09:06.637602",
     "exception": false,
     "start_time": "2022-12-07T13:09:06.609185",
     "status": "completed"
    },
    "tags": []
   },
   "outputs": [],
   "source": [
    "#stores.TotalSales.plot( kind = 'hist', grid = True )\n",
    "#plt.xlabel( 'Bins' )\n",
    "#plt.show()\n",
    "\n",
    "#plt.grid(True)\n",
    "#plt.hist( stores.TotalSales )\n",
    "#plt.xlabel( 'Bins' )\n",
    "#plt.ylabel( 'frequency' )\n",
    "#plt.title( 'This is an example of a histogram' )\n",
    "#plt.show()\n",
    "\n",
    "#stores.TotalSales.hist()\n",
    "#plt.show()"
   ]
  },
  {
   "cell_type": "code",
   "execution_count": 35,
   "id": "ead7d2bd",
   "metadata": {
    "execution": {
     "iopub.execute_input": "2022-12-07T13:09:06.679261Z",
     "iopub.status.busy": "2022-12-07T13:09:06.678883Z",
     "iopub.status.idle": "2022-12-07T13:09:06.684545Z",
     "shell.execute_reply": "2022-12-07T13:09:06.683031Z"
    },
    "papermill": {
     "duration": 0.029852,
     "end_time": "2022-12-07T13:09:06.687295",
     "exception": false,
     "start_time": "2022-12-07T13:09:06.657443",
     "status": "completed"
    },
    "tags": []
   },
   "outputs": [],
   "source": [
    "#customer_final.select_dtypes(include=['float64','int64'],exclude='object').hist()\n",
    "#plt.show()"
   ]
  },
  {
   "cell_type": "code",
   "execution_count": 36,
   "id": "0470a2cd",
   "metadata": {
    "execution": {
     "iopub.execute_input": "2022-12-07T13:09:06.729005Z",
     "iopub.status.busy": "2022-12-07T13:09:06.728639Z",
     "iopub.status.idle": "2022-12-07T13:09:06.733659Z",
     "shell.execute_reply": "2022-12-07T13:09:06.732674Z"
    },
    "papermill": {
     "duration": 0.028593,
     "end_time": "2022-12-07T13:09:06.735617",
     "exception": false,
     "start_time": "2022-12-07T13:09:06.707024",
     "status": "completed"
    },
    "tags": []
   },
   "outputs": [],
   "source": [
    "def func_hist(x):\n",
    "    plt.title( ' This is a hist for ' + x.name )\n",
    "    x.hist()\n",
    "    plt.show()"
   ]
  },
  {
   "cell_type": "code",
   "execution_count": 37,
   "id": "f8201305",
   "metadata": {
    "execution": {
     "iopub.execute_input": "2022-12-07T13:09:06.776771Z",
     "iopub.status.busy": "2022-12-07T13:09:06.776381Z",
     "iopub.status.idle": "2022-12-07T13:09:08.238881Z",
     "shell.execute_reply": "2022-12-07T13:09:08.237825Z"
    },
    "papermill": {
     "duration": 1.486168,
     "end_time": "2022-12-07T13:09:08.241666",
     "exception": false,
     "start_time": "2022-12-07T13:09:06.755498",
     "status": "completed"
    },
    "tags": []
   },
   "outputs": [
    {
     "data": {
      "image/png": "[encoded data removed]",
      "text/plain": [
       "<Figure size 432x288 with 1 Axes>"
      ]
     },
     "metadata": {
      "needs_background": "light"
     },
     "output_type": "display_data"
    },
    {
     "data": {
      "image/png": "[encoded data removed]",
      "text/plain": [
       "<Figure size 432x288 with 1 Axes>"
      ]
     },
     "metadata": {
      "needs_background": "light"
     },
     "output_type": "display_data"
    },
    {
     "data": {
      "image/png": "[encoded data removed]",
      "text/plain": [
       "<Figure size 432x288 with 1 Axes>"
      ]
     },
     "metadata": {
      "needs_background": "light"
     },
     "output_type": "display_data"
    },
    {
     "data": {
      "image/png": "[encoded data removed]",
      "text/plain": [
       "<Figure size 432x288 with 1 Axes>"
      ]
     },
     "metadata": {
      "needs_background": "light"
     },
     "output_type": "display_data"
    },
    {
     "data": {
      "image/png": "[encoded data removed]",
      "text/plain": [
       "<Figure size 432x288 with 1 Axes>"
      ]
     },
     "metadata": {
      "needs_background": "light"
     },
     "output_type": "display_data"
    },
    {
     "data": {
      "image/png": "[encoded data removed]",
      "text/plain": [
       "<Figure size 432x288 with 1 Axes>"
      ]
     },
     "metadata": {
      "needs_background": "light"
     },
     "output_type": "display_data"
    },
    {
     "data": {
      "image/png": "[encoded data removed]",
      "text/plain": [
       "<Figure size 432x288 with 1 Axes>"
      ]
     },
     "metadata": {
      "needs_background": "light"
     },
     "output_type": "display_data"
    },
    {
     "data": {
      "image/png": "[encoded data removed]",
      "text/plain": [
       "<Figure size 432x288 with 1 Axes>"
      ]
     },
     "metadata": {
      "needs_background": "light"
     },
     "output_type": "display_data"
    },
    {
     "data": {
      "image/png": "[encoded data removed]",
      "text/plain": [
       "<Figure size 432x288 with 1 Axes>"
      ]
     },
     "metadata": {
      "needs_background": "light"
     },
     "output_type": "display_data"
    },
    {
     "data": {
      "image/png": "[encoded data removed]",
      "text/plain": [
       "<Figure size 432x288 with 1 Axes>"
      ]
     },
     "metadata": {
      "needs_background": "light"
     },
     "output_type": "display_data"
    }
   ],
   "source": [
    "customer_final.select_dtypes(['int64','float64']).apply( func_hist )\n",
    "plt.show()"
   ]
  },
  {
   "cell_type": "code",
   "execution_count": 38,
   "id": "15478b62",
   "metadata": {
    "execution": {
     "iopub.execute_input": "2022-12-07T13:09:08.293098Z",
     "iopub.status.busy": "2022-12-07T13:09:08.292757Z",
     "iopub.status.idle": "2022-12-07T13:09:08.768537Z",
     "shell.execute_reply": "2022-12-07T13:09:08.767648Z"
    },
    "papermill": {
     "duration": 0.506234,
     "end_time": "2022-12-07T13:09:08.770406",
     "exception": false,
     "start_time": "2022-12-07T13:09:08.264172",
     "status": "completed"
    },
    "tags": []
   },
   "outputs": [
    {
     "data": {
      "image/png": "[encoded data removed]",
      "text/plain": [
       "<Figure size 432x288 with 1 Axes>"
      ]
     },
     "metadata": {
      "needs_background": "light"
     },
     "output_type": "display_data"
    },
    {
     "data": {
      "image/png": "[encoded data removed]",
      "text/plain": [
       "<Figure size 432x288 with 1 Axes>"
      ]
     },
     "metadata": {
      "needs_background": "light"
     },
     "output_type": "display_data"
    },
    {
     "data": {
      "image/png": "[encoded data removed]",
      "text/plain": [
       "<Figure size 432x288 with 1 Axes>"
      ]
     },
     "metadata": {
      "needs_background": "light"
     },
     "output_type": "display_data"
    },
    {
     "data": {
      "image/png": "[encoded data removed]",
      "text/plain": [
       "<Figure size 432x288 with 1 Axes>"
      ]
     },
     "metadata": {
      "needs_background": "light"
     },
     "output_type": "display_data"
    }
   ],
   "source": [
    "for i in customer_final.columns:\n",
    "    if customer_final[i].dtype=='object':\n",
    "        customer_final[i].value_counts().plot(kind = 'bar')\n",
    "        plt.show()\n",
    "    "
   ]
  },
  {
   "cell_type": "markdown",
   "id": "8ec4a958",
   "metadata": {
    "papermill": {
     "duration": 0.022384,
     "end_time": "2022-12-07T13:09:08.815721",
     "exception": false,
     "start_time": "2022-12-07T13:09:08.793337",
     "status": "completed"
    },
    "tags": []
   },
   "source": [
    "4. Calculate the following information using the merged dataset :\n",
    " a. Time period of the available transaction data\n",
    " b. Count of transactions where the total amount of transaction was negative"
   ]
  },
  {
   "cell_type": "code",
   "execution_count": 39,
   "id": "9c5a698b",
   "metadata": {
    "execution": {
     "iopub.execute_input": "2022-12-07T13:09:08.862888Z",
     "iopub.status.busy": "2022-12-07T13:09:08.861925Z",
     "iopub.status.idle": "2022-12-07T13:09:08.881054Z",
     "shell.execute_reply": "2022-12-07T13:09:08.880150Z"
    },
    "papermill": {
     "duration": 0.044389,
     "end_time": "2022-12-07T13:09:08.882998",
     "exception": false,
     "start_time": "2022-12-07T13:09:08.838609",
     "status": "completed"
    },
    "tags": []
   },
   "outputs": [
    {
     "data": {
      "text/html": [
       "<div>\n",
       "<style scoped>\n",
       "    .dataframe tbody tr th:only-of-type {\n",
       "        vertical-align: middle;\n",
       "    }\n",
       "\n",
       "    .dataframe tbody tr th {\n",
       "        vertical-align: top;\n",
       "    }\n",
       "\n",
       "    .dataframe thead th {\n",
       "        text-align: right;\n",
       "    }\n",
       "</style>\n",
       "<table border=\"1\" class=\"dataframe\">\n",
       "  <thead>\n",
       "    <tr style=\"text-align: right;\">\n",
       "      <th></th>\n",
       "      <th>transaction_id</th>\n",
       "      <th>cust_id</th>\n",
       "      <th>tran_date</th>\n",
       "      <th>prod_subcat_code</th>\n",
       "      <th>prod_cat_code</th>\n",
       "      <th>Qty</th>\n",
       "      <th>Rate</th>\n",
       "      <th>Tax</th>\n",
       "      <th>total_amt</th>\n",
       "      <th>Store_type</th>\n",
       "      <th>prod_cat</th>\n",
       "      <th>prod_subcat</th>\n",
       "      <th>customer_Id</th>\n",
       "      <th>DOB</th>\n",
       "      <th>Gender</th>\n",
       "      <th>city_code</th>\n",
       "    </tr>\n",
       "  </thead>\n",
       "  <tbody>\n",
       "    <tr>\n",
       "      <th>0</th>\n",
       "      <td>80712190438</td>\n",
       "      <td>270351</td>\n",
       "      <td>2014-02-28</td>\n",
       "      <td>1</td>\n",
       "      <td>1</td>\n",
       "      <td>-5</td>\n",
       "      <td>-772</td>\n",
       "      <td>405.300</td>\n",
       "      <td>-4265.300</td>\n",
       "      <td>e-Shop</td>\n",
       "      <td>Clothing</td>\n",
       "      <td>Women</td>\n",
       "      <td>270351.0</td>\n",
       "      <td>1981-09-26</td>\n",
       "      <td>M</td>\n",
       "      <td>5.0</td>\n",
       "    </tr>\n",
       "    <tr>\n",
       "      <th>1</th>\n",
       "      <td>29258453508</td>\n",
       "      <td>270384</td>\n",
       "      <td>2014-02-27</td>\n",
       "      <td>5</td>\n",
       "      <td>3</td>\n",
       "      <td>-5</td>\n",
       "      <td>-1497</td>\n",
       "      <td>785.925</td>\n",
       "      <td>-8270.925</td>\n",
       "      <td>e-Shop</td>\n",
       "      <td>Electronics</td>\n",
       "      <td>Computers</td>\n",
       "      <td>270384.0</td>\n",
       "      <td>1973-05-11</td>\n",
       "      <td>F</td>\n",
       "      <td>8.0</td>\n",
       "    </tr>\n",
       "    <tr>\n",
       "      <th>2</th>\n",
       "      <td>51750724947</td>\n",
       "      <td>273420</td>\n",
       "      <td>2014-02-24</td>\n",
       "      <td>6</td>\n",
       "      <td>5</td>\n",
       "      <td>-2</td>\n",
       "      <td>-791</td>\n",
       "      <td>166.110</td>\n",
       "      <td>-1748.110</td>\n",
       "      <td>TeleShop</td>\n",
       "      <td>Books</td>\n",
       "      <td>DIY</td>\n",
       "      <td>273420.0</td>\n",
       "      <td>1992-07-27</td>\n",
       "      <td>M</td>\n",
       "      <td>8.0</td>\n",
       "    </tr>\n",
       "    <tr>\n",
       "      <th>3</th>\n",
       "      <td>93274880719</td>\n",
       "      <td>271509</td>\n",
       "      <td>2014-02-24</td>\n",
       "      <td>11</td>\n",
       "      <td>6</td>\n",
       "      <td>-3</td>\n",
       "      <td>-1363</td>\n",
       "      <td>429.345</td>\n",
       "      <td>-4518.345</td>\n",
       "      <td>e-Shop</td>\n",
       "      <td>Home and kitchen</td>\n",
       "      <td>Bath</td>\n",
       "      <td>271509.0</td>\n",
       "      <td>1981-06-08</td>\n",
       "      <td>M</td>\n",
       "      <td>3.0</td>\n",
       "    </tr>\n",
       "    <tr>\n",
       "      <th>4</th>\n",
       "      <td>51750724947</td>\n",
       "      <td>273420</td>\n",
       "      <td>2014-02-23</td>\n",
       "      <td>6</td>\n",
       "      <td>5</td>\n",
       "      <td>-2</td>\n",
       "      <td>-791</td>\n",
       "      <td>166.110</td>\n",
       "      <td>-1748.110</td>\n",
       "      <td>TeleShop</td>\n",
       "      <td>Books</td>\n",
       "      <td>DIY</td>\n",
       "      <td>273420.0</td>\n",
       "      <td>1992-07-27</td>\n",
       "      <td>M</td>\n",
       "      <td>8.0</td>\n",
       "    </tr>\n",
       "  </tbody>\n",
       "</table>\n",
       "</div>"
      ],
      "text/plain": [
       "   transaction_id  cust_id  tran_date  prod_subcat_code  prod_cat_code  Qty  \\\n",
       "0     80712190438   270351 2014-02-28                 1              1   -5   \n",
       "1     29258453508   270384 2014-02-27                 5              3   -5   \n",
       "2     51750724947   273420 2014-02-24                 6              5   -2   \n",
       "3     93274880719   271509 2014-02-24                11              6   -3   \n",
       "4     51750724947   273420 2014-02-23                 6              5   -2   \n",
       "\n",
       "   Rate      Tax  total_amt Store_type          prod_cat prod_subcat  \\\n",
       "0  -772  405.300  -4265.300     e-Shop          Clothing       Women   \n",
       "1 -1497  785.925  -8270.925     e-Shop       Electronics   Computers   \n",
       "2  -791  166.110  -1748.110   TeleShop             Books         DIY   \n",
       "3 -1363  429.345  -4518.345     e-Shop  Home and kitchen        Bath   \n",
       "4  -791  166.110  -1748.110   TeleShop             Books         DIY   \n",
       "\n",
       "   customer_Id        DOB Gender  city_code  \n",
       "0     270351.0 1981-09-26      M        5.0  \n",
       "1     270384.0 1973-05-11      F        8.0  \n",
       "2     273420.0 1992-07-27      M        8.0  \n",
       "3     271509.0 1981-06-08      M        3.0  \n",
       "4     273420.0 1992-07-27      M        8.0  "
      ]
     },
     "execution_count": 39,
     "metadata": {},
     "output_type": "execute_result"
    }
   ],
   "source": [
    "customer_final.head()"
   ]
  },
  {
   "cell_type": "code",
   "execution_count": 40,
   "id": "b9185de3",
   "metadata": {
    "execution": {
     "iopub.execute_input": "2022-12-07T13:09:08.930949Z",
     "iopub.status.busy": "2022-12-07T13:09:08.929886Z",
     "iopub.status.idle": "2022-12-07T13:09:08.935769Z",
     "shell.execute_reply": "2022-12-07T13:09:08.934625Z"
    },
    "papermill": {
     "duration": 0.032156,
     "end_time": "2022-12-07T13:09:08.938121",
     "exception": false,
     "start_time": "2022-12-07T13:09:08.905965",
     "status": "completed"
    },
    "tags": []
   },
   "outputs": [],
   "source": [
    "max_t=customer_final.tran_date.max()\n",
    "min_t=customer_final.tran_date.min()"
   ]
  },
  {
   "cell_type": "code",
   "execution_count": 41,
   "id": "2b458083",
   "metadata": {
    "execution": {
     "iopub.execute_input": "2022-12-07T13:09:08.987632Z",
     "iopub.status.busy": "2022-12-07T13:09:08.986015Z",
     "iopub.status.idle": "2022-12-07T13:09:08.993815Z",
     "shell.execute_reply": "2022-12-07T13:09:08.992183Z"
    },
    "papermill": {
     "duration": 0.035886,
     "end_time": "2022-12-07T13:09:08.996506",
     "exception": false,
     "start_time": "2022-12-07T13:09:08.960620",
     "status": "completed"
    },
    "tags": []
   },
   "outputs": [
    {
     "name": "stdout",
     "output_type": "stream",
     "text": [
      "02-01-2011 to 02-12-2014\n"
     ]
    }
   ],
   "source": [
    "print(pd.Timestamp.strftime(min_t,format=\"%d-%m-%Y\") +' to ' + pd.Timestamp.strftime(max_t,format=\"%d-%m-%Y\"))"
   ]
  },
  {
   "cell_type": "code",
   "execution_count": 42,
   "id": "b2f3e2c1",
   "metadata": {
    "execution": {
     "iopub.execute_input": "2022-12-07T13:09:09.043592Z",
     "iopub.status.busy": "2022-12-07T13:09:09.043050Z",
     "iopub.status.idle": "2022-12-07T13:09:09.049844Z",
     "shell.execute_reply": "2022-12-07T13:09:09.048736Z"
    },
    "papermill": {
     "duration": 0.032603,
     "end_time": "2022-12-07T13:09:09.051823",
     "exception": false,
     "start_time": "2022-12-07T13:09:09.019220",
     "status": "completed"
    },
    "tags": []
   },
   "outputs": [
    {
     "data": {
      "text/plain": [
       "2164"
      ]
     },
     "execution_count": 42,
     "metadata": {},
     "output_type": "execute_result"
    }
   ],
   "source": [
    "customer_final.loc[customer_final[\"total_amt\"] < 0,\"transaction_id\"].count()"
   ]
  },
  {
   "cell_type": "markdown",
   "id": "1432894e",
   "metadata": {
    "papermill": {
     "duration": 0.022965,
     "end_time": "2022-12-07T13:09:09.097932",
     "exception": false,
     "start_time": "2022-12-07T13:09:09.074967",
     "status": "completed"
    },
    "tags": []
   },
   "source": [
    "\n",
    "5. Analyze which product categories are more popular among females vs male customers."
   ]
  },
  {
   "cell_type": "code",
   "execution_count": 43,
   "id": "7d966112",
   "metadata": {
    "execution": {
     "iopub.execute_input": "2022-12-07T13:09:09.145691Z",
     "iopub.status.busy": "2022-12-07T13:09:09.145108Z",
     "iopub.status.idle": "2022-12-07T13:09:09.155788Z",
     "shell.execute_reply": "2022-12-07T13:09:09.155044Z"
    },
    "papermill": {
     "duration": 0.036575,
     "end_time": "2022-12-07T13:09:09.157632",
     "exception": false,
     "start_time": "2022-12-07T13:09:09.121057",
     "status": "completed"
    },
    "tags": []
   },
   "outputs": [],
   "source": [
    "pg=customer_final.groupby(['prod_cat','Gender']).Qty.sum().reset_index()"
   ]
  },
  {
   "cell_type": "code",
   "execution_count": 44,
   "id": "13b9a03f",
   "metadata": {
    "execution": {
     "iopub.execute_input": "2022-12-07T13:09:09.206529Z",
     "iopub.status.busy": "2022-12-07T13:09:09.205952Z",
     "iopub.status.idle": "2022-12-07T13:09:09.215134Z",
     "shell.execute_reply": "2022-12-07T13:09:09.214019Z"
    },
    "papermill": {
     "duration": 0.035553,
     "end_time": "2022-12-07T13:09:09.217386",
     "exception": false,
     "start_time": "2022-12-07T13:09:09.181833",
     "status": "completed"
    },
    "tags": []
   },
   "outputs": [
    {
     "data": {
      "text/html": [
       "<div>\n",
       "<style scoped>\n",
       "    .dataframe tbody tr th:only-of-type {\n",
       "        vertical-align: middle;\n",
       "    }\n",
       "\n",
       "    .dataframe tbody tr th {\n",
       "        vertical-align: top;\n",
       "    }\n",
       "\n",
       "    .dataframe thead th {\n",
       "        text-align: right;\n",
       "    }\n",
       "</style>\n",
       "<table border=\"1\" class=\"dataframe\">\n",
       "  <thead>\n",
       "    <tr style=\"text-align: right;\">\n",
       "      <th></th>\n",
       "      <th>prod_cat</th>\n",
       "      <th>Gender</th>\n",
       "      <th>Qty</th>\n",
       "    </tr>\n",
       "  </thead>\n",
       "  <tbody>\n",
       "    <tr>\n",
       "      <th>0</th>\n",
       "      <td>Bags</td>\n",
       "      <td>F</td>\n",
       "      <td>2364</td>\n",
       "    </tr>\n",
       "    <tr>\n",
       "      <th>1</th>\n",
       "      <td>Bags</td>\n",
       "      <td>M</td>\n",
       "      <td>2345</td>\n",
       "    </tr>\n",
       "    <tr>\n",
       "      <th>2</th>\n",
       "      <td>Books</td>\n",
       "      <td>F</td>\n",
       "      <td>7080</td>\n",
       "    </tr>\n",
       "    <tr>\n",
       "      <th>3</th>\n",
       "      <td>Books</td>\n",
       "      <td>M</td>\n",
       "      <td>7586</td>\n",
       "    </tr>\n",
       "    <tr>\n",
       "      <th>4</th>\n",
       "      <td>Clothing</td>\n",
       "      <td>F</td>\n",
       "      <td>3425</td>\n",
       "    </tr>\n",
       "    <tr>\n",
       "      <th>5</th>\n",
       "      <td>Clothing</td>\n",
       "      <td>M</td>\n",
       "      <td>3748</td>\n",
       "    </tr>\n",
       "    <tr>\n",
       "      <th>6</th>\n",
       "      <td>Electronics</td>\n",
       "      <td>F</td>\n",
       "      <td>5827</td>\n",
       "    </tr>\n",
       "    <tr>\n",
       "      <th>7</th>\n",
       "      <td>Electronics</td>\n",
       "      <td>M</td>\n",
       "      <td>6480</td>\n",
       "    </tr>\n",
       "    <tr>\n",
       "      <th>8</th>\n",
       "      <td>Footwear</td>\n",
       "      <td>F</td>\n",
       "      <td>3721</td>\n",
       "    </tr>\n",
       "    <tr>\n",
       "      <th>9</th>\n",
       "      <td>Footwear</td>\n",
       "      <td>M</td>\n",
       "      <td>3561</td>\n",
       "    </tr>\n",
       "    <tr>\n",
       "      <th>10</th>\n",
       "      <td>Home and kitchen</td>\n",
       "      <td>F</td>\n",
       "      <td>4898</td>\n",
       "    </tr>\n",
       "    <tr>\n",
       "      <th>11</th>\n",
       "      <td>Home and kitchen</td>\n",
       "      <td>M</td>\n",
       "      <td>5046</td>\n",
       "    </tr>\n",
       "  </tbody>\n",
       "</table>\n",
       "</div>"
      ],
      "text/plain": [
       "            prod_cat Gender   Qty\n",
       "0               Bags      F  2364\n",
       "1               Bags      M  2345\n",
       "2              Books      F  7080\n",
       "3              Books      M  7586\n",
       "4           Clothing      F  3425\n",
       "5           Clothing      M  3748\n",
       "6        Electronics      F  5827\n",
       "7        Electronics      M  6480\n",
       "8           Footwear      F  3721\n",
       "9           Footwear      M  3561\n",
       "10  Home and kitchen      F  4898\n",
       "11  Home and kitchen      M  5046"
      ]
     },
     "execution_count": 44,
     "metadata": {},
     "output_type": "execute_result"
    }
   ],
   "source": [
    "pg"
   ]
  },
  {
   "cell_type": "code",
   "execution_count": 45,
   "id": "96c4c664",
   "metadata": {
    "execution": {
     "iopub.execute_input": "2022-12-07T13:09:09.265772Z",
     "iopub.status.busy": "2022-12-07T13:09:09.265317Z",
     "iopub.status.idle": "2022-12-07T13:09:09.279145Z",
     "shell.execute_reply": "2022-12-07T13:09:09.278287Z"
    },
    "papermill": {
     "duration": 0.040551,
     "end_time": "2022-12-07T13:09:09.281350",
     "exception": false,
     "start_time": "2022-12-07T13:09:09.240799",
     "status": "completed"
    },
    "tags": []
   },
   "outputs": [
    {
     "data": {
      "text/html": [
       "<div>\n",
       "<style scoped>\n",
       "    .dataframe tbody tr th:only-of-type {\n",
       "        vertical-align: middle;\n",
       "    }\n",
       "\n",
       "    .dataframe tbody tr th {\n",
       "        vertical-align: top;\n",
       "    }\n",
       "\n",
       "    .dataframe thead th {\n",
       "        text-align: right;\n",
       "    }\n",
       "</style>\n",
       "<table border=\"1\" class=\"dataframe\">\n",
       "  <thead>\n",
       "    <tr style=\"text-align: right;\">\n",
       "      <th>prod_cat</th>\n",
       "      <th>Bags</th>\n",
       "      <th>Books</th>\n",
       "      <th>Clothing</th>\n",
       "      <th>Electronics</th>\n",
       "      <th>Footwear</th>\n",
       "      <th>Home and kitchen</th>\n",
       "    </tr>\n",
       "    <tr>\n",
       "      <th>Gender</th>\n",
       "      <th></th>\n",
       "      <th></th>\n",
       "      <th></th>\n",
       "      <th></th>\n",
       "      <th></th>\n",
       "      <th></th>\n",
       "    </tr>\n",
       "  </thead>\n",
       "  <tbody>\n",
       "    <tr>\n",
       "      <th>F</th>\n",
       "      <td>2364</td>\n",
       "      <td>7080</td>\n",
       "      <td>3425</td>\n",
       "      <td>5827</td>\n",
       "      <td>3721</td>\n",
       "      <td>4898</td>\n",
       "    </tr>\n",
       "    <tr>\n",
       "      <th>M</th>\n",
       "      <td>2345</td>\n",
       "      <td>7586</td>\n",
       "      <td>3748</td>\n",
       "      <td>6480</td>\n",
       "      <td>3561</td>\n",
       "      <td>5046</td>\n",
       "    </tr>\n",
       "  </tbody>\n",
       "</table>\n",
       "</div>"
      ],
      "text/plain": [
       "prod_cat  Bags  Books  Clothing  Electronics  Footwear  Home and kitchen\n",
       "Gender                                                                  \n",
       "F         2364   7080      3425         5827      3721              4898\n",
       "M         2345   7586      3748         6480      3561              5046"
      ]
     },
     "execution_count": 45,
     "metadata": {},
     "output_type": "execute_result"
    }
   ],
   "source": [
    "pg.pivot(index=\"Gender\",columns=\"prod_cat\",values=\"Qty\")"
   ]
  },
  {
   "cell_type": "markdown",
   "id": "87a56b58",
   "metadata": {
    "papermill": {
     "duration": 0.022988,
     "end_time": "2022-12-07T13:09:09.326938",
     "exception": false,
     "start_time": "2022-12-07T13:09:09.303950",
     "status": "completed"
    },
    "tags": []
   },
   "source": [
    "6. Which City code has the maximum customers and what was the percentage of customers from\n",
    "that city?"
   ]
  },
  {
   "cell_type": "code",
   "execution_count": 46,
   "id": "91d88092",
   "metadata": {
    "execution": {
     "iopub.execute_input": "2022-12-07T13:09:09.375384Z",
     "iopub.status.busy": "2022-12-07T13:09:09.374792Z",
     "iopub.status.idle": "2022-12-07T13:09:09.382811Z",
     "shell.execute_reply": "2022-12-07T13:09:09.381594Z"
    },
    "papermill": {
     "duration": 0.03472,
     "end_time": "2022-12-07T13:09:09.384636",
     "exception": false,
     "start_time": "2022-12-07T13:09:09.349916",
     "status": "completed"
    },
    "tags": []
   },
   "outputs": [],
   "source": [
    "df=customer_final.city_code.value_counts().reset_index()"
   ]
  },
  {
   "cell_type": "code",
   "execution_count": 47,
   "id": "dde3b7a1",
   "metadata": {
    "execution": {
     "iopub.execute_input": "2022-12-07T13:09:09.432316Z",
     "iopub.status.busy": "2022-12-07T13:09:09.431721Z",
     "iopub.status.idle": "2022-12-07T13:09:09.441196Z",
     "shell.execute_reply": "2022-12-07T13:09:09.440341Z"
    },
    "papermill": {
     "duration": 0.035704,
     "end_time": "2022-12-07T13:09:09.443054",
     "exception": false,
     "start_time": "2022-12-07T13:09:09.407350",
     "status": "completed"
    },
    "tags": []
   },
   "outputs": [
    {
     "data": {
      "text/html": [
       "<div>\n",
       "<style scoped>\n",
       "    .dataframe tbody tr th:only-of-type {\n",
       "        vertical-align: middle;\n",
       "    }\n",
       "\n",
       "    .dataframe tbody tr th {\n",
       "        vertical-align: top;\n",
       "    }\n",
       "\n",
       "    .dataframe thead th {\n",
       "        text-align: right;\n",
       "    }\n",
       "</style>\n",
       "<table border=\"1\" class=\"dataframe\">\n",
       "  <thead>\n",
       "    <tr style=\"text-align: right;\">\n",
       "      <th></th>\n",
       "      <th>index</th>\n",
       "      <th>city_code</th>\n",
       "    </tr>\n",
       "  </thead>\n",
       "  <tbody>\n",
       "    <tr>\n",
       "      <th>0</th>\n",
       "      <td>4.0</td>\n",
       "      <td>2422</td>\n",
       "    </tr>\n",
       "    <tr>\n",
       "      <th>1</th>\n",
       "      <td>3.0</td>\n",
       "      <td>2410</td>\n",
       "    </tr>\n",
       "    <tr>\n",
       "      <th>2</th>\n",
       "      <td>5.0</td>\n",
       "      <td>2357</td>\n",
       "    </tr>\n",
       "    <tr>\n",
       "      <th>3</th>\n",
       "      <td>7.0</td>\n",
       "      <td>2356</td>\n",
       "    </tr>\n",
       "    <tr>\n",
       "      <th>4</th>\n",
       "      <td>10.0</td>\n",
       "      <td>2333</td>\n",
       "    </tr>\n",
       "    <tr>\n",
       "      <th>5</th>\n",
       "      <td>8.0</td>\n",
       "      <td>2328</td>\n",
       "    </tr>\n",
       "    <tr>\n",
       "      <th>6</th>\n",
       "      <td>2.0</td>\n",
       "      <td>2263</td>\n",
       "    </tr>\n",
       "    <tr>\n",
       "      <th>7</th>\n",
       "      <td>1.0</td>\n",
       "      <td>2255</td>\n",
       "    </tr>\n",
       "    <tr>\n",
       "      <th>8</th>\n",
       "      <td>9.0</td>\n",
       "      <td>2176</td>\n",
       "    </tr>\n",
       "    <tr>\n",
       "      <th>9</th>\n",
       "      <td>6.0</td>\n",
       "      <td>2123</td>\n",
       "    </tr>\n",
       "  </tbody>\n",
       "</table>\n",
       "</div>"
      ],
      "text/plain": [
       "   index  city_code\n",
       "0    4.0       2422\n",
       "1    3.0       2410\n",
       "2    5.0       2357\n",
       "3    7.0       2356\n",
       "4   10.0       2333\n",
       "5    8.0       2328\n",
       "6    2.0       2263\n",
       "7    1.0       2255\n",
       "8    9.0       2176\n",
       "9    6.0       2123"
      ]
     },
     "execution_count": 47,
     "metadata": {},
     "output_type": "execute_result"
    }
   ],
   "source": [
    "df"
   ]
  },
  {
   "cell_type": "code",
   "execution_count": 48,
   "id": "5f55e734",
   "metadata": {
    "execution": {
     "iopub.execute_input": "2022-12-07T13:09:09.492634Z",
     "iopub.status.busy": "2022-12-07T13:09:09.491963Z",
     "iopub.status.idle": "2022-12-07T13:09:09.499911Z",
     "shell.execute_reply": "2022-12-07T13:09:09.499110Z"
    },
    "papermill": {
     "duration": 0.035449,
     "end_time": "2022-12-07T13:09:09.501874",
     "exception": false,
     "start_time": "2022-12-07T13:09:09.466425",
     "status": "completed"
    },
    "tags": []
   },
   "outputs": [
    {
     "data": {
      "text/plain": [
       "0    10.519915\n",
       "Name: city_code, dtype: float64"
      ]
     },
     "execution_count": 48,
     "metadata": {},
     "output_type": "execute_result"
    }
   ],
   "source": [
    "(df.city_code.head(1)/df.city_code.sum())*100"
   ]
  },
  {
   "cell_type": "markdown",
   "id": "ebf9ce31",
   "metadata": {
    "papermill": {
     "duration": 0.024153,
     "end_time": "2022-12-07T13:09:09.549839",
     "exception": false,
     "start_time": "2022-12-07T13:09:09.525686",
     "status": "completed"
    },
    "tags": []
   },
   "source": [
    "7. Which store type sells the maximum products by value and by quantity?"
   ]
  },
  {
   "cell_type": "code",
   "execution_count": 49,
   "id": "d7085725",
   "metadata": {
    "execution": {
     "iopub.execute_input": "2022-12-07T13:09:09.599467Z",
     "iopub.status.busy": "2022-12-07T13:09:09.599099Z",
     "iopub.status.idle": "2022-12-07T13:09:09.616029Z",
     "shell.execute_reply": "2022-12-07T13:09:09.614381Z"
    },
    "papermill": {
     "duration": 0.045051,
     "end_time": "2022-12-07T13:09:09.618678",
     "exception": false,
     "start_time": "2022-12-07T13:09:09.573627",
     "status": "completed"
    },
    "tags": []
   },
   "outputs": [
    {
     "name": "stdout",
     "output_type": "stream",
     "text": [
      "<class 'pandas.core.frame.DataFrame'>\n",
      "Int64Index: 23040 entries, 0 to 23039\n",
      "Data columns (total 16 columns):\n",
      " #   Column            Non-Null Count  Dtype         \n",
      "---  ------            --------------  -----         \n",
      " 0   transaction_id    23040 non-null  int64         \n",
      " 1   cust_id           23040 non-null  int64         \n",
      " 2   tran_date         23040 non-null  datetime64[ns]\n",
      " 3   prod_subcat_code  23040 non-null  int64         \n",
      " 4   prod_cat_code     23040 non-null  int64         \n",
      " 5   Qty               23040 non-null  int64         \n",
      " 6   Rate              23040 non-null  int64         \n",
      " 7   Tax               23040 non-null  float64       \n",
      " 8   total_amt         23040 non-null  float64       \n",
      " 9   Store_type        23040 non-null  object        \n",
      " 10  prod_cat          23040 non-null  object        \n",
      " 11  prod_subcat       23040 non-null  object        \n",
      " 12  customer_Id       23023 non-null  float64       \n",
      " 13  DOB               23023 non-null  datetime64[ns]\n",
      " 14  Gender            23023 non-null  object        \n",
      " 15  city_code         23023 non-null  float64       \n",
      "dtypes: datetime64[ns](2), float64(4), int64(6), object(4)\n",
      "memory usage: 3.0+ MB\n"
     ]
    }
   ],
   "source": [
    "customer_final.info()"
   ]
  },
  {
   "cell_type": "code",
   "execution_count": 50,
   "id": "56fff7c5",
   "metadata": {
    "execution": {
     "iopub.execute_input": "2022-12-07T13:09:09.668118Z",
     "iopub.status.busy": "2022-12-07T13:09:09.667776Z",
     "iopub.status.idle": "2022-12-07T13:09:09.685864Z",
     "shell.execute_reply": "2022-12-07T13:09:09.684549Z"
    },
    "papermill": {
     "duration": 0.045529,
     "end_time": "2022-12-07T13:09:09.688139",
     "exception": false,
     "start_time": "2022-12-07T13:09:09.642610",
     "status": "completed"
    },
    "tags": []
   },
   "outputs": [
    {
     "name": "stderr",
     "output_type": "stream",
     "text": [
      "/opt/conda/lib/python3.7/site-packages/ipykernel_launcher.py:1: FutureWarning: Indexing with multiple keys (implicitly converted to a tuple of keys) will be deprecated, use a list instead.\n",
      "  \"\"\"Entry point for launching an IPython kernel.\n"
     ]
    },
    {
     "data": {
      "text/html": [
       "<div>\n",
       "<style scoped>\n",
       "    .dataframe tbody tr th:only-of-type {\n",
       "        vertical-align: middle;\n",
       "    }\n",
       "\n",
       "    .dataframe tbody tr th {\n",
       "        vertical-align: top;\n",
       "    }\n",
       "\n",
       "    .dataframe thead th {\n",
       "        text-align: right;\n",
       "    }\n",
       "</style>\n",
       "<table border=\"1\" class=\"dataframe\">\n",
       "  <thead>\n",
       "    <tr style=\"text-align: right;\">\n",
       "      <th></th>\n",
       "      <th>Rate</th>\n",
       "      <th>Qty</th>\n",
       "    </tr>\n",
       "    <tr>\n",
       "      <th>Store_type</th>\n",
       "      <th></th>\n",
       "      <th></th>\n",
       "    </tr>\n",
       "  </thead>\n",
       "  <tbody>\n",
       "    <tr>\n",
       "      <th>e-Shop</th>\n",
       "      <td>5945770</td>\n",
       "      <td>22790</td>\n",
       "    </tr>\n",
       "    <tr>\n",
       "      <th>MBR</th>\n",
       "      <td>2953665</td>\n",
       "      <td>11195</td>\n",
       "    </tr>\n",
       "    <tr>\n",
       "      <th>Flagship store</th>\n",
       "      <td>2942874</td>\n",
       "      <td>11142</td>\n",
       "    </tr>\n",
       "    <tr>\n",
       "      <th>TeleShop</th>\n",
       "      <td>2836359</td>\n",
       "      <td>10993</td>\n",
       "    </tr>\n",
       "  </tbody>\n",
       "</table>\n",
       "</div>"
      ],
      "text/plain": [
       "                   Rate    Qty\n",
       "Store_type                    \n",
       "e-Shop          5945770  22790\n",
       "MBR             2953665  11195\n",
       "Flagship store  2942874  11142\n",
       "TeleShop        2836359  10993"
      ]
     },
     "execution_count": 50,
     "metadata": {},
     "output_type": "execute_result"
    }
   ],
   "source": [
    "customer_final.groupby('Store_type')['Rate','Qty'].sum().sort_values(by=\"Qty\",ascending=False)"
   ]
  },
  {
   "cell_type": "markdown",
   "id": "5f32dc38",
   "metadata": {
    "papermill": {
     "duration": 0.02412,
     "end_time": "2022-12-07T13:09:09.736112",
     "exception": false,
     "start_time": "2022-12-07T13:09:09.711992",
     "status": "completed"
    },
    "tags": []
   },
   "source": [
    "\n",
    "\n",
    "\n",
    "8. What was the total amount earned from the \"Electronics\" and \"Clothing\" categories from\n",
    "Flagship Stores?"
   ]
  },
  {
   "cell_type": "code",
   "execution_count": 51,
   "id": "ccee2404",
   "metadata": {
    "execution": {
     "iopub.execute_input": "2022-12-07T13:09:09.785892Z",
     "iopub.status.busy": "2022-12-07T13:09:09.785514Z",
     "iopub.status.idle": "2022-12-07T13:09:09.799876Z",
     "shell.execute_reply": "2022-12-07T13:09:09.798793Z"
    },
    "papermill": {
     "duration": 0.041628,
     "end_time": "2022-12-07T13:09:09.801649",
     "exception": false,
     "start_time": "2022-12-07T13:09:09.760021",
     "status": "completed"
    },
    "tags": []
   },
   "outputs": [
    {
     "data": {
      "text/plain": [
       "3409559.27"
      ]
     },
     "execution_count": 51,
     "metadata": {},
     "output_type": "execute_result"
    }
   ],
   "source": [
    "customer_final.loc[((customer_final.prod_cat=='Clothing') | (customer_final.prod_cat=='Electronics'))&(customer_final.Store_type=='Flagship store')].total_amt.sum()"
   ]
  },
  {
   "cell_type": "markdown",
   "id": "25acfe1c",
   "metadata": {
    "papermill": {
     "duration": 0.024686,
     "end_time": "2022-12-07T13:09:09.850774",
     "exception": false,
     "start_time": "2022-12-07T13:09:09.826088",
     "status": "completed"
    },
    "tags": []
   },
   "source": [
    "\n",
    "9. What was the total amount earned from \"Male\" customers under the \"Electronics\" category?"
   ]
  },
  {
   "cell_type": "code",
   "execution_count": 52,
   "id": "5fb8bbb9",
   "metadata": {
    "execution": {
     "iopub.execute_input": "2022-12-07T13:09:09.902509Z",
     "iopub.status.busy": "2022-12-07T13:09:09.901635Z",
     "iopub.status.idle": "2022-12-07T13:09:09.916938Z",
     "shell.execute_reply": "2022-12-07T13:09:09.915753Z"
    },
    "papermill": {
     "duration": 0.043824,
     "end_time": "2022-12-07T13:09:09.919426",
     "exception": false,
     "start_time": "2022-12-07T13:09:09.875602",
     "status": "completed"
    },
    "tags": []
   },
   "outputs": [
    {
     "data": {
      "text/html": [
       "<div>\n",
       "<style scoped>\n",
       "    .dataframe tbody tr th:only-of-type {\n",
       "        vertical-align: middle;\n",
       "    }\n",
       "\n",
       "    .dataframe tbody tr th {\n",
       "        vertical-align: top;\n",
       "    }\n",
       "\n",
       "    .dataframe thead th {\n",
       "        text-align: right;\n",
       "    }\n",
       "</style>\n",
       "<table border=\"1\" class=\"dataframe\">\n",
       "  <thead>\n",
       "    <tr style=\"text-align: right;\">\n",
       "      <th></th>\n",
       "      <th>transaction_id</th>\n",
       "      <th>cust_id</th>\n",
       "      <th>tran_date</th>\n",
       "      <th>prod_subcat_code</th>\n",
       "      <th>prod_cat_code</th>\n",
       "      <th>Qty</th>\n",
       "      <th>Rate</th>\n",
       "      <th>Tax</th>\n",
       "      <th>total_amt</th>\n",
       "      <th>Store_type</th>\n",
       "      <th>prod_cat</th>\n",
       "      <th>prod_subcat</th>\n",
       "      <th>customer_Id</th>\n",
       "      <th>DOB</th>\n",
       "      <th>Gender</th>\n",
       "      <th>city_code</th>\n",
       "    </tr>\n",
       "  </thead>\n",
       "  <tbody>\n",
       "    <tr>\n",
       "      <th>0</th>\n",
       "      <td>80712190438</td>\n",
       "      <td>270351</td>\n",
       "      <td>2014-02-28</td>\n",
       "      <td>1</td>\n",
       "      <td>1</td>\n",
       "      <td>-5</td>\n",
       "      <td>-772</td>\n",
       "      <td>405.3</td>\n",
       "      <td>-4265.3</td>\n",
       "      <td>e-Shop</td>\n",
       "      <td>Clothing</td>\n",
       "      <td>Women</td>\n",
       "      <td>270351.0</td>\n",
       "      <td>1981-09-26</td>\n",
       "      <td>M</td>\n",
       "      <td>5.0</td>\n",
       "    </tr>\n",
       "  </tbody>\n",
       "</table>\n",
       "</div>"
      ],
      "text/plain": [
       "   transaction_id  cust_id  tran_date  prod_subcat_code  prod_cat_code  Qty  \\\n",
       "0     80712190438   270351 2014-02-28                 1              1   -5   \n",
       "\n",
       "   Rate    Tax  total_amt Store_type  prod_cat prod_subcat  customer_Id  \\\n",
       "0  -772  405.3    -4265.3     e-Shop  Clothing       Women     270351.0   \n",
       "\n",
       "         DOB Gender  city_code  \n",
       "0 1981-09-26      M        5.0  "
      ]
     },
     "execution_count": 52,
     "metadata": {},
     "output_type": "execute_result"
    }
   ],
   "source": [
    "customer_final.head(1)"
   ]
  },
  {
   "cell_type": "code",
   "execution_count": 53,
   "id": "e6d11a0b",
   "metadata": {
    "execution": {
     "iopub.execute_input": "2022-12-07T13:09:09.970641Z",
     "iopub.status.busy": "2022-12-07T13:09:09.970046Z",
     "iopub.status.idle": "2022-12-07T13:09:09.980810Z",
     "shell.execute_reply": "2022-12-07T13:09:09.979700Z"
    },
    "papermill": {
     "duration": 0.038427,
     "end_time": "2022-12-07T13:09:09.982553",
     "exception": false,
     "start_time": "2022-12-07T13:09:09.944126",
     "status": "completed"
    },
    "tags": []
   },
   "outputs": [
    {
     "data": {
      "text/plain": [
       "5705871.925"
      ]
     },
     "execution_count": 53,
     "metadata": {},
     "output_type": "execute_result"
    }
   ],
   "source": [
    "customer_final.loc[(customer_final.Gender=='M') & (customer_final.prod_cat=='Electronics')].total_amt.sum()"
   ]
  },
  {
   "cell_type": "markdown",
   "id": "ee6b4418",
   "metadata": {
    "papermill": {
     "duration": 0.024284,
     "end_time": "2022-12-07T13:09:10.031794",
     "exception": false,
     "start_time": "2022-12-07T13:09:10.007510",
     "status": "completed"
    },
    "tags": []
   },
   "source": [
    "\n",
    "10. How many customers have more than 10 unique transactions, after removing all transactions\n",
    "which have any negative amounts?"
   ]
  },
  {
   "cell_type": "markdown",
   "id": "3d7cc1d0",
   "metadata": {
    "papermill": {
     "duration": 0.024773,
     "end_time": "2022-12-07T13:09:10.081367",
     "exception": false,
     "start_time": "2022-12-07T13:09:10.056594",
     "status": "completed"
    },
    "tags": []
   },
   "source": [
    "First we remove the transactions which have negative amounts"
   ]
  },
  {
   "cell_type": "code",
   "execution_count": 54,
   "id": "66f22887",
   "metadata": {
    "execution": {
     "iopub.execute_input": "2022-12-07T13:09:10.132779Z",
     "iopub.status.busy": "2022-12-07T13:09:10.132179Z",
     "iopub.status.idle": "2022-12-07T13:09:10.139307Z",
     "shell.execute_reply": "2022-12-07T13:09:10.138699Z"
    },
    "papermill": {
     "duration": 0.035283,
     "end_time": "2022-12-07T13:09:10.141657",
     "exception": false,
     "start_time": "2022-12-07T13:09:10.106374",
     "status": "completed"
    },
    "tags": []
   },
   "outputs": [],
   "source": [
    "positive_data=customer_final[customer_final.total_amt>0]"
   ]
  },
  {
   "cell_type": "code",
   "execution_count": 55,
   "id": "916c7842",
   "metadata": {
    "execution": {
     "iopub.execute_input": "2022-12-07T13:09:10.191866Z",
     "iopub.status.busy": "2022-12-07T13:09:10.191457Z",
     "iopub.status.idle": "2022-12-07T13:09:10.210081Z",
     "shell.execute_reply": "2022-12-07T13:09:10.209115Z"
    },
    "papermill": {
     "duration": 0.046377,
     "end_time": "2022-12-07T13:09:10.212237",
     "exception": false,
     "start_time": "2022-12-07T13:09:10.165860",
     "status": "completed"
    },
    "tags": []
   },
   "outputs": [
    {
     "data": {
      "text/html": [
       "<div>\n",
       "<style scoped>\n",
       "    .dataframe tbody tr th:only-of-type {\n",
       "        vertical-align: middle;\n",
       "    }\n",
       "\n",
       "    .dataframe tbody tr th {\n",
       "        vertical-align: top;\n",
       "    }\n",
       "\n",
       "    .dataframe thead th {\n",
       "        text-align: right;\n",
       "    }\n",
       "</style>\n",
       "<table border=\"1\" class=\"dataframe\">\n",
       "  <thead>\n",
       "    <tr style=\"text-align: right;\">\n",
       "      <th></th>\n",
       "      <th>transaction_id</th>\n",
       "      <th>cust_id</th>\n",
       "      <th>tran_date</th>\n",
       "      <th>prod_subcat_code</th>\n",
       "      <th>prod_cat_code</th>\n",
       "      <th>Qty</th>\n",
       "      <th>Rate</th>\n",
       "      <th>Tax</th>\n",
       "      <th>total_amt</th>\n",
       "      <th>Store_type</th>\n",
       "      <th>prod_cat</th>\n",
       "      <th>prod_subcat</th>\n",
       "      <th>customer_Id</th>\n",
       "      <th>DOB</th>\n",
       "      <th>Gender</th>\n",
       "      <th>city_code</th>\n",
       "    </tr>\n",
       "  </thead>\n",
       "  <tbody>\n",
       "    <tr>\n",
       "      <th>10</th>\n",
       "      <td>29258453508</td>\n",
       "      <td>270384</td>\n",
       "      <td>2014-02-20</td>\n",
       "      <td>5</td>\n",
       "      <td>3</td>\n",
       "      <td>5</td>\n",
       "      <td>1497</td>\n",
       "      <td>785.925</td>\n",
       "      <td>8270.925</td>\n",
       "      <td>e-Shop</td>\n",
       "      <td>Electronics</td>\n",
       "      <td>Computers</td>\n",
       "      <td>270384.0</td>\n",
       "      <td>1973-05-11</td>\n",
       "      <td>F</td>\n",
       "      <td>8.0</td>\n",
       "    </tr>\n",
       "    <tr>\n",
       "      <th>11</th>\n",
       "      <td>25455265351</td>\n",
       "      <td>267750</td>\n",
       "      <td>2014-02-20</td>\n",
       "      <td>12</td>\n",
       "      <td>6</td>\n",
       "      <td>3</td>\n",
       "      <td>1360</td>\n",
       "      <td>428.400</td>\n",
       "      <td>4508.400</td>\n",
       "      <td>e-Shop</td>\n",
       "      <td>Home and kitchen</td>\n",
       "      <td>Tools</td>\n",
       "      <td>267750.0</td>\n",
       "      <td>1986-10-13</td>\n",
       "      <td>M</td>\n",
       "      <td>1.0</td>\n",
       "    </tr>\n",
       "    <tr>\n",
       "      <th>12</th>\n",
       "      <td>1571002198</td>\n",
       "      <td>275023</td>\n",
       "      <td>2014-02-20</td>\n",
       "      <td>6</td>\n",
       "      <td>5</td>\n",
       "      <td>4</td>\n",
       "      <td>587</td>\n",
       "      <td>246.540</td>\n",
       "      <td>2594.540</td>\n",
       "      <td>e-Shop</td>\n",
       "      <td>Books</td>\n",
       "      <td>DIY</td>\n",
       "      <td>275023.0</td>\n",
       "      <td>1971-03-09</td>\n",
       "      <td>M</td>\n",
       "      <td>6.0</td>\n",
       "    </tr>\n",
       "    <tr>\n",
       "      <th>14</th>\n",
       "      <td>36554696014</td>\n",
       "      <td>269345</td>\n",
       "      <td>2014-02-20</td>\n",
       "      <td>3</td>\n",
       "      <td>5</td>\n",
       "      <td>3</td>\n",
       "      <td>1253</td>\n",
       "      <td>394.695</td>\n",
       "      <td>4153.695</td>\n",
       "      <td>e-Shop</td>\n",
       "      <td>Books</td>\n",
       "      <td>Comics</td>\n",
       "      <td>269345.0</td>\n",
       "      <td>1970-06-26</td>\n",
       "      <td>F</td>\n",
       "      <td>10.0</td>\n",
       "    </tr>\n",
       "    <tr>\n",
       "      <th>15</th>\n",
       "      <td>56814940239</td>\n",
       "      <td>268799</td>\n",
       "      <td>2014-02-20</td>\n",
       "      <td>7</td>\n",
       "      <td>5</td>\n",
       "      <td>5</td>\n",
       "      <td>368</td>\n",
       "      <td>193.200</td>\n",
       "      <td>2033.200</td>\n",
       "      <td>e-Shop</td>\n",
       "      <td>Books</td>\n",
       "      <td>Fiction</td>\n",
       "      <td>268799.0</td>\n",
       "      <td>1979-06-27</td>\n",
       "      <td>M</td>\n",
       "      <td>9.0</td>\n",
       "    </tr>\n",
       "  </tbody>\n",
       "</table>\n",
       "</div>"
      ],
      "text/plain": [
       "    transaction_id  cust_id  tran_date  prod_subcat_code  prod_cat_code  Qty  \\\n",
       "10     29258453508   270384 2014-02-20                 5              3    5   \n",
       "11     25455265351   267750 2014-02-20                12              6    3   \n",
       "12      1571002198   275023 2014-02-20                 6              5    4   \n",
       "14     36554696014   269345 2014-02-20                 3              5    3   \n",
       "15     56814940239   268799 2014-02-20                 7              5    5   \n",
       "\n",
       "    Rate      Tax  total_amt Store_type          prod_cat prod_subcat  \\\n",
       "10  1497  785.925   8270.925     e-Shop       Electronics   Computers   \n",
       "11  1360  428.400   4508.400     e-Shop  Home and kitchen       Tools   \n",
       "12   587  246.540   2594.540     e-Shop             Books         DIY   \n",
       "14  1253  394.695   4153.695     e-Shop             Books      Comics   \n",
       "15   368  193.200   2033.200     e-Shop             Books     Fiction   \n",
       "\n",
       "    customer_Id        DOB Gender  city_code  \n",
       "10     270384.0 1973-05-11      F        8.0  \n",
       "11     267750.0 1986-10-13      M        1.0  \n",
       "12     275023.0 1971-03-09      M        6.0  \n",
       "14     269345.0 1970-06-26      F       10.0  \n",
       "15     268799.0 1979-06-27      M        9.0  "
      ]
     },
     "execution_count": 55,
     "metadata": {},
     "output_type": "execute_result"
    }
   ],
   "source": [
    "positive_data.head()"
   ]
  },
  {
   "cell_type": "code",
   "execution_count": 56,
   "id": "1228c31e",
   "metadata": {
    "execution": {
     "iopub.execute_input": "2022-12-07T13:09:10.261899Z",
     "iopub.status.busy": "2022-12-07T13:09:10.261555Z",
     "iopub.status.idle": "2022-12-07T13:09:10.279019Z",
     "shell.execute_reply": "2022-12-07T13:09:10.277742Z"
    },
    "papermill": {
     "duration": 0.044809,
     "end_time": "2022-12-07T13:09:10.281373",
     "exception": false,
     "start_time": "2022-12-07T13:09:10.236564",
     "status": "completed"
    },
    "tags": []
   },
   "outputs": [],
   "source": [
    "unique_trans = positive_data.groupby(['customer_Id','prod_cat','prod_subcat'])['transaction_id'].count().reset_index()"
   ]
  },
  {
   "cell_type": "code",
   "execution_count": 57,
   "id": "0f559ac5",
   "metadata": {
    "execution": {
     "iopub.execute_input": "2022-12-07T13:09:10.332632Z",
     "iopub.status.busy": "2022-12-07T13:09:10.332267Z",
     "iopub.status.idle": "2022-12-07T13:09:10.348759Z",
     "shell.execute_reply": "2022-12-07T13:09:10.347541Z"
    },
    "papermill": {
     "duration": 0.045816,
     "end_time": "2022-12-07T13:09:10.351265",
     "exception": false,
     "start_time": "2022-12-07T13:09:10.305449",
     "status": "completed"
    },
    "tags": []
   },
   "outputs": [
    {
     "data": {
      "text/html": [
       "<div>\n",
       "<style scoped>\n",
       "    .dataframe tbody tr th:only-of-type {\n",
       "        vertical-align: middle;\n",
       "    }\n",
       "\n",
       "    .dataframe tbody tr th {\n",
       "        vertical-align: top;\n",
       "    }\n",
       "\n",
       "    .dataframe thead th {\n",
       "        text-align: right;\n",
       "    }\n",
       "</style>\n",
       "<table border=\"1\" class=\"dataframe\">\n",
       "  <thead>\n",
       "    <tr style=\"text-align: right;\">\n",
       "      <th></th>\n",
       "      <th>customer_Id</th>\n",
       "      <th>prod_cat</th>\n",
       "      <th>prod_subcat</th>\n",
       "      <th>transaction_id</th>\n",
       "    </tr>\n",
       "  </thead>\n",
       "  <tbody>\n",
       "    <tr>\n",
       "      <th>0</th>\n",
       "      <td>266783.0</td>\n",
       "      <td>Books</td>\n",
       "      <td>Non-Fiction</td>\n",
       "      <td>1</td>\n",
       "    </tr>\n",
       "    <tr>\n",
       "      <th>1</th>\n",
       "      <td>266783.0</td>\n",
       "      <td>Clothing</td>\n",
       "      <td>Mens</td>\n",
       "      <td>2</td>\n",
       "    </tr>\n",
       "    <tr>\n",
       "      <th>2</th>\n",
       "      <td>266783.0</td>\n",
       "      <td>Footwear</td>\n",
       "      <td>Mens</td>\n",
       "      <td>1</td>\n",
       "    </tr>\n",
       "    <tr>\n",
       "      <th>3</th>\n",
       "      <td>266784.0</td>\n",
       "      <td>Books</td>\n",
       "      <td>Fiction</td>\n",
       "      <td>1</td>\n",
       "    </tr>\n",
       "    <tr>\n",
       "      <th>4</th>\n",
       "      <td>266784.0</td>\n",
       "      <td>Books</td>\n",
       "      <td>Non-Fiction</td>\n",
       "      <td>1</td>\n",
       "    </tr>\n",
       "    <tr>\n",
       "      <th>...</th>\n",
       "      <td>...</td>\n",
       "      <td>...</td>\n",
       "      <td>...</td>\n",
       "      <td>...</td>\n",
       "    </tr>\n",
       "    <tr>\n",
       "      <th>19257</th>\n",
       "      <td>275264.0</td>\n",
       "      <td>Books</td>\n",
       "      <td>Non-Fiction</td>\n",
       "      <td>1</td>\n",
       "    </tr>\n",
       "    <tr>\n",
       "      <th>19258</th>\n",
       "      <td>275264.0</td>\n",
       "      <td>Home and kitchen</td>\n",
       "      <td>Tools</td>\n",
       "      <td>1</td>\n",
       "    </tr>\n",
       "    <tr>\n",
       "      <th>19259</th>\n",
       "      <td>275265.0</td>\n",
       "      <td>Bags</td>\n",
       "      <td>Mens</td>\n",
       "      <td>1</td>\n",
       "    </tr>\n",
       "    <tr>\n",
       "      <th>19260</th>\n",
       "      <td>275265.0</td>\n",
       "      <td>Books</td>\n",
       "      <td>Academic</td>\n",
       "      <td>1</td>\n",
       "    </tr>\n",
       "    <tr>\n",
       "      <th>19261</th>\n",
       "      <td>275265.0</td>\n",
       "      <td>Home and kitchen</td>\n",
       "      <td>Furnishing</td>\n",
       "      <td>1</td>\n",
       "    </tr>\n",
       "  </tbody>\n",
       "</table>\n",
       "<p>19262 rows × 4 columns</p>\n",
       "</div>"
      ],
      "text/plain": [
       "       customer_Id          prod_cat  prod_subcat  transaction_id\n",
       "0         266783.0             Books  Non-Fiction               1\n",
       "1         266783.0          Clothing         Mens               2\n",
       "2         266783.0          Footwear         Mens               1\n",
       "3         266784.0             Books      Fiction               1\n",
       "4         266784.0             Books  Non-Fiction               1\n",
       "...            ...               ...          ...             ...\n",
       "19257     275264.0             Books  Non-Fiction               1\n",
       "19258     275264.0  Home and kitchen        Tools               1\n",
       "19259     275265.0              Bags         Mens               1\n",
       "19260     275265.0             Books     Academic               1\n",
       "19261     275265.0  Home and kitchen   Furnishing               1\n",
       "\n",
       "[19262 rows x 4 columns]"
      ]
     },
     "execution_count": 57,
     "metadata": {},
     "output_type": "execute_result"
    }
   ],
   "source": [
    "unique_trans"
   ]
  },
  {
   "cell_type": "code",
   "execution_count": 58,
   "id": "07f80725",
   "metadata": {
    "execution": {
     "iopub.execute_input": "2022-12-07T13:09:10.400838Z",
     "iopub.status.busy": "2022-12-07T13:09:10.400454Z",
     "iopub.status.idle": "2022-12-07T13:09:10.409590Z",
     "shell.execute_reply": "2022-12-07T13:09:10.408583Z"
    },
    "papermill": {
     "duration": 0.036757,
     "end_time": "2022-12-07T13:09:10.412047",
     "exception": false,
     "start_time": "2022-12-07T13:09:10.375290",
     "status": "completed"
    },
    "tags": []
   },
   "outputs": [],
   "source": [
    "unique_trans_count = unique_trans.groupby('customer_Id')['transaction_id'].count().reset_index()"
   ]
  },
  {
   "cell_type": "code",
   "execution_count": 59,
   "id": "d7bcc0bd",
   "metadata": {
    "execution": {
     "iopub.execute_input": "2022-12-07T13:09:10.464540Z",
     "iopub.status.busy": "2022-12-07T13:09:10.464147Z",
     "iopub.status.idle": "2022-12-07T13:09:10.474902Z",
     "shell.execute_reply": "2022-12-07T13:09:10.473491Z"
    },
    "papermill": {
     "duration": 0.040279,
     "end_time": "2022-12-07T13:09:10.477574",
     "exception": false,
     "start_time": "2022-12-07T13:09:10.437295",
     "status": "completed"
    },
    "tags": []
   },
   "outputs": [
    {
     "data": {
      "text/html": [
       "<div>\n",
       "<style scoped>\n",
       "    .dataframe tbody tr th:only-of-type {\n",
       "        vertical-align: middle;\n",
       "    }\n",
       "\n",
       "    .dataframe tbody tr th {\n",
       "        vertical-align: top;\n",
       "    }\n",
       "\n",
       "    .dataframe thead th {\n",
       "        text-align: right;\n",
       "    }\n",
       "</style>\n",
       "<table border=\"1\" class=\"dataframe\">\n",
       "  <thead>\n",
       "    <tr style=\"text-align: right;\">\n",
       "      <th></th>\n",
       "      <th>customer_Id</th>\n",
       "      <th>transaction_id</th>\n",
       "    </tr>\n",
       "  </thead>\n",
       "  <tbody>\n",
       "  </tbody>\n",
       "</table>\n",
       "</div>"
      ],
      "text/plain": [
       "Empty DataFrame\n",
       "Columns: [customer_Id, transaction_id]\n",
       "Index: []"
      ]
     },
     "execution_count": 59,
     "metadata": {},
     "output_type": "execute_result"
    }
   ],
   "source": [
    "unique_trans_count[unique_trans_count.transaction_id>10]"
   ]
  },
  {
   "cell_type": "markdown",
   "id": "617bb005",
   "metadata": {
    "papermill": {
     "duration": 0.024931,
     "end_time": "2022-12-07T13:09:10.527800",
     "exception": false,
     "start_time": "2022-12-07T13:09:10.502869",
     "status": "completed"
    },
    "tags": []
   },
   "source": [
    "There are no customer who have more than 10 unique transaction"
   ]
  },
  {
   "cell_type": "markdown",
   "id": "323c637f",
   "metadata": {
    "papermill": {
     "duration": 0.025551,
     "end_time": "2022-12-07T13:09:10.578459",
     "exception": false,
     "start_time": "2022-12-07T13:09:10.552908",
     "status": "completed"
    },
    "tags": []
   },
   "source": [
    "\n",
    "11. For all customers aged between 25 - 35, find out:\n",
    " a. What was the total amount spent for “Electronics” and “Books” product categories?\n",
    " b. What was the total amount spent by these customers between 1st Jan, 2014 to 1st Mar, 2014?\n"
   ]
  },
  {
   "cell_type": "code",
   "execution_count": 60,
   "id": "54e03d64",
   "metadata": {
    "execution": {
     "iopub.execute_input": "2022-12-07T13:09:10.630915Z",
     "iopub.status.busy": "2022-12-07T13:09:10.630567Z",
     "iopub.status.idle": "2022-12-07T13:09:10.793162Z",
     "shell.execute_reply": "2022-12-07T13:09:10.791877Z"
    },
    "papermill": {
     "duration": 0.191762,
     "end_time": "2022-12-07T13:09:10.795548",
     "exception": false,
     "start_time": "2022-12-07T13:09:10.603786",
     "status": "completed"
    },
    "tags": []
   },
   "outputs": [],
   "source": [
    "now = pd.Timestamp('now')\n",
    "customer_final['DOB'] = pd.to_datetime(customer_final['DOB'], format='%m%d%y')    # 1\n",
    "customer_final['DOB'] = customer_final['DOB'].where(customer_final['DOB'] < now, customer_final['DOB'] -  np.timedelta64(100, 'Y'))   # 2\n",
    "customer_final['AGE'] = (now - customer_final['DOB']).astype('<m8[Y]')"
   ]
  },
  {
   "cell_type": "code",
   "execution_count": 61,
   "id": "ba2c219e",
   "metadata": {
    "execution": {
     "iopub.execute_input": "2022-12-07T13:09:10.846081Z",
     "iopub.status.busy": "2022-12-07T13:09:10.845725Z",
     "iopub.status.idle": "2022-12-07T13:09:10.854512Z",
     "shell.execute_reply": "2022-12-07T13:09:10.853533Z"
    },
    "papermill": {
     "duration": 0.037298,
     "end_time": "2022-12-07T13:09:10.857312",
     "exception": false,
     "start_time": "2022-12-07T13:09:10.820014",
     "status": "completed"
    },
    "tags": []
   },
   "outputs": [],
   "source": [
    "customer_final['Age_cat'] = pd.cut(customer_final['AGE'],bins=[24,35,46,57],labels=['25-35','36-46','47-57'],include_lowest=True)"
   ]
  },
  {
   "cell_type": "code",
   "execution_count": 62,
   "id": "9b65f9d0",
   "metadata": {
    "execution": {
     "iopub.execute_input": "2022-12-07T13:09:10.909419Z",
     "iopub.status.busy": "2022-12-07T13:09:10.909035Z",
     "iopub.status.idle": "2022-12-07T13:09:10.920281Z",
     "shell.execute_reply": "2022-12-07T13:09:10.918985Z"
    },
    "papermill": {
     "duration": 0.039865,
     "end_time": "2022-12-07T13:09:10.922429",
     "exception": false,
     "start_time": "2022-12-07T13:09:10.882564",
     "status": "completed"
    },
    "tags": []
   },
   "outputs": [],
   "source": [
    "customer_25_35 = customer_final.groupby(['Age_cat','prod_cat'])['total_amt'].sum()"
   ]
  },
  {
   "cell_type": "code",
   "execution_count": 63,
   "id": "e29b5435",
   "metadata": {
    "execution": {
     "iopub.execute_input": "2022-12-07T13:09:10.973846Z",
     "iopub.status.busy": "2022-12-07T13:09:10.973438Z",
     "iopub.status.idle": "2022-12-07T13:09:10.988038Z",
     "shell.execute_reply": "2022-12-07T13:09:10.987004Z"
    },
    "papermill": {
     "duration": 0.043336,
     "end_time": "2022-12-07T13:09:10.990546",
     "exception": false,
     "start_time": "2022-12-07T13:09:10.947210",
     "status": "completed"
    },
    "tags": []
   },
   "outputs": [
    {
     "data": {
      "text/plain": [
       "Age_cat  prod_cat   \n",
       "25-35    Books          3196250.07\n",
       "         Electronics    2913149.07\n",
       "Name: total_amt, dtype: float64"
      ]
     },
     "execution_count": 63,
     "metadata": {},
     "output_type": "execute_result"
    }
   ],
   "source": [
    "customer_25_35.loc['25-35',['Books','Electronics']]"
   ]
  },
  {
   "cell_type": "code",
   "execution_count": 64,
   "id": "d537e625",
   "metadata": {
    "execution": {
     "iopub.execute_input": "2022-12-07T13:09:11.044983Z",
     "iopub.status.busy": "2022-12-07T13:09:11.044583Z",
     "iopub.status.idle": "2022-12-07T13:09:11.054218Z",
     "shell.execute_reply": "2022-12-07T13:09:11.052799Z"
    },
    "papermill": {
     "duration": 0.038831,
     "end_time": "2022-12-07T13:09:11.056070",
     "exception": false,
     "start_time": "2022-12-07T13:09:11.017239",
     "status": "completed"
    },
    "tags": []
   },
   "outputs": [
    {
     "data": {
      "text/plain": [
       "6109399.14"
      ]
     },
     "execution_count": 64,
     "metadata": {},
     "output_type": "execute_result"
    }
   ],
   "source": [
    "customer_25_35.loc['25-35',['Books','Electronics']].sum().round(2)"
   ]
  },
  {
   "cell_type": "code",
   "execution_count": 65,
   "id": "0c33835b",
   "metadata": {
    "execution": {
     "iopub.execute_input": "2022-12-07T13:09:11.108368Z",
     "iopub.status.busy": "2022-12-07T13:09:11.107323Z",
     "iopub.status.idle": "2022-12-07T13:09:11.114500Z",
     "shell.execute_reply": "2022-12-07T13:09:11.113533Z"
    },
    "papermill": {
     "duration": 0.035724,
     "end_time": "2022-12-07T13:09:11.116972",
     "exception": false,
     "start_time": "2022-12-07T13:09:11.081248",
     "status": "completed"
    },
    "tags": []
   },
   "outputs": [],
   "source": [
    "customer_total_amount_25_35 = customer_final[customer_final['Age_cat']=='25-35']"
   ]
  },
  {
   "cell_type": "code",
   "execution_count": null,
   "id": "18e0e461",
   "metadata": {
    "papermill": {
     "duration": 0.024834,
     "end_time": "2022-12-07T13:09:11.167199",
     "exception": false,
     "start_time": "2022-12-07T13:09:11.142365",
     "status": "completed"
    },
    "tags": []
   },
   "outputs": [],
   "source": []
  }
 ],
 "metadata": {
  "kernelspec": {
   "display_name": "Python 3",
   "language": "python",
   "name": "python3"
  },
  "language_info": {
   "codemirror_mode": {
    "name": "ipython",
    "version": 3
   },
   "file_extension": ".py",
   "mimetype": "text/x-python",
   "name": "python",
   "nbconvert_exporter": "python",
   "pygments_lexer": "ipython3",
   "version": "3.7.12"
  },
  "papermill": {
   "default_parameters": {},
   "duration": 16.678998,
   "end_time": "2022-12-07T13:09:11.913114",
   "environment_variables": {},
   "exception": null,
   "input_path": "__notebook__.ipynb",
   "output_path": "__notebook__.ipynb",
   "parameters": {},
   "start_time": "2022-12-07T13:08:55.234116",
   "version": "2.3.4"
  }
 },
 "nbformat": 4,
 "nbformat_minor": 5
}
